{
 "cells": [
  {
   "cell_type": "markdown",
   "id": "635d8ebb",
   "metadata": {},
   "source": [
    "# Windows에서 시작하기\n",
    "\n",
    "## 개요\n",
    "\n",
    "Windows 환경에서 LangChain 패키지를 설치하는 방법을 설명합니다. 필요한 GitHub 저장소를 클론하고, pyenv와 Poetry를 사용하여 작성자와 동일한 패키지를 일괄 설치하며, Visual Studio Code와 Jupyter 확장을 설치하여 쉽게 개발 환경을 구축할 수 있습니다.\n",
    "\n",
    "이 튜토리얼은 [LangChain-OpenTutorial](https://langchain-opentutorial.gitbook.io/langchain-opentutorial/01-basic/01-getting-started-windows)에서 제공하는 원본 튜토리얼을 기반으로 작성되었습니다.  \n",
    "\n",
    "해당 OpenTutorial에서는 Windows 환경에서 개발 환경을 구성하는 방법을 매우 친절하게 설명하고 있어, 이 내용을 포함하였습니다.  \n",
    "원본 튜토리얼은 **영문으로 제공되기 때문에, 이를 한글로 번역하여 공유**합니다. \n",
    "\n",
    "### 목차\n",
    "\n",
    "- [개요](#개요)\n",
    "- [Git 설치](#git-설치)\n",
    "- [pyenv 설치](#pyenv-설치)\n",
    "- [Poetry 설치](#poetry-패키지-관리-도구-설치)\n",
    "- [Visual Studio Code 설치](#visual-studio-code-설치)\n",
    "- [Jupyter 확장 설치](#jupyter-확장-설치)\n",
    "\n",
    "### 참고 자료\n",
    "- [Git 다운로드](https://git-scm.com/download/win)\n",
    "- [Visual Studio Code 다운로드](https://code.visualstudio.com/download)\n",
    "- **[LangChain-OpenTutorial - Getting Started on Windows](https://langchain-opentutorial.gitbook.io/langchain-opentutorial/01-basic/01-getting-started-windows)**\n",
    "----"
   ]
  },
  {
   "cell_type": "markdown",
   "id": "38fe3f6f",
   "metadata": {},
   "source": [
    "## Git 설치\n",
    "[Git 다운로드](https://git-scm.com/download/win)\n",
    "\n",
    "Windows용 64비트 Git 설치 프로그램을 다운로드하세요.\n",
    "\n",
    "![git-download](./assets/01-follow-the-installation-video-windows-01.png)"
   ]
  },
  {
   "cell_type": "markdown",
   "id": "8e520000",
   "metadata": {},
   "source": []
  },
  {
   "cell_type": "markdown",
   "id": "5189c83b",
   "metadata": {},
   "source": [
    "설치 과정에서 옵션을 확인한 후 진행하세요.\n",
    "\n",
    "![](./assets/01-follow-the-installation-video-windows-02.png)"
   ]
  },
  {
   "cell_type": "markdown",
   "id": "a91429c1",
   "metadata": {},
   "source": [
    "나머지 단계에서는 **Next** 버튼을 계속 눌러 설치를 진행하세요.\n",
    "\n",
    "![](./assets/01-follow-the-installation-video-windows-03.png)"
   ]
  },
  {
   "cell_type": "markdown",
   "id": "a49c86df",
   "metadata": {},
   "source": [
    "Windows 키를 눌러 PowerShell을 관리자 권한으로 실행하세요.\n",
    "\n",
    "아래 명령어를 입력하고 실행 결과가 이미지와 동일한지 확인하세요.\n",
    "\n",
    "```powershell1\n",
    "git\n",
    "```\n",
    "\n",
    "![](./assets/01-follow-the-installation-video-windows-04.png)\n"
   ]
  },
  {
   "cell_type": "markdown",
   "id": "459858ca",
   "metadata": {},
   "source": [
    "### PowerShell 정책 적용  \n",
    "\n",
    "1. **Windows PowerShell**을 **관리자 권한**으로 실행하세요.  \n",
    "\n",
    "2. 다음 명령어를 입력하여 정책을 적용합니다.  \n",
    "\n",
    "   ```powershell\n",
    "   Set-ExecutionPolicy RemoteSigned -Scope CurrentUser -Force\n",
    "   ```  \n",
    "\n",
    "3. 적용이 완료되면 **Windows PowerShell을 종료한 후 다시 실행**하세요.  \n",
    "\n",
    "4. 이후 과정에서도 **PowerShell을 관리자 권한으로 실행**하여 명령어를 실행하세요."
   ]
  },
  {
   "cell_type": "markdown",
   "id": "8773e420",
   "metadata": {},
   "source": [
    "## pyenv 설치  \n",
    "\n",
    "Python을 설치하기 전에 **pyenv**를 먼저 설치하세요.  \n",
    "**pyenv**는 패키지 간 충돌을 방지하기 위해 가상 환경을 설정하는 도구입니다.  \n",
    "\n",
    "아래 명령어를 입력하여 **pyenv**를 설치하세요.  \n",
    "\n",
    "```powershell\n",
    "git clone https://github.com/pyenv-win/pyenv-win.git \"$env:USERPROFILE\\.pyenv\"\n",
    "```"
   ]
  },
  {
   "cell_type": "markdown",
   "id": "bcc00279",
   "metadata": {},
   "source": [
    "### 환경 변수 추가  \n",
    "\n",
    "1. 아래 내용을 **복사하여 붙여넣고 실행**하세요.  \n",
    "\n",
    "   ```powershell\n",
    "   [System.Environment]::SetEnvironmentVariable('PYENV', $env:USERPROFILE + \"\\.pyenv\\pyenv-win\\\", \"User\")\n",
    "   [System.Environment]::SetEnvironmentVariable('PYENV_ROOT', $env:USERPROFILE + \"\\.pyenv\\pyenv-win\\\", \"User\")\n",
    "   [System.Environment]::SetEnvironmentVariable('PYENV_HOME', $env:USERPROFILE + \"\\.pyenv\\pyenv-win\\\", \"User\")\n",
    "   ```\n",
    "\n",
    "2. 아래 내용을 **복사하여 붙여넣고 실행**하세요.  \n",
    "\n",
    "   ```powershell\n",
    "   [System.Environment]::SetEnvironmentVariable('PATH', $env:USERPROFILE + \"\\.pyenv\\pyenv-win\\bin;\" + $env:USERPROFILE + \"\\.pyenv\\pyenv-win\\shims;\" + [System.Environment]::GetEnvironmentVariable('PATH', \"User\"), \"User\")\n",
    "   ```\n",
    "\n",
    "3. **Windows PowerShell을 종료한 후 다시 실행**하세요.  \n",
    "\n",
    "4. 아래 명령어를 입력하여 정상적으로 적용되었는지 확인하세요.  \n",
    "\n",
    "   ```powershell\n",
    "   pyenv\n",
    "   ```\n",
    "\n",
    "   ![](./assets/01-follow-the-installation-video-windows-05.png)"
   ]
  },
  {
   "cell_type": "markdown",
   "id": "3abfe733",
   "metadata": {},
   "source": [
    "### Python 설치  \n",
    "\n",
    "1. **Python 3.11 버전 설치**  \n",
    "   ```powershell\n",
    "   pyenv install 3.11\n",
    "   ```  \n",
    "\n",
    "2. **기본 실행 환경을 Python 3.11로 설정**  \n",
    "   ```powershell\n",
    "   pyenv global 3.11\n",
    "   ```  \n",
    "\n",
    "3. **Python 버전 확인**  \n",
    "   ```powershell\n",
    "   python --version\n",
    "   ```  \n",
    "\n",
    "4. **Python 버전이 3.11.9 또는 3.11.11인지 확인**하세요."
   ]
  },
  {
   "cell_type": "markdown",
   "id": "6eef27ed",
   "metadata": {},
   "source": [
    "## Poetry 패키지 관리 도구 설치  \n",
    "\n",
    "1. **Poetry 설치**  \n",
    "   ```powershell\n",
    "   pip3 install poetry\n",
    "   ```  \n",
    "\n",
    "2. **LangChain-OpenTutorial 저장소 이동 및 클론**  \n",
    "   - https://github.com/LangChain-OpenTutorial/LangChain-OpenTutorial.git\n",
    "   \n",
    "  \n",
    "\n",
    "3. **Documents 폴더로 이동**  \n",
    "   ```powershell\n",
    "   cd ~/Documents\n",
    "   ```  \n",
    "\n",
    "4. **소스 코드 가져오기**  \n",
    "   ```powershell\n",
    "   git clone https://github.com/LangChain-OpenTutorial/LangChain-OpenTutorial.git\n",
    "   \n",
    "   ```  \n",
    "\n",
    "5. **저장소 디렉터리로 이동**  \n",
    "   ```powershell\n",
    "   cd RAG-GUIDE\n",
    "   ```  \n",
    "\n",
    "6. **Python 가상 환경 설정**  \n",
    "   ```powershell\n",
    "   poetry shell\n",
    "   ```  \n",
    "\n",
    "7. **Python 패키지 일괄 업데이트**  \n",
    "   ```powershell\n",
    "   poetry update\n",
    "   ```  "
   ]
  },
  {
   "cell_type": "markdown",
   "id": "fb9bf1a4",
   "metadata": {},
   "source": [
    "## Visual Studio Code 설치\n"
   ]
  },
  {
   "cell_type": "markdown",
   "id": "efb44c79",
   "metadata": {},
   "source": [
    "Visual Studio Code 다운로드 및 Jupyter 확장 설치  \n",
    "\n",
    "1. **Visual Studio Code 다운로드**  \n",
    "   - [Visual Studio Code 다운로드](https://code.visualstudio.com/download)  \n",
    "\n",
    "2. **다운로드한 Visual Studio Code 설치**  \n",
    "   - 설치 파일을 실행하여 **Applications 폴더에 복사**하세요.  \n",
    "\n",
    "3. **Jupyter 확장 설치**  \n",
    "   - **왼쪽 확장(Extensions) 메뉴에서 ‘Jupyter’ 검색 후 설치**  \n",
    "\n",
    "   ![](./assets/01-follow-the-installation-video-windows-06.png)"
   ]
  },
  {
   "cell_type": "markdown",
   "id": "83d19633",
   "metadata": {},
   "source": [
    "## Jupyter 확장 설치  \n",
    "\n",
    "1. **Python 확장 설치**  \n",
    "   - Visual Studio Code에서 **확장(Extensions) 메뉴**를 열고  \n",
    "   - **\"python\"을 검색하여 설치**  \n",
    "\n",
    "   ![](./assets/01-follow-the-installation-video-windows-07.png)  \n",
    "\n",
    "2. **Jupyter 확장 설치**  \n",
    "   - Visual Studio Code에서 **확장(Extensions) 메뉴**를 열고  \n",
    "   - **\"jupyter\"를 검색하여 설치**  \n",
    "\n",
    "   ![](./assets/01-follow-the-installation-video-windows-08.png)  \n",
    "\n",
    "3. **Visual Studio Code 종료 후 다시 실행**  \n",
    "\n",
    "4. **커널 선택**  \n",
    "   - **오른쪽 상단 \"Select Kernel\" 버튼을 클릭**  \n",
    "   - 설치한 Python 가상 환경 선택  \n",
    "   - 가상 환경이 표시되지 않으면 **Visual Studio Code를 종료하고 다시 실행**하세요."
   ]
  }
 ],
 "metadata": {
  "kernelspec": {
   "display_name": "3.11.11",
   "language": "python",
   "name": "python3"
  },
  "language_info": {
   "codemirror_mode": {
    "name": "ipython",
    "version": 3
   },
   "file_extension": ".py",
   "mimetype": "text/x-python",
   "name": "python",
   "nbconvert_exporter": "python",
   "pygments_lexer": "ipython3",
   "version": "3.11.11"
  }
 },
 "nbformat": 4,
 "nbformat_minor": 5
}
