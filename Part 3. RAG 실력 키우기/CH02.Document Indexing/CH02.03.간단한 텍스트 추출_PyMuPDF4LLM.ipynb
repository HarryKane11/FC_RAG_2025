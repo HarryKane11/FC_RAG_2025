{
 "cells": [
  {
   "cell_type": "markdown",
   "metadata": {},
   "source": [
    "### PyMuPDF4LLM"
   ]
  },
  {
   "cell_type": "markdown",
   "metadata": {},
   "source": [
    "Pymupdf4llm 공식문서 링크입니다.\n",
    "\n",
    "https://pymupdf.readthedocs.io/en/latest/pymupdf4llm/api.html#pymupdf4llm-api"
   ]
  },
  {
   "cell_type": "code",
   "execution_count": 1,
   "metadata": {},
   "outputs": [],
   "source": [
    "# %pip install pymupdf4llm"
   ]
  },
  {
   "cell_type": "code",
   "execution_count": null,
   "metadata": {},
   "outputs": [],
   "source": [
    "import pymupdf4llm\n",
    "md_text = pymupdf4llm.to_markdown(\"data/arxiv_paper.pdf\")"
   ]
  },
  {
   "cell_type": "code",
   "execution_count": null,
   "metadata": {},
   "outputs": [],
   "source": [
    "# Pymupdf4llm이 파싱한 결과를 md 파일로 저장합니다.\n",
    "import pathlib\n",
    "pathlib.Path(\"pymupdf4llm_AI.md\").write_bytes(md_text.encode())"
   ]
  },
  {
   "cell_type": "code",
   "execution_count": null,
   "metadata": {},
   "outputs": [],
   "source": [
    "import pymupdf4llm\n",
    "#파일의 일부분만 추출하여 마크다운 변환할 수 있습니다.\n",
    "md_text = pymupdf4llm.to_markdown(\n",
    "    \"data/arxiv_paper.pdf\",\n",
    "    pages=[0, 1, 2], \n",
    "    hdr_info=False,\n",
    "    ignore_code=True\n",
    ")\n",
    "\n",
    "print(md_text)"
   ]
  },
  {
   "cell_type": "markdown",
   "metadata": {},
   "source": [
    "#### VLM에 캡셔닝 작업을 전달하기 전에 정보량이 풍부한 이미지만 남기기"
   ]
  },
  {
   "cell_type": "markdown",
   "metadata": {},
   "source": [
    "이제 EasyOCR을 활용해 이미지 속 텍스트의 수를 기준으로 정보량이 풍부한 이미지와 그렇지 않은 이미지를 구분할 수 있습니다.\n",
    "\n",
    "그 이후는 VLM 추론을 통해 이미지 캡션을 수행하면 됩니다."
   ]
  },
  {
   "cell_type": "code",
   "execution_count": null,
   "metadata": {},
   "outputs": [],
   "source": [
    "# %pip install easyocr"
   ]
  },
  {
   "cell_type": "code",
   "execution_count": null,
   "metadata": {},
   "outputs": [],
   "source": [
    "md_data = pymupdf4llm.to_markdown(\n",
    "    \"data/국가별 공공부문 AI 도입 및 활용 전략.pdf\",\n",
    "    page_chunks=True,\n",
    "    write_images=True,\n",
    "    image_path=\"PyMuPDF4LLM_AI\",       # 저장 경로 지정\n",
    "    image_format=\"png\",          # 저장 포맷\n",
    "    dpi=200,\n",
    "    image_size_limit=0.02        # 2% 이하 크기 이미지 제외\n",
    ")"
   ]
  },
  {
   "cell_type": "markdown",
   "metadata": {},
   "source": [
    "EasyOCR을 통해 이미지 내 글자를 인식하고, 글자수가 충분한 경우에만 VLM에 넘기도록 처리하는 로직입니다."
   ]
  },
  {
   "cell_type": "code",
   "execution_count": null,
   "metadata": {},
   "outputs": [],
   "source": [
    "import os\n",
    "from PIL import Image\n",
    "import numpy as np\n",
    "import easyocr\n",
    "\n",
    "# EasyOCR reader\n",
    "reader = easyocr.Reader(['ko', 'en'], gpu=True)\n",
    "\n",
    "# 이미지 폴더 경로\n",
    "image_folder = \"output_images\"\n",
    "\n",
    "# 결과 저장용 리스트\n",
    "rich_images = []   # 정보 풍부\n",
    "poor_images = []   # 정보 부족\n",
    "\n",
    "# 폴더 내 이미지 순회\n",
    "for filename in os.listdir(image_folder):\n",
    "    if filename.lower().endswith(('.png', '.jpg', '.jpeg')):\n",
    "        img_path = os.path.join(image_folder, filename)\n",
    "\n",
    "        try:\n",
    "            # 이미지 불러오기\n",
    "            img = Image.open(img_path).convert(\"RGB\")\n",
    "            img_np = np.array(img)\n",
    "\n",
    "            # OCR 수행\n",
    "            results = reader.readtext(img_np)\n",
    "\n",
    "            texts = [res[1] for res in results]\n",
    "            total_text = ''.join(texts)\n",
    "\n",
    "            # 조건 검사\n",
    "            if len(texts) >= 3 and len(total_text) >= 30:\n",
    "                rich_images.append((filename, len(texts), len(total_text)))\n",
    "            else:\n",
    "                poor_images.append((filename, len(texts), len(total_text)))\n",
    "\n",
    "        except Exception as e:\n",
    "            print(f\"❌ 오류 발생 - {filename}: {e}\")\n",
    "\n",
    "# 결과 출력\n",
    "print(\"\\n📘 정보량 많은 이미지:\")\n",
    "for name, blocks, chars in rich_images:\n",
    "    print(f\"✔ {name} - 블럭 {blocks}개, 총 글자수 {chars}\")\n",
    "\n",
    "print(\"\\n📄 정보 부족한 이미지:\")\n",
    "for name, blocks, chars in poor_images:\n",
    "    print(f\"✖ {name} - 블럭 {blocks}개, 총 글자수 {chars}\")\n"
   ]
  }
 ],
 "metadata": {
  "kernelspec": {
   "display_name": "test_venv",
   "language": "python",
   "name": "python3"
  },
  "language_info": {
   "codemirror_mode": {
    "name": "ipython",
    "version": 3
   },
   "file_extension": ".py",
   "mimetype": "text/x-python",
   "name": "python",
   "nbconvert_exporter": "python",
   "pygments_lexer": "ipython3",
   "version": "3.11.10"
  }
 },
 "nbformat": 4,
 "nbformat_minor": 2
}
