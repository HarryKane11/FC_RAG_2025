{
 "cells": [
  {
   "cell_type": "markdown",
   "metadata": {},
   "source": [
    "### Markitdown"
   ]
  },
  {
   "cell_type": "markdown",
   "metadata": {},
   "source": [
    "Markitdown은 여러 문서 확장자별 파싱 라이브러리를 활용하여 정제된 마크다운으로 변환해줍니다.\n",
    "\n",
    "딥러닝/머신러닝 모델이 활용되지 않으므로 그만큼 성능에 있어서 Docling이나 Miner-U 대비 낮습니다.\n",
    "\n",
    "그러나 단순 여러 파싱 라이브러리를 잘 조합한 라이브러리이기 때문에 단순하고 빠릅니다.\n",
    "\n",
    "복잡한 문서를 처리할 일이 적고, 빠르게 많은 양의 문서를 마크다운 형식으로 통일할 경우 유용하여 매우 큰 인기를 끌고 있습니다."
   ]
  },
  {
   "cell_type": "code",
   "execution_count": null,
   "metadata": {},
   "outputs": [],
   "source": [
    "%pip install -U markitdown "
   ]
  },
  {
   "cell_type": "markdown",
   "metadata": {},
   "source": [
    "#### PDF를 마크다운으로 변환하기"
   ]
  },
  {
   "cell_type": "code",
   "execution_count": null,
   "metadata": {},
   "outputs": [],
   "source": [
    "from markitdown import MarkItDown\n",
    "\n",
    "source = \"data/국가별 공공부문 AI 도입 및 활용 전략.pdf\"  # document per local path or URL\n",
    "\n",
    "md = MarkItDown() # Set to True to enable plugins\n",
    "result = md.convert(source)\n",
    "print(result.text_content)"
   ]
  },
  {
   "cell_type": "code",
   "execution_count": null,
   "metadata": {},
   "outputs": [],
   "source": [
    "from IPython.display import Markdown\n",
    "\n",
    "display(Markdown(result.text_content))"
   ]
  },
  {
   "cell_type": "code",
   "execution_count": null,
   "metadata": {},
   "outputs": [],
   "source": [
    "source = \"data/arxiv_paper.pdf\"  # document per local path or URL\n",
    "\n",
    "md = MarkItDown() # Set to True to enable plugins\n",
    "result = md.convert(source)\n",
    "print(result.text_content)"
   ]
  },
  {
   "cell_type": "code",
   "execution_count": null,
   "metadata": {},
   "outputs": [],
   "source": [
    "print(result.text_content)"
   ]
  },
  {
   "cell_type": "markdown",
   "metadata": {},
   "source": [
    "#### DOCX 워드 파일을 마크다운으로 변환하기"
   ]
  },
  {
   "cell_type": "code",
   "execution_count": null,
   "metadata": {},
   "outputs": [],
   "source": [
    "source = \"data/BCG_hiring.docx\"  # document per local path or URL\n",
    "\n",
    "md = MarkItDown() # Set to True to enable plugins\n",
    "result = md.convert(source)\n",
    "print(result.text_content)"
   ]
  },
  {
   "cell_type": "markdown",
   "metadata": {},
   "source": [
    "#### 이미지에서 마크다운 형태의 주석 생성하기"
   ]
  },
  {
   "cell_type": "code",
   "execution_count": null,
   "metadata": {},
   "outputs": [],
   "source": [
    "from dotenv import load_dotenv\n",
    "load_dotenv()\n",
    "\n",
    "from markitdown import MarkItDown\n",
    "from openai import OpenAI\n",
    "\n",
    "client = OpenAI()\n",
    "md = MarkItDown(llm_client=client, llm_model=\"gpt-4.1\")\n",
    "result = md.convert(\"data/docling_processing.png\")\n",
    "print(result.text_content)"
   ]
  },
  {
   "cell_type": "markdown",
   "metadata": {},
   "source": [
    "#### EXCEL 파일 마크다운 변환"
   ]
  },
  {
   "cell_type": "code",
   "execution_count": null,
   "metadata": {},
   "outputs": [],
   "source": [
    "from markitdown import MarkItDown\n",
    "\n",
    "source = \"data/EHR_2.xlsx\"  # document per local path or URL\n",
    "\n",
    "md = MarkItDown() # Set to True to enable plugins\n",
    "result = md.convert(source)\n",
    "print(result.text_content)"
   ]
  }
 ],
 "metadata": {
  "kernelspec": {
   "display_name": "test_venv",
   "language": "python",
   "name": "python3"
  },
  "language_info": {
   "codemirror_mode": {
    "name": "ipython",
    "version": 3
   },
   "file_extension": ".py",
   "mimetype": "text/x-python",
   "name": "python",
   "nbconvert_exporter": "python",
   "pygments_lexer": "ipython3",
   "version": "3.11.10"
  }
 },
 "nbformat": 4,
 "nbformat_minor": 2
}
