{
 "cells": [
  {
   "cell_type": "markdown",
   "metadata": {},
   "source": [
    "## LangGraph 기반 Multiquery Retriever RAG 시스템\n",
    "\n",
    "## 🤔 왜 Multi-Query Retriever가 필요한가?\n",
    "\n",
    "### 기존 RAG 시스템의 한계점\n",
    "- **단일 쿼리의 제약**: 사용자의 질문이 모호하거나 불완전할 때 관련 문서를 놓칠 수 있음\n",
    "- **의미적 표현의 다양성**: 같은 의미라도 다양한 표현 방식으로 인해 검색 성능이 제한됨\n",
    "- **검색 범위의 한계**: 하나의 쿼리로는 복합적인 정보 요구사항을 충족하기 어려움\n",
    "\n",
    "### Multi-Query Retriever의 장점\n",
    "✅ **검색 범위 확장**: 여러 관점에서 동일한 정보를 검색하여 누락 방지  \n",
    "✅ **의미적 다양성**: 다양한 표현으로 쿼리를 생성하여 검색 정확도 향상  \n",
    "✅ **컨텍스트 풍부화**: 다각도의 검색 결과를 통합하여 더 완전한 답변 생성  \n",
    "✅ **견고성 증대**: 단일 쿼리 실패 시에도 다른 쿼리들이 보완 역할 수행\n",
    "\n",
    "## 📋 시스템 개요\n",
    "이 시스템은 다음과 같은 컴포넌트들로 구성됩니다:\n",
    "\n",
    "1. **PDF 문서 로딩** (PyPDF)\n",
    "2. **문서 청킹 및 임베딩** (LangChain + Ollama)\n",
    "3. **벡터 저장소** (Qdrant)\n",
    "4. **멀티쿼리 생성** (Gemma 3) - 핵심 개선 포인트\n",
    "5. **워크플로우 관리** (LangGraph)\n",
    "6. **검색 및 생성** (LangGraph)"
   ]
  },
  {
   "cell_type": "markdown",
   "metadata": {
    "vscode": {
     "languageId": "raw"
    }
   },
   "source": [
    "## 1. 환경 설정\n",
    "\n",
    "기본적인 라이브러리 임포트와 환경 변수 로딩을 수행합니다. 경고 메시지를 비활성화하여 출력을 깔끔하게 유지합니다.\n"
   ]
  },
  {
   "cell_type": "code",
   "execution_count": 1,
   "metadata": {},
   "outputs": [],
   "source": [
    "# 셀 1: 기본 환경 설정\n",
    "import os\n",
    "import warnings\n",
    "from dotenv import load_dotenv\n",
    "load_dotenv()\n",
    "warnings.filterwarnings('ignore')"
   ]
  },
  {
   "cell_type": "markdown",
   "metadata": {
    "vscode": {
     "languageId": "raw"
    }
   },
   "source": [
    "## 2. PDF 문서 로딩\n",
    "\n",
    "데이터 폴더에서 PDF 파일들을 로딩하고 각 문서에 메타데이터를 추가합니다. PyPDFLoader를 사용하여 PDF 파일을 페이지 단위로 분할하여 처리합니다.\n"
   ]
  },
  {
   "cell_type": "code",
   "execution_count": 2,
   "metadata": {},
   "outputs": [
    {
     "name": "stdout",
     "output_type": "stream",
     "text": [
      "📄 로딩 중: 질병관리청_2025년_성과관리_시행계획.pdf\n",
      "📄 로딩 중: 질병관리청_2025년_주요업무_추진계획.pdf\n",
      "📄 로딩 중: 질병관리청_전세계_감염병_발생_동향_2025년.pdf\n",
      "✅ 총 301개의 문서 페이지가 로딩되었습니다.\n"
     ]
    }
   ],
   "source": [
    "# 셀 2: PDF 문서 로딩을 위한 라이브러리\n",
    "from langchain_community.document_loaders import PyPDFLoader\n",
    "from typing import List\n",
    "import glob\n",
    "\n",
    "def load_pdf_documents(data_folder: str) -> List:\n",
    "    \"\"\"\n",
    "    PDF 문서들을 로딩하는 함수\n",
    "    \n",
    "    Args:\n",
    "        data_folder: PDF 파일들이 있는 폴더 경로\n",
    "    \n",
    "    Returns:\n",
    "        로딩된 문서들의 리스트\n",
    "    \"\"\"\n",
    "    documents = []\n",
    "    \n",
    "    # PDF 파일 목록 가져오기\n",
    "    pdf_files = glob.glob(f\"{data_folder}/*.pdf\")\n",
    "    \n",
    "    for pdf_path in pdf_files:\n",
    "        print(f\"📄 로딩 중: {os.path.basename(pdf_path)}\")\n",
    "        \n",
    "        # PyPDF를 사용하여 PDF 로딩\n",
    "        loader = PyPDFLoader(pdf_path)\n",
    "        file_documents = loader.load()\n",
    "        \n",
    "        # 문서에 출처 정보 추가\n",
    "        for doc in file_documents:\n",
    "            doc.metadata['source_file'] = os.path.basename(pdf_path)\n",
    "            \n",
    "        documents.extend(file_documents)\n",
    "    \n",
    "    print(f\"✅ 총 {len(documents)}개의 문서 페이지가 로딩되었습니다.\")\n",
    "    return documents\n",
    "\n",
    "# 사용 예시\n",
    "documents = load_pdf_documents(\"./data/agentic_retrieval/medical\")"
   ]
  },
  {
   "cell_type": "markdown",
   "metadata": {
    "vscode": {
     "languageId": "raw"
    }
   },
   "source": [
    "## 3. 문서 길이 분포 분석 및 시각화\n",
    "\n",
    "로딩된 PDF 문서들의 페이지별 내용 길이를 분석하고 히스토그램으로 시각화합니다. 이를 통해 문서의 특성을 파악하고 청킹 전략을 수립할 수 있습니다.\n"
   ]
  },
  {
   "cell_type": "code",
   "execution_count": 3,
   "metadata": {},
   "outputs": [
    {
     "data": {
      "image/png": "[encoded data removed]",
      "text/plain": [
       "<Figure size 1000x600 with 1 Axes>"
      ]
     },
     "metadata": {},
     "output_type": "display_data"
    },
    {
     "name": "stdout",
     "output_type": "stream",
     "text": [
      "평균 길이: 801 문자\n",
      "최소 길이: 21 문자\n",
      "최대 길이: 2013 문자\n",
      "총 페이지 수: 301개\n"
     ]
    }
   ],
   "source": [
    "import matplotlib.pyplot as plt\n",
    "import matplotlib.font_manager as fm\n",
    "\n",
    "# 한글 폰트 설정\n",
    "plt.rcParams['font.family'] = 'DejaVu Sans'\n",
    "try:\n",
    "    # 시스템에 설치된 한글 폰트 찾기\n",
    "    font_list = [f.name for f in fm.fontManager.ttflist]\n",
    "    korean_fonts = ['Malgun Gothic', 'NanumGothic', 'AppleGothic', 'Noto Sans CJK KR']\n",
    "    \n",
    "    for font in korean_fonts:\n",
    "        if font in font_list:\n",
    "            plt.rcParams['font.family'] = font\n",
    "            break\n",
    "except:\n",
    "    pass\n",
    "\n",
    "# 마이너스 기호 깨짐 방지\n",
    "plt.rcParams['axes.unicode_minus'] = False\n",
    "\n",
    "# 각 문서 페이지의 길이 계산\n",
    "page_lengths = [len(i.page_content) for i in documents]\n",
    "\n",
    "# 히스토그램으로 문서 길이 분포 시각화\n",
    "plt.figure(figsize=(10, 6))\n",
    "plt.hist(page_lengths, bins=20, edgecolor='black', alpha=0.7)\n",
    "plt.xlabel('페이지 내용 길이 (문자 수)')\n",
    "plt.ylabel('빈도')\n",
    "plt.title('PDF 문서 페이지별 내용 길이 분포')\n",
    "plt.grid(True, alpha=0.3)\n",
    "plt.show()\n",
    "\n",
    "# 기본 통계 정보 출력\n",
    "print(f\"평균 길이: {sum(page_lengths)/len(page_lengths):.0f} 문자\")\n",
    "print(f\"최소 길이: {min(page_lengths)} 문자\")\n",
    "print(f\"최대 길이: {max(page_lengths)} 문자\")\n",
    "print(f\"총 페이지 수: {len(page_lengths)}개\")"
   ]
  },
  {
   "cell_type": "markdown",
   "metadata": {
    "vscode": {
     "languageId": "raw"
    }
   },
   "source": [
    "## 4. 임베딩 모델 및 벡터 데이터베이스 설정\n",
    "\n",
    "Ollama의 BGE-M3 임베딩 모델을 초기화하고 Qdrant 벡터 데이터베이스에 문서들을 저장합니다. 저장된 문서에 대해 간단한 검색 테스트를 수행하여 시스템이 정상 작동하는지 확인합니다.\n"
   ]
  },
  {
   "cell_type": "code",
   "execution_count": 4,
   "metadata": {},
   "outputs": [
    {
     "name": "stdout",
     "output_type": "stream",
     "text": [
      "🔄 문서 임베딩 및 저장 중...\n",
      "✅ 301개 문서가 벡터 저장소에 추가되었습니다.\n",
      "\n",
      "🔍 테스트 검색 결과 (쿼리: '자율주행 시스템'):\n",
      "1. - 79 -\n",
      "자적 운영체계 MB.OS를 개발하고 있으며, 2025년 공개할 신규 플랫폼 MMA(Mercedes Modular Architecture)와  MB.OS 1.0를 모든 ...\n",
      "2. - 8 -\n",
      "자율주행 시스템은 인지·판단·제어 프로세스에 따라 센서 융합, AI 알고리즘, 실시간 데이터 처리 기술을 활용해 주변 환경을 인식하고 반응하며, 잠재적인 시나리오를 예측...\n",
      "3. - 86 -\n",
      "자율비행 기술은 자율주행 기술과 유사하게 GPS, 카메라, 라이다 등 다양한 센서 및 통신 연결을 통해 실시간 정보를 수집하여 위치 및 주변 환경을 인식한 이후에 최적...\n"
     ]
    }
   ],
   "source": [
    "# 셀 4: 임베딩 및 벡터 데이터베이스 설정\n",
    "from langchain_ollama import OllamaEmbeddings\n",
    "from langchain_qdrant import QdrantVectorStore, RetrievalMode\n",
    "from qdrant_client import QdrantClient\n",
    "from qdrant_client.models import Distance, VectorParams\n",
    "\n",
    "# Ollama 임베딩 모델 초기화\n",
    "embeddings = OllamaEmbeddings(\n",
    "    model=\"bge-m3\"\n",
    ")\n",
    "\n",
    "client = QdrantClient(\"localhost\", port=6333)\n",
    "\n",
    "try:\n",
    "    client.create_collection(\n",
    "        collection_name=\"multi_query\",\n",
    "        vectors_config={\"dense\": VectorParams(size=1024, distance=Distance.COSINE)}\n",
    "    )\n",
    "except:\n",
    "    pass\n",
    "# LangChain QdrantVectorStore 초기화\n",
    "vector_store = QdrantVectorStore(\n",
    "    client=client,\n",
    "    collection_name=\"multi_query\",\n",
    "    embedding=embeddings,\n",
    "    retrieval_mode=RetrievalMode.DENSE,\n",
    "    vector_name=\"dense\",\n",
    ")\n",
    "\n",
    "# 문서를 벡터 저장소에 추가\n",
    "print(\"🔄 문서 임베딩 및 저장 중...\")\n",
    "vector_store.add_documents(documents)\n",
    "print(f\"✅ {len(documents)}개 문서가 벡터 저장소에 추가되었습니다.\")\n",
    "\n"
   ]
  },
  {
   "cell_type": "code",
   "execution_count": 5,
   "metadata": {},
   "outputs": [
    {
     "name": "stdout",
     "output_type": "stream",
     "text": [
      "\n",
      "🔍 테스트 검색 결과 (쿼리: '감염병 관리 시스템'):\n",
      "1. - 99 -\n",
      "□ 기대효과 ㅇ 감염병 관리체계 강화로 인한 주요 감염병 예방·관리 강화-홍역‧폴리오 등 WHO퇴치 및 박멸 인증국 지위 유지-바이러스 간염 관리 기본계획 추진을 통한...\n",
      "2. - 61 -\n",
      " 근거 기반 정책 수립을 위한 감염병 데이터 활용 체계 강화(Ⅰ-2-②)국정기조 등 연계ㅇ 국가 감염병 거버넌스 및 방역 대응 체계 선진화(국정 2-2)ㅇ 다층적 감...\n",
      "3. - 187 -\n",
      " 의료관련감염 예방관리 체계 강화(Ⅱ-3-④)국정기조 등 연계ㅇ 국가 감염병 거버넌스 및 방역 대응 체계 선진화(국정 2-2)ㅇ 의료관련 감염, 항생제 내성으로부터...\n"
     ]
    }
   ],
   "source": [
    "# 검색 테스트\n",
    "test_query = \"감염병 관리 시스템\"\n",
    "search_results = vector_store.similarity_search(test_query, k=3)\n",
    "print(f\"\\n🔍 테스트 검색 결과 (쿼리: '{test_query}'):\")\n",
    "for i, doc in enumerate(search_results, 1):\n",
    "    print(f\"{i}. {doc.page_content[:100]}...\")"
   ]
  },
  {
   "cell_type": "markdown",
   "metadata": {
    "vscode": {
     "languageId": "raw"
    }
   },
   "source": [
    "## 5. LLM 모델 초기화\n",
    "\n",
    "ChatOllama를 사용하여 Gemma3 4B 모델을 초기화합니다. 이 모델은 멀티쿼리 생성과 최종 답변 생성에 사용됩니다.\n"
   ]
  },
  {
   "cell_type": "code",
   "execution_count": 6,
   "metadata": {},
   "outputs": [],
   "source": [
    "from langchain_ollama import ChatOllama\n",
    "\n",
    "gemma=ChatOllama(model=\"gemma3:4b\")"
   ]
  },
  {
   "cell_type": "markdown",
   "metadata": {
    "vscode": {
     "languageId": "raw"
    }
   },
   "source": [
    "## 6. 멀티쿼리 생성기 구현\n",
    "\n",
    "원본 질문을 다양한 관점에서 재구성하여 여러 개의 검색 쿼리를 생성하는 시스템을 구현합니다. \n",
    "\n",
    "LineListOutputParser를 사용하여 LLM 출력을 파싱하고, 프롬프트 템플릿을 통해 일관된 쿼리 생성을 보장합니다.\n"
   ]
  },
  {
   "cell_type": "code",
   "execution_count": 7,
   "metadata": {},
   "outputs": [],
   "source": [
    "# 셀 6: 멀티쿼리 생성을 위한 프롬프트와 함수\n",
    "from langchain_core.output_parsers import BaseOutputParser\n",
    "from langchain_core.prompts import PromptTemplate\n",
    "from typing import List\n",
    "\n",
    "# Output parser will split the LLM result into a list of queries\n",
    "class LineListOutputParser(BaseOutputParser[List[str]]):\n",
    "    \"\"\"Output parser for a list of lines.\"\"\"\n",
    "\n",
    "    def parse(self, text: str) -> List[str]:\n",
    "        lines = text.strip().split(\"\\n\")\n",
    "        return list(filter(None, lines))  # Remove empty lines\n",
    "\n",
    "def create_multiquery_generator(llm, num_queries=3):\n",
    "    \"\"\"멀티쿼리 생성기 생성\"\"\"\n",
    "    \n",
    "    # Output parser 초기화\n",
    "    output_parser = LineListOutputParser()\n",
    "    \n",
    "    # 멀티쿼리 생성 프롬프트\n",
    "    QUERY_PROMPT = PromptTemplate(\n",
    "        input_variables=[\"question\", \"num_queries\"],\n",
    "        template=\"\"\"당신은 AI 어시스턴트입니다. 사용자의 질문을 다양한 관점에서 재구성하여 \n",
    "                    더 포괄적인 검색이 가능하도록 도와주세요. 거리 기반 유사도 검색의 한계를 극복하기 위해 \n",
    "                    원본 질문에 대한 다양한 관점의 질문들을 {num_queries}개 생성해주세요.\n",
    "\n",
    "                    각 질문은 줄바꿈으로 구분하여 제공해주세요.\n",
    "                    원본 질문: {question}\n",
    "                    {num_queries}개의 질문:\n",
    "                    (print from here)\n",
    "                    \"\"\"\n",
    "    )\n",
    "    \n",
    "    # 멀티쿼리 생성 체인 생성 (이것이 Runnable입니다)\n",
    "    multiquery_chain = QUERY_PROMPT | llm | output_parser\n",
    "    \n",
    "    print(f\"🔍 멀티쿼리 생성기 설정 완료 (질문 수: {num_queries}개)\")\n",
    "    return multiquery_chain\n"
   ]
  },
  {
   "cell_type": "code",
   "execution_count": 8,
   "metadata": {},
   "outputs": [
    {
     "name": "stdout",
     "output_type": "stream",
     "text": [
      "🔍 멀티쿼리 생성기 설정 완료 (질문 수: 5개)\n"
     ]
    },
    {
     "data": {
      "text/plain": [
       "['감염병 확산 방지를 위한 시스템 구축 방안은 무엇인가?',\n",
       " '감염병 발생 시 신속한 대응을 위한 시스템의 효과적인 운영 모델은 무엇인가?',\n",
       " '감염병 관리 시스템의 기술적 요소(데이터 분석, 예측 모델 등)는 어떻게 구성되어야 하는가?',\n",
       " '감염병 관리 시스템 구축 시 고려해야 할 사회적, 윤리적 문제점은 무엇인가?',\n",
       " '감염병 관리 시스템의 효율성을 평가하고 개선하기 위한 지표는 무엇인가?']"
      ]
     },
     "execution_count": 8,
     "metadata": {},
     "output_type": "execute_result"
    }
   ],
   "source": [
    "# 멀티쿼리 생성기 생성\n",
    "multiquery_generator = create_multiquery_generator(gemma, 5)\n",
    "multiquery_generator.invoke({\"question\": \"감염병 관리 시스템\", \"num_queries\": 5})"
   ]
  },
  {
   "cell_type": "markdown",
   "metadata": {
    "vscode": {
     "languageId": "raw"
    }
   },
   "source": [
    "## 7. 멀티쿼리 생성기 테스트\n",
    "\n",
    "다양한 주제의 질문들로 멀티쿼리 생성기를 테스트합니다. 자율주행, AI 윤리, 블록체인 등 10가지 주제에 대해 각각 5개의 다양한 관점의 쿼리를 생성하여 시스템의 성능을 검증합니다.\n"
   ]
  },
  {
   "cell_type": "code",
   "execution_count": 9,
   "metadata": {},
   "outputs": [
    {
     "name": "stdout",
     "output_type": "stream",
     "text": [
      "\n",
      "=== 테스트 1: 자율주행 시스템 ===\n",
      "생성된 쿼리 수: 5\n",
      "1. 자율주행 시스템의 기술적 작동 원리는 무엇인가?\n",
      "2. 자율주행 시스템이 도로 안전에 미치는 영향은 무엇이며, 어떤 위험 요소가 존재하는가?\n",
      "3. 자율주행 시스템의 경제적 효과와 사회적 파급 효과는 무엇인가?\n",
      "4. 자율주행 시스템의 윤리적 문제점과 해결 방안은 무엇인가?\n",
      "5. 자율주행 시스템의 현재 기술 수준과 미래 발전 방향은 어떻게 될 것인가?\n",
      "\n",
      "=== 테스트 2: 인공지능의 윤리적 문제 ===\n",
      "생성된 쿼리 수: 5\n",
      "1. 인공지능 시스템의 의사 결정 과정에서 발생할 수 있는 윤리적 책임 문제는 무엇인가?\n",
      "2. 인공지능 기술 발전이 인간의 일자리 및 사회 구조에 미치는 윤리적 영향은 무엇이며, 이에 대한 해결책은 무엇인가?\n",
      "3. 인공지능이 학습 데이터에 내재된 편향성을 어떻게 해결하고, 그 과정에서 발생할 수 있는 차별 문제를 방지할 수 있는가?\n",
      "4. 인공지능의 자율성 증대에 따라 인간의 통제 및 감독의 필요성은 어떻게 변화하며, 그 윤리적 기준은 무엇인가?\n",
      "5. 인공지능이 인간의 존엄성, 프라이버시, 자기 결정권 등 기본적인 인권에 미치는 영향에 대한 윤리적 논의는 어떻게 이루어져야 하는가?\n",
      "\n",
      "=== 테스트 3: 블록체인 기술의 활용 ===\n",
      "생성된 쿼리 수: 5\n",
      "1. 블록체인 기술의 활용 사례는 무엇이며, 각 사례별로 어떤 산업 분야에 적용되고 있는가?\n",
      "2. 블록체인 기술이 기존 시스템의 문제점을 어떻게 해결하며, 구체적으로 어떤 효율성 향상을 가져오고 있는가?\n",
      "3. 블록체인 기술의 보안 및 투명성 특징이 특정 산업 또는 서비스에 미치는 영향은 무엇이며, 그 효과를 측정하는 방법은 무엇인가?\n",
      "4. 블록체인 기술의 확장성 문제와 이를 해결하기 위한 다양한 기술적 접근 방식은 무엇이며, 각 방식의 장단점은 무엇인가?\n",
      "5. 블록체인 기술의 상용화 및 대중화에 영향을 미치는 주요 요인(규제, 기술, 시장 수용도 등)은 무엇이며, 이러한 요인들이 블록체인 기술의 미래를 어떻게 예측하는가?\n",
      "\n",
      "=== 테스트 4: 기후변화 대응 방안 ===\n",
      "생성된 쿼리 수: 5\n",
      "1. 기후변화의 영향에 따른 사회 시스템의 적응 전략은 무엇인가?\n",
      "2. 기후변화로 인한 자연재해 발생 빈도와 강도 감소를 위한 기술적 해결책은 무엇인가?\n",
      "3. 기후변화 대응을 위한 국제 협력 및 정책적 노력은 어떻게 이루어져야 하는가?\n",
      "4. 기후변화로 인한 식량 생산 및 공급망 문제 해결을 위한 방안은 무엇인가?\n",
      "5. 기후변화에 대한 개인의 행동 변화를 유도하고 지속 가능한 생활 방식을 확립하기 위한 방법은 무엇인가?\n",
      "\n",
      "=== 테스트 5: 메타버스의 미래 ===\n",
      "생성된 쿼리 수: 5\n",
      "1. 메타버스가 사회 전반에 미치는 영향은 무엇이며, 어떤 변화를 가져올 것으로 예상되는가?\n",
      "2. 메타버스의 기술적 발전 동향은 무엇이며, 미래에 어떤 혁신적인 기능들이 등장할 가능성이 있는가?\n",
      "3. 메타버스가 경제, 산업, 그리고 일자리 시장에 미치는 영향은 무엇이며, 새로운 비즈니스 모델은 어떻게 변화할 것인가?\n",
      "4. 메타버스가 인간의 사회적 상호작용, 커뮤니티 형성, 그리고 문화적 경험에 미치는 영향은 무엇이며, 긍정적/부정적 측면은 무엇인가?\n",
      "5. 메타버스의 윤리적, 법적 문제점은 무엇이며, 이러한 문제들을 해결하기 위한 방안은 무엇인가?\n",
      "\n",
      "=== 테스트 6: 양자컴퓨팅의 원리 ===\n",
      "생성된 쿼리 수: 5\n",
      "1. 양자 컴퓨터의 기본 물리적 원리는 무엇인가?\n",
      "2. 양자 컴퓨팅이 기존 컴퓨터와 비교하여 어떤 차별점을 가지는가?\n",
      "3. 양자 컴퓨팅의 핵심 기술 (예: 중첩, 얽힘)는 어떻게 작동하는가?\n",
      "4. 양자 컴퓨팅이 특정 분야 (예: 암호화, 신약 개발)에 미치는 영향은 무엇인가?\n",
      "5. 양자 컴퓨터의 개발 현황 및 미래 전망은 어떠한가?\n",
      "\n",
      "=== 테스트 7: 바이오테크놀로지 발전 ===\n",
      "생성된 쿼리 수: 5\n",
      "1. 생명공학 기술의 최신 동향과 발전 가능성은 무엇인가?\n",
      "2. 생명과학 분야에서 혁신적인 기술 발전이 어떻게 이루어지고 있으며, 이러한 발전이 인류 건강과 삶의 질에 미치는 영향은 무엇인가?\n",
      "3. 생명공학 기술의 발전이 의료, 농업, 환경 등 다양한 산업 분야에 어떤 새로운 기회를 창출하는가?\n",
      "4. 생명공학 기술의 발전 과정에서 윤리적, 사회적 문제점은 무엇이며, 이를 해결하기 위한 방안은 무엇인가?\n",
      "5. 생명공학 기술의 발전 속도를 고려했을 때, 미래 사회의 변화는 어떻게 예상되는가?\n",
      "\n",
      "=== 테스트 8: 재생에너지 기술 ===\n",
      "생성된 쿼리 수: 5\n",
      "1. 지속 가능한 에너지 솔루션은 무엇이 있으며, 각각의 장단점은 무엇인가?\n",
      "2. 태양광, 풍력, 지열 등 재생에너지 기술의 현재 발전 수준과 미래 전망은 어떻게 평가되는가?\n",
      "3. 재생에너지 기술의 경제적 타당성과 투자 유치 가능성을 높이기 위한 방안은 무엇인가?\n",
      "4. 기존 화석 연료 시스템과의 전환 시 재생에너지 기술의 역할과 영향은 무엇이며, 어떤 기술적 과제가 남아있는가?\n",
      "5. 재생에너지 기술의 보급 확산을 위한 정책적 지원 및 사회적 인식 개선 방안은 무엇인가?\n",
      "\n",
      "=== 테스트 9: 로봇공학의 응용 ===\n",
      "생성된 쿼리 수: 5\n",
      "1. 로봇공학의 다양한 산업 분야별 활용 사례는 무엇인가?\n",
      "2. 로봇공학 기술이 특정 산업의 생산성 및 효율성을 향상시키는 구체적인 방법은 무엇인가?\n",
      "3. 로봇공학 기술의 발전이 인간의 일자리에 미치는 영향과 이에 대한 해결책은 무엇인가?\n",
      "4. 로봇공학 기술이 인간과 협업하는 방식(협업 로봇, 인간-로봇 팀워크 등)의 다양한 사례는 무엇인가?\n",
      "5. 로봇공학 기술의 윤리적 문제점(안전, 책임, 편향 등)과 이를 해결하기 위한 노력은 무엇인가?\n",
      "\n",
      "=== 테스트 10: 사이버보안 위협 ===\n",
      "생성된 쿼리 수: 5\n",
      "1. 사이버 공격 유형과 그 영향은 무엇이며, 어떤 산업 분야가 가장 취약한가?\n",
      "2. 사이버 보안 위협에 대한 최신 공격 트렌드와 기술적 취약점은 무엇인가?\n",
      "3. 사이버 보안 위협으로부터 개인 정보 및 기업 자산을 보호하기 위한 효과적인 전략은 무엇인가?\n",
      "4. 사이버 보안 위협에 대한 법적 책임 및 규제 준수 사항은 무엇이며, 기업은 어떻게 대응해야 하는가?\n",
      "5. 사이버 보안 위협에 대한 예방, 탐지, 대응, 복구(DR) 프로세스는 어떻게 구축해야 하는가?\n",
      "\n",
      "==================================================\n",
      "테스트 결과 요약\n",
      "==================================================\n",
      "성공한 테스트: 10/10\n",
      "평균 생성 쿼리 수: 5.0\n"
     ]
    }
   ],
   "source": [
    "# 다양한 쿼리로 멀티쿼리 생성기 테스트\n",
    "test_queries = [\n",
    "    \"자율주행 시스템\",\n",
    "    \"인공지능의 윤리적 문제\",\n",
    "    \"블록체인 기술의 활용\",\n",
    "    \"기후변화 대응 방안\",\n",
    "    \"메타버스의 미래\",\n",
    "    \"양자컴퓨팅의 원리\",\n",
    "    \"바이오테크놀로지 발전\",\n",
    "    \"재생에너지 기술\",\n",
    "    \"로봇공학의 응용\",\n",
    "    \"사이버보안 위협\"\n",
    "]\n",
    "\n",
    "# 각 쿼리에 대해 멀티쿼리 생성 테스트\n",
    "test_results = []\n",
    "for i, query in enumerate(test_queries, 1):\n",
    "    print(f\"\\n=== 테스트 {i}: {query} ===\")\n",
    "    try:\n",
    "        result = multiquery_generator.invoke({\"question\": query, \"num_queries\": 5})\n",
    "        test_results.append({\n",
    "            \"original_query\": query,\n",
    "            \"generated_queries\": result,\n",
    "            \"count\": len(result),\n",
    "            \"success\": True\n",
    "        })\n",
    "        print(f\"생성된 쿼리 수: {len(result)}\")\n",
    "        for j, generated_query in enumerate(result, 1):\n",
    "            print(f\"{j}. {generated_query}\")\n",
    "    except Exception as e:\n",
    "        test_results.append({\n",
    "            \"original_query\": query,\n",
    "            \"generated_queries\": [],\n",
    "            \"count\": 0,\n",
    "            \"success\": False,\n",
    "            \"error\": str(e)\n",
    "        })\n",
    "        print(f\"오류 발생: {e}\")\n",
    "\n",
    "# 테스트 결과 요약\n",
    "print(\"\\n\" + \"=\"*50)\n",
    "print(\"테스트 결과 요약\")\n",
    "print(\"=\"*50)\n",
    "successful_tests = sum(1 for result in test_results if result[\"success\"])\n",
    "print(f\"성공한 테스트: {successful_tests}/{len(test_queries)}\")\n",
    "print(f\"평균 생성 쿼리 수: {sum(result['count'] for result in test_results if result['success']) / successful_tests if successful_tests > 0 else 0:.1f}\")\n",
    "\n",
    "# 실패한 테스트가 있다면 출력\n",
    "failed_tests = [result for result in test_results if not result[\"success\"]]\n",
    "if failed_tests:\n",
    "    print(f\"\\n실패한 테스트 ({len(failed_tests)}개):\")\n",
    "    for result in failed_tests:\n",
    "        print(f\"- {result['original_query']}: {result.get('error', 'Unknown error')}\")"
   ]
  },
  {
   "cell_type": "markdown",
   "metadata": {
    "vscode": {
     "languageId": "raw"
    }
   },
   "source": [
    "## 8. LangGraph 상태 정의\n",
    "\n",
    "RAG 워크플로우에서 사용할 상태 구조를 TypedDict로 정의합니다. 원본 질문, 생성된 쿼리들, 검색된 문서들, 최종 답변, 단계별 정보를 포함합니다.\n"
   ]
  },
  {
   "cell_type": "code",
   "execution_count": 10,
   "metadata": {},
   "outputs": [
    {
     "name": "stdout",
     "output_type": "stream",
     "text": [
      "📊 LangGraph 상태 정의 완료\n"
     ]
    }
   ],
   "source": [
    "# 셀 7: LangGraph 상태 정의\n",
    "from typing import TypedDict, List, Dict, Any\n",
    "from langgraph.graph import StateGraph, END\n",
    "\n",
    "class RAGState(TypedDict):\n",
    "    \"\"\"RAG 워크플로우 상태 정의\"\"\"\n",
    "    original_question: str\n",
    "    generated_queries: List[str]\n",
    "    retrieved_documents: List[Dict[str, Any]]\n",
    "    final_answer: str\n",
    "    step_info: Dict[str, Any]\n",
    "\n",
    "print(\"📊 LangGraph 상태 정의 완료\")"
   ]
  },
  {
   "cell_type": "markdown",
   "metadata": {
    "vscode": {
     "languageId": "raw"
    }
   },
   "source": [
    "## 9. 멀티쿼리 생성 노드 구현\n",
    "\n",
    "LangGraph 워크플로우의 첫 번째 노드로, 원본 질문으로부터 여러 개의 검색 쿼리를 생성합니다. 원본 질문도 포함하여 총 6개의 쿼리를 생성하고 상태를 업데이트합니다.\n"
   ]
  },
  {
   "cell_type": "code",
   "execution_count": 11,
   "metadata": {},
   "outputs": [],
   "source": [
    "# 셀 8: 멀티쿼리 생성 노드\n",
    "def generate_multiple_queries(state: RAGState) -> RAGState:\n",
    "    \"\"\"원본 질문으로부터 여러 검색 쿼리 생성\"\"\"\n",
    "    \n",
    "    print(f\"🔄 멀티쿼리 생성 중: {state['original_question']}\")\n",
    "    \n",
    "    # 멀티쿼리 생성\n",
    "    response = multiquery_generator.invoke({\"question\": state[\"original_question\"], \"num_queries\": 5})\n",
    "    \n",
    "    # 원본 질문도 포함\n",
    "    all_queries = [state[\"original_question\"]] + response\n",
    "    \n",
    "    print(f\"✅ {len(all_queries)}개 쿼리 생성 완료\")\n",
    "    for i, q in enumerate(all_queries):\n",
    "        print(f\"  {i+1}. {q}\")\n",
    "    \n",
    "    return {\n",
    "        **state,\n",
    "        \"generated_queries\": all_queries,\n",
    "        \"step_info\": {\"queries_generated\": len(all_queries)}\n",
    "    }"
   ]
  },
  {
   "cell_type": "markdown",
   "metadata": {
    "vscode": {
     "languageId": "raw"
    }
   },
   "source": [
    "## 10. 멀티쿼리 생성 노드 테스트\n",
    "\n",
    "생성된 멀티쿼리 노드의 동작을 테스트합니다. 샘플 질문으로 파이썬의 리스트와 튜플의 차이점에 대한 질문을 사용하여 쿼리 생성 과정을 검증합니다.\n"
   ]
  },
  {
   "cell_type": "code",
   "execution_count": 12,
   "metadata": {},
   "outputs": [
    {
     "name": "stdout",
     "output_type": "stream",
     "text": [
      "\n",
      "==================================================\n",
      "멀티쿼리 생성 노드 테스트\n",
      "==================================================\n",
      "🔄 멀티쿼리 생성 중: 파이썬에서 리스트와 튜플의 차이점은 무엇인가요?\n",
      "✅ 6개 쿼리 생성 완료\n",
      "  1. 파이썬에서 리스트와 튜플의 차이점은 무엇인가요?\n",
      "  2. 파이썬 리스트와 튜플의 주요 차이점은 무엇인가요?\n",
      "  3. 파이썬 리스트와 튜플의 변경 가능성(mutability)에 대한 차이점을 설명해주세요.\n",
      "  4. 파이썬에서 리스트와 튜플을 사용할 때 고려해야 할 성능상의 차이점은 무엇인가요?\n",
      "  5. 파이썬 리스트와 튜플의 메모리 사용량에 미치는 영향은 어떻게 다른가요?\n",
      "  6. 파이썬에서 리스트와 튜플을 사용하여 데이터 구조를 설계할 때 어떤 경우에 각각을 선택하는 것이 더 적합한가요?\n",
      "\n",
      "📋 테스트 결과:\n",
      "원본 질문: 파이썬에서 리스트와 튜플의 차이점은 무엇인가요?\n",
      "생성된 쿼리 수: 6\n",
      "단계 정보: {'queries_generated': 6}\n"
     ]
    }
   ],
   "source": [
    "# 멀티쿼리 생성 노드 테스트\n",
    "print(\"\\n\" + \"=\"*50)\n",
    "print(\"멀티쿼리 생성 노드 테스트\")\n",
    "print(\"=\"*50)\n",
    "\n",
    "# 테스트 상태 생성\n",
    "test_state = RAGState(\n",
    "    original_question=\"파이썬에서 리스트와 튜플의 차이점은 무엇인가요?\",\n",
    "    generated_queries=[],\n",
    "    retrieved_documents=[],\n",
    "    final_answer=\"\",\n",
    "    step_info={}\n",
    ")\n",
    "\n",
    "try:\n",
    "    # 멀티쿼리 생성 노드 실행\n",
    "    result_state = generate_multiple_queries(test_state)\n",
    "    \n",
    "    print(f\"\\n📋 테스트 결과:\")\n",
    "    print(f\"원본 질문: {result_state['original_question']}\")\n",
    "    print(f\"생성된 쿼리 수: {len(result_state['generated_queries'])}\")\n",
    "    print(f\"단계 정보: {result_state['step_info']}\")\n",
    "    \n",
    "except Exception as e:\n",
    "    print(f\"❌ 테스트 실패: {e}\")"
   ]
  },
  {
   "cell_type": "markdown",
   "metadata": {
    "vscode": {
     "languageId": "raw"
    }
   },
   "source": [
    "## 11. 문서 검색 노드 구현\n",
    "\n",
    "생성된 멀티쿼리들을 사용하여 벡터 데이터베이스에서 관련 문서를 검색하는 노드입니다.\n",
    "\n",
    " 각 쿼리마다 상위 3개 문서를 검색하고 중복을 제거하여 최종 문서 집합을 구성합니다.\n"
   ]
  },
  {
   "cell_type": "code",
   "execution_count": 13,
   "metadata": {},
   "outputs": [],
   "source": [
    "# 셀 9: 문서 검색 노드\n",
    "def retrieve_documents(state: RAGState) -> RAGState:\n",
    "    \"\"\"생성된 쿼리들로 문서 검색\"\"\"\n",
    "    \n",
    "    print(\"🔍 문서 검색 중...\")\n",
    "    \n",
    "    all_docs = []\n",
    "    seen_content = set()  # 중복 제거용\n",
    "    \n",
    "    for i, query in enumerate(state[\"generated_queries\"]):\n",
    "        print(f\"  쿼리 {i+1} 검색: {query[:50]}...\")\n",
    "        \n",
    "        # 각 쿼리로 문서 검색 (상위 3개)\n",
    "        docs = vector_store.similarity_search(query, k=3)\n",
    "        \n",
    "        for doc in docs:\n",
    "            # 중복 문서 제거\n",
    "            content_hash = hash(doc.page_content)\n",
    "            if content_hash not in seen_content:\n",
    "                seen_content.add(content_hash)\n",
    "                all_docs.append({\n",
    "                    \"content\": doc.page_content,\n",
    "                    \"metadata\": doc.metadata,\n",
    "                    \"source_query\": query\n",
    "                })\n",
    "    \n",
    "    print(f\"✅ 총 {len(all_docs)}개 고유 문서 검색 완료\")\n",
    "    \n",
    "    return {\n",
    "        **state,\n",
    "        \"retrieved_documents\": all_docs,\n",
    "        \"step_info\": {**state.get(\"step_info\", {}), \"documents_retrieved\": len(all_docs)}\n",
    "    }"
   ]
  },
  {
   "cell_type": "markdown",
   "metadata": {
    "vscode": {
     "languageId": "raw"
    }
   },
   "source": [
    "## 12. 문서 검색 노드 테스트\n",
    "\n",
    "문서 검색 노드의 동작을 테스트합니다.\n",
    "\n",
    " RAG 시스템 성능 향상과 관련된 3개의 테스트 쿼리를 사용하여 검색 기능이 올바르게 작동하는지 확인하고 검색된 문서들을 출력합니다.\n"
   ]
  },
  {
   "cell_type": "code",
   "execution_count": 14,
   "metadata": {},
   "outputs": [
    {
     "name": "stdout",
     "output_type": "stream",
     "text": [
      "🧪 문서 검색 노드 테스트\n",
      "==================================================\n",
      "🔍 문서 검색 중...\n",
      "  쿼리 1 검색: RAG 시스템 성능 최적화 기법...\n",
      "  쿼리 2 검색: 검색 증강 생성 모델 개선 방안...\n",
      "  쿼리 3 검색: RAG 정확도 향상 전략...\n",
      "✅ 총 7개 고유 문서 검색 완료\n",
      "\n",
      "📋 테스트 결과:\n",
      "원본 질문: RAG 시스템의 성능을 향상시키는 방법은?\n",
      "검색 쿼리 수: 3\n",
      "검색된 문서 수: 7\n",
      "단계 정보: {'queries_generated': 3, 'documents_retrieved': 7}\n",
      "\n",
      "📄 검색된 문서 샘플:\n",
      "  문서 1:\n",
      "    내용: ...\n",
      "    소스 쿼리: RAG 시스템 성능 최적화 기법...\n",
      "    메타데이터: {'producer': 'ESTsoft ALPDF', 'creator': 'ESTsoft ALPDF', 'creationdate': '2025-04-13T23:40:30+09:00', 'author': 'user', 'moddate': '2025-04-13T23:40:38+09:00', 'title': '보험금 청구서', 'source': './data\\\\보험금 청구서.pdf', 'total_pages': 1, 'page': 0, 'page_label': '1', 'source_file': '보험금 청구서.pdf', '_id': '50dcbaae-75ff-4caa-bd78-849a675af2b2', '_collection_name': 'multi_query'}\n",
      "\n",
      "  문서 2:\n",
      "    내용: - 251 -\n",
      "<환자 의료방사선 최적화 유도> ㅇ (국가선량관리시스템) 컴퓨터단층촬영(CT)등 검사별 진단참고수준(DRL)개발을 위한 국가선량관리시스템 참여기관 확대  -기관별 수...\n",
      "    소스 쿼리: RAG 시스템 성능 최적화 기법...\n",
      "    메타데이터: {'producer': 'Hancom PDF 1.3.0.538', 'creator': 'Hwp 2018 11.0.0.2129', 'creationdate': '2025-05-07T15:25:34+09:00', 'author': 'Parkbg', 'moddate': '2025-05-07T15:25:34+09:00', 'pdfversion': '1.4', 'source': './data/agentic_retrieval/medical\\\\질병관리청_2025년_성과관리_시행계획.pdf', 'total_pages': 274, 'page': 255, 'page_label': '256', 'source_file': '질병관리청_2025년_성과관리_시행계획.pdf', '_id': 'aa8729eb-2dfa-4551-8787-a450726fd640', '_collection_name': 'multi_query'}\n",
      "\n"
     ]
    }
   ],
   "source": [
    "# 문서 검색 노드 테스트\n",
    "print(\"🧪 문서 검색 노드 테스트\")\n",
    "print(\"=\" * 50)\n",
    "\n",
    "try:\n",
    "    # 테스트용 상태 (이전 단계에서 생성된 쿼리들 포함)\n",
    "    test_state = {\n",
    "        \"original_question\": \"RAG 시스템의 성능을 향상시키는 방법은?\",\n",
    "        \"generated_queries\": [\n",
    "            \"RAG 시스템 성능 최적화 기법\",\n",
    "            \"검색 증강 생성 모델 개선 방안\",\n",
    "            \"RAG 정확도 향상 전략\"\n",
    "        ],\n",
    "        \"step_info\": {\"queries_generated\": 3}\n",
    "    }\n",
    "    \n",
    "    # 문서 검색 실행\n",
    "    result_state = retrieve_documents(test_state)\n",
    "    \n",
    "    print(f\"\\n📋 테스트 결과:\")\n",
    "    print(f\"원본 질문: {result_state['original_question']}\")\n",
    "    print(f\"검색 쿼리 수: {len(result_state['generated_queries'])}\")\n",
    "    print(f\"검색된 문서 수: {len(result_state['retrieved_documents'])}\")\n",
    "    print(f\"단계 정보: {result_state['step_info']}\")\n",
    "    \n",
    "    # 검색된 문서 샘플 출력\n",
    "    print(f\"\\n📄 검색된 문서 샘플:\")\n",
    "    for i, doc in enumerate(result_state['retrieved_documents'][:2]):  # 상위 2개만 출력\n",
    "        print(f\"  문서 {i+1}:\")\n",
    "        print(f\"    내용: {doc['content'][:100]}...\")\n",
    "        print(f\"    소스 쿼리: {doc['source_query'][:50]}...\")\n",
    "        print(f\"    메타데이터: {doc['metadata']}\")\n",
    "        print()\n",
    "    \n",
    "except Exception as e:\n",
    "    print(f\"❌ 테스트 실패: {e}\")\n"
   ]
  },
  {
   "cell_type": "markdown",
   "metadata": {
    "vscode": {
     "languageId": "raw"
    }
   },
   "source": [
    "## 13. 메타데이터 구조 확인\n",
    "\n",
    "벡터 데이터베이스에 저장된 문서의 메타데이터 구조를 확인합니다. 이 정보는 답변 생성 시 출처 정보를 포함하는 데 활용됩니다.\n"
   ]
  },
  {
   "cell_type": "code",
   "execution_count": null,
   "metadata": {},
   "outputs": [],
   "source": [
    "documents[0].metadata"
   ]
  },
  {
   "cell_type": "markdown",
   "metadata": {
    "vscode": {
     "languageId": "raw"
    }
   },
   "source": [
    "## 14. 최종 답변 생성 노드 구현\n",
    "\n",
    "검색된 문서들을 컨텍스트로 사용하여 최종 답변을 생성하는 노드입니다. \n",
    "XML 태그를 사용하여 문서를 구조화하고, 메타데이터 정보를 포함하여 LLM이 출처를 인용할 수 있도록 합니다.\n"
   ]
  },
  {
   "cell_type": "code",
   "execution_count": 15,
   "metadata": {},
   "outputs": [],
   "source": [
    "from langchain.prompts import ChatPromptTemplate\n",
    "from langchain.schema.output_parser import StrOutputParser\n",
    "# 셀 10: 답변 생성 노드\n",
    "def generate_final_answer(state: RAGState) -> RAGState:\n",
    "    \"\"\"검색된 문서를 바탕으로 최종 답변 생성\"\"\"\n",
    "    \n",
    "    print(\"💭 최종 답변 생성 중...\")\n",
    "    \n",
    "    # 검색된 문서들을 컨텍스트로 구성 (메타데이터 포함, XML 태그 사용)\n",
    "    context_parts = []\n",
    "    for i, doc in enumerate(state[\"retrieved_documents\"]):  # 상위 5개만 사용\n",
    "        doc_xml = f\"\"\"<document id=\"{i+1}\">\n",
    "        <metadata>\n",
    "        <source_query>{doc.get('source_query', 'N/A')}</source_query>\n",
    "        <source_file>{doc.get('metadata', {}).get('source_file', 'Unknown')}</source_file>\n",
    "        <page>{doc.get('metadata', {}).get('page', 'N/A')}</page>\n",
    "        </metadata>\n",
    "        <content>\n",
    "        {doc['content']}\n",
    "        </content>\n",
    "        </document>\"\"\"\n",
    "        context_parts.append(doc_xml)\n",
    "    \n",
    "    context = \"\\n\\n\".join(context_parts)\n",
    "    \n",
    "    # 답변 생성 프롬프트\n",
    "    answer_prompt = ChatPromptTemplate.from_template(\"\"\"\n",
    "    다음 문서들을 참고하여 사용자의 질문에 답변해주세요.\n",
    "\n",
    "    질문: {question}\n",
    "\n",
    "    참고 문서:\n",
    "    {context}\n",
    "\n",
    "    답변:\n",
    "    - 제공된 문서의 정보를 바탕으로 정확하고 상세한 답변을 제공해주세요.\n",
    "    - 문서에 없는 정보는 추측하지 마세요.\n",
    "    - 답변의 근거가 되는 문서 내용을 인용해주세요.\n",
    "    \"\"\")\n",
    "    \n",
    "    # 답변 생성\n",
    "    answer_chain = answer_prompt | gemma | StrOutputParser()\n",
    "    final_answer = answer_chain.invoke({\n",
    "        \"question\": state[\"original_question\"],\n",
    "        \"context\": context\n",
    "    })\n",
    "    \n",
    "    print(\"✅ 최종 답변 생성 완료\")\n",
    "    \n",
    "    return {\n",
    "        **state,\n",
    "        \"final_answer\": final_answer,\n",
    "        \"step_info\": {**state.get(\"step_info\", {}), \"answer_generated\": True}\n",
    "    }"
   ]
  },
  {
   "cell_type": "markdown",
   "metadata": {
    "vscode": {
     "languageId": "raw"
    }
   },
   "source": [
    "## 15. LangGraph 워크플로우 구성\n",
    "\n",
    "앞서 정의한 모든 노드들을 연결하여 완전한 멀티쿼리 RAG 워크플로우를 생성합니다. StateGraph를 사용하여 노드 간의 실행 순서와 데이터 흐름을 정의합니다.\n"
   ]
  },
  {
   "cell_type": "code",
   "execution_count": 16,
   "metadata": {},
   "outputs": [
    {
     "name": "stdout",
     "output_type": "stream",
     "text": [
      "🔗 LangGraph 워크플로우 구성 완료\n"
     ]
    }
   ],
   "source": [
    "# 셀 11: LangGraph 워크플로우 구성\n",
    "def create_multiquery_rag_workflow():\n",
    "    \"\"\"멀티쿼리 RAG 워크플로우 생성\"\"\"\n",
    "    \n",
    "    # StateGraph 초기화\n",
    "    workflow = StateGraph(RAGState)\n",
    "    \n",
    "    # 노드 추가\n",
    "    workflow.add_node(\"generate_queries\", generate_multiple_queries)\n",
    "    workflow.add_node(\"retrieve_docs\", retrieve_documents)\n",
    "    workflow.add_node(\"generate_answer\", generate_final_answer)\n",
    "    \n",
    "    # 엣지 연결\n",
    "    workflow.set_entry_point(\"generate_queries\")\n",
    "    workflow.add_edge(\"generate_queries\", \"retrieve_docs\")\n",
    "    workflow.add_edge(\"retrieve_docs\", \"generate_answer\")\n",
    "    workflow.add_edge(\"generate_answer\", END)\n",
    "    \n",
    "    # 워크플로우 컴파일\n",
    "    app = workflow.compile()\n",
    "    \n",
    "    print(\"🔗 LangGraph 워크플로우 구성 완료\")\n",
    "    return app\n",
    "\n",
    "# 워크플로우 생성\n",
    "rag_workflow = create_multiquery_rag_workflow()"
   ]
  },
  {
   "cell_type": "code",
   "execution_count": 17,
   "metadata": {},
   "outputs": [],
   "source": [
    "question = \"AI 인재 양성에 관한 정보를 정리해주세요\"\n",
    "\n",
    "initial_state = {\n",
    "    \"original_question\": question,\n",
    "}"
   ]
  },
  {
   "cell_type": "code",
   "execution_count": 18,
   "metadata": {},
   "outputs": [
    {
     "name": "stdout",
     "output_type": "stream",
     "text": [
      "🔄 멀티쿼리 생성 중: AI 인재 양성에 관한 정보를 정리해주세요\n",
      "AI 인재 양성 프로그램 종류와 특징은 무엇인가?\n",
      "                    \n",
      "AI 인재 양성을 위한 교육 과정 및 커리큘럼은 어떻게 구성되어 있는가?\n",
      "                    \n",
      "AI 분야 인재 육성을 위한 정부 또는 기업의 지원 정책은 무엇인가?\n",
      "                    \n",
      "AI 인재 양성 과정에서 필요한 기술 및 역량은 무엇이며, 어떤 방식으로 개발하는가?\n",
      "                    \n",
      "AI 인재 양성 과정의 효과를 측정하고 평가하는 방법은 무엇인가?✅ 10개 쿼리 생성 완료\n",
      "  1. AI 인재 양성에 관한 정보를 정리해주세요\n",
      "  2. AI 인재 양성 프로그램 종류와 특징은 무엇인가?\n",
      "  3.                     \n",
      "  4. AI 인재 양성을 위한 교육 과정 및 커리큘럼은 어떻게 구성되어 있는가?\n",
      "  5.                     \n",
      "  6. AI 분야 인재 육성을 위한 정부 또는 기업의 지원 정책은 무엇인가?\n",
      "  7.                     \n",
      "  8. AI 인재 양성 과정에서 필요한 기술 및 역량은 무엇이며, 어떤 방식으로 개발하는가?\n",
      "  9.                     \n",
      "  10. AI 인재 양성 과정의 효과를 측정하고 평가하는 방법은 무엇인가?\n",
      "🔍 문서 검색 중...\n",
      "  쿼리 1 검색: AI 인재 양성에 관한 정보를 정리해주세요...\n",
      "  쿼리 2 검색: AI 인재 양성 프로그램 종류와 특징은 무엇인가?...\n",
      "  쿼리 3 검색:                     ...\n",
      "  쿼리 4 검색: AI 인재 양성을 위한 교육 과정 및 커리큘럼은 어떻게 구성되어 있는가?...\n",
      "  쿼리 5 검색:                     ...\n",
      "  쿼리 6 검색: AI 분야 인재 육성을 위한 정부 또는 기업의 지원 정책은 무엇인가?...\n",
      "  쿼리 7 검색:                     ...\n",
      "  쿼리 8 검색: AI 인재 양성 과정에서 필요한 기술 및 역량은 무엇이며, 어떤 방식으로 개발하는가?...\n",
      "  쿼리 9 검색:                     ...\n",
      "  쿼리 10 검색: AI 인재 양성 과정의 효과를 측정하고 평가하는 방법은 무엇인가?...\n",
      "✅ 총 9개 고유 문서 검색 완료\n",
      "💭 최종 답변 생성 중...\n",
      "제공된 문서들을 바탕으로 질문에 대한 답변을 구성해 보겠습니다.\n",
      "\n",
      "**1. AI 분야 인재 양성을 위한 정부 또는 기업의 지원 정책은 무엇인가?**\n",
      "\n",
      "제공된 문서에는 AI 분야 인재 양성을 위한 구체적인 정부 또는 기업의 지원 정책에 대한 직접적인 언급은 없습니다. 하지만 다음과 같은 간접적인 정보를 통해 정책 방향을 추론할 수 있습니다.\n",
      "\n",
      "*   **국가인공지능위원회 출범 및 4대 AI 플래그십 프로젝트:** 국가인공지능위원회 출범을 통해 AI 전략의 통합적 관리와 협력적 거버넌스 구축이 가능해질 것으로 기대됩니다. 특히, ‘국가 AI컴퓨팅 센터’ 구축, R&D 연구 성과물에 대한 방역정책 반영, AI 분야의 R&D 연구 성과물에 대한 방역정책 반영 등이 AI 인재 양성에 간접적으로 기여할 수 있습니다.\n",
      "*   **‘범부처감염병 방역 체계 고도화 R&D’ 사업:** 이 사업은 AI 기술 개발 및 활용을 위한 R&D 연구 성과물에 대한 방역정책 반영을 목표로 하고 있으며, 이는 AI 인재 양성에 필요한 실무 경험을 제공할 수 있습니다.\n",
      "\n",
      "**2. AI 분야 인재 양성을 위한 과정에서 필요한 기술 및 역량은 무엇이며, 어떤 방식으로 개발하는가?**\n",
      "\n",
      "제공된 문서에서 명시적으로 언급된 기술 및 역량은 다음과 같습니다.\n",
      "\n",
      "*   **머신러닝, 딥러닝, 자연어 처리, 컴퓨터 비전:** AI 기술의 핵심 분야이며, 이 기술들을 이해하고 활용할 수 있는 인재를 양성하는 것이 중요합니다.\n",
      "*   **수리, 통계:** AI 모델 개발 및 분석에 필수적인 역량입니다.\n",
      "*   **다학제적 모델 개발 능력:** AI 기술을 다양한 분야에 적용하기 위해서는 여러 분야의 지식을 융합할 수 있는 능력이 필요합니다.\n",
      "*   **R&D 연구 성과물에 대한 방역정책 반영 및 활용 능력:** AI 기술을 실제 방역 정책에 적용하고 활용할 수 있는 능력이 중요합니다.\n",
      "\n",
      "이러한 기술 및 역량은 R&D 연구 과제를 통해 개발될 수 있으며, 특히 ‘범부처감염병 방역 체계 고도화 R&D’ 사업을 통해 실무 경험을 쌓을 수 있습니다.\n",
      "\n",
      "**3. AI 분야 인재 양성의 효과를 측정하고 평가하는 방법은 무엇인가?**\n",
      "\n",
      "제공된 문서에서 제시하는 효과 측정 및 평가 방법은 다음과 같습니다.\n",
      "\n",
      "*   **예측 정확도(%)**: AI 모델의 예측 정확도를 측정하여 모델의 성능을 평가합니다. 특히, ‘범부처감염병 방역 체계 고도화 R&D’ 사업에서 예측 정확도를 높이는 것이 중요합니다.\n",
      "*   **R&D 연구 성과물에 대한 방역정책 반영 및 활용 능력**: R&D 연구 성과물이 실제 방역 정책에 반영되고 활용되는 정도를 측정합니다.\n",
      "*   **예측 수행 건수**: 예측 수행 건수를 측정하여 모델의 활용 빈도를 파악합니다.\n",
      "\n",
      "이러한 측정 방법들을 통해 AI 분야 인재 양성의 효과를 객관적으로 평가하고 개선 방향을 모색할 수 있습니다.\n",
      "\n",
      "**주의사항:**\n",
      "\n",
      "*   제공된 문서들은 AI 분야 인재 양성에 대한 포괄적인 정보를 담고 있지 않습니다.\n",
      "*   제공된 정보는 문서의 내용에 기반하며, 추가적인 정보가 필요할 수 있습니다.✅ 최종 답변 생성 완료\n"
     ]
    }
   ],
   "source": [
    "for message_chunk, metadata in rag_workflow.stream( \n",
    "    initial_state,\n",
    "    stream_mode=\"messages\",\n",
    "):\n",
    "    if message_chunk.content:\n",
    "        print(message_chunk.content, end=\"\", flush=True)"
   ]
  }
 ],
 "metadata": {
  "kernelspec": {
   "display_name": "test_venv",
   "language": "python",
   "name": "python3"
  },
  "language_info": {
   "codemirror_mode": {
    "name": "ipython",
    "version": 3
   },
   "file_extension": ".py",
   "mimetype": "text/x-python",
   "name": "python",
   "nbconvert_exporter": "python",
   "pygments_lexer": "ipython3",
   "version": "3.11.10"
  }
 },
 "nbformat": 4,
 "nbformat_minor": 2
}
