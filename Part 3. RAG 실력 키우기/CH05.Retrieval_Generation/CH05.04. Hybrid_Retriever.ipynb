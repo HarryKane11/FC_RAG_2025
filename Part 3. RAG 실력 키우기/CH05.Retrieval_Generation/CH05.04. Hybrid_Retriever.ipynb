{
 "cells": [
  {
   "cell_type": "markdown",
   "metadata": {
    "vscode": {
     "languageId": "raw"
    }
   },
   "source": [
    "# Hybrid Retriever with BM25\n",
    "\n",
    "이 노트북은 BM25와 벡터 검색을 결합한 하이브리드 검색 시스템을 구현하는 방법을 다룹니다.\n",
    "\n",
    "## 1. 필요한 패키지 설치\n",
    "\n",
    "BM25 키워드 검색을 위한 `rank_bm25` 패키지를 설치합니다.\n"
   ]
  },
  {
   "cell_type": "code",
   "execution_count": null,
   "metadata": {},
   "outputs": [],
   "source": [
    "%pip install rank_bm25"
   ]
  },
  {
   "cell_type": "markdown",
   "metadata": {
    "vscode": {
     "languageId": "raw"
    }
   },
   "source": [
    "## 2. BM25Retriever 기본 사용법\n",
    "\n",
    "LangChain의 BM25Retriever를 사용하여 키워드 기반 검색을 수행합니다.\n",
    "- 샘플 문서를 생성하고 BM25 인덱스를 구축\n",
    "- 한국어 쿼리로 검색하여 관련 문서를 반환\n"
   ]
  },
  {
   "cell_type": "code",
   "execution_count": 1,
   "metadata": {},
   "outputs": [
    {
     "name": "stdout",
     "output_type": "stream",
     "text": [
      "🔍 검색 쿼리: '벡터 데이터베이스'\n",
      "📊 검색 결과 (3개):\n",
      "1. Qdrant는 고성능 벡터 데이터베이스입니다.\n",
      "2. 키워드 검색과 벡터 검색을 결합하면 더 좋은 결과를 얻을 수 있습니다.\n",
      "3. RAG는 검색 증강 생성 방법론입니다.\n"
     ]
    }
   ],
   "source": [
    "from langchain_core.documents import Document\n",
    "from langchain_community.retrievers import BM25Retriever\n",
    "\n",
    "# 샘플 문서 생성\n",
    "documents = [\n",
    "    Document(page_content=\"Langchain은 LLM 애플리케이션 개발을 위한 프레임워크입니다.\"),\n",
    "    Document(page_content=\"Qdrant는 고성능 벡터 데이터베이스입니다.\"),\n",
    "    Document(page_content=\"BM25는 정보 검색에서 사용되는 랭킹 함수입니다.\"),\n",
    "    Document(page_content=\"RAG는 검색 증강 생성 방법론입니다.\"),\n",
    "    Document(page_content=\"키워드 검색과 벡터 검색을 결합하면 더 좋은 결과를 얻을 수 있습니다.\"),\n",
    "]\n",
    "\n",
    "# BM25Retriever 생성\n",
    "bm25_retriever = BM25Retriever.from_documents(documents)\n",
    "bm25_retriever.k = 3  # 반환할 문서 수 설정\n",
    "\n",
    "# 검색 실행\n",
    "query = \"벡터 데이터베이스\"\n",
    "results = bm25_retriever.invoke(query)\n",
    "\n",
    "print(f\"🔍 검색 쿼리: '{query}'\")\n",
    "print(f\"📊 검색 결과 ({len(results)}개):\")\n",
    "for i, doc in enumerate(results, 1):\n",
    "    print(f\"{i}. {doc.page_content}\")"
   ]
  },
  {
   "cell_type": "markdown",
   "metadata": {
    "vscode": {
     "languageId": "raw"
    }
   },
   "source": [
    "## 3. 커스텀 전처리 함수 적용\n",
    "\n",
    "BM25의 성능을 향상시키기 위해 커스텀 전처리 함수를 적용합니다.\n",
    "- 특수문자 제거 및 소문자 변환\n",
    "- 단어 토큰화를 통한 검색 품질 개선\n",
    "- 동일한 쿼리로 전처리 효과 비교\n"
   ]
  },
  {
   "cell_type": "code",
   "execution_count": 2,
   "metadata": {},
   "outputs": [
    {
     "name": "stdout",
     "output_type": "stream",
     "text": [
      "🛠️ 커스텀 전처리 적용 결과:\n",
      "1. Qdrant는 고성능 벡터 데이터베이스입니다.\n",
      "2. 키워드 검색과 벡터 검색을 결합하면 더 좋은 결과를 얻을 수 있습니다.\n",
      "3. RAG는 검색 증강 생성 방법론입니다.\n"
     ]
    }
   ],
   "source": [
    "def custom_preprocessor(text: str):\n",
    "    \"\"\"\n",
    "    커스텀 전처리 함수\n",
    "    - 소문자 변환\n",
    "    - 단어 토큰화\n",
    "    - 특수문자 제거\n",
    "    \"\"\"\n",
    "    import re\n",
    "    # 특수문자 제거 및 소문자 변환\n",
    "    text = re.sub(r'[^\\w\\s]', '', text.lower())\n",
    "    # 공백으로 분할\n",
    "    tokens = text.split()\n",
    "    return tokens\n",
    "\n",
    "# 커스텀 전처리가 적용된 BM25Retriever\n",
    "custom_bm25_retriever = BM25Retriever.from_documents(\n",
    "    documents,\n",
    "    preprocess_func=custom_preprocessor,\n",
    "    k=3\n",
    ")\n",
    "\n",
    "# 검색 실행\n",
    "results = custom_bm25_retriever.invoke(\"데이터베이스 벡터\")\n",
    "print(\"🛠️ 커스텀 전처리 적용 결과:\")\n",
    "for i, doc in enumerate(results, 1):\n",
    "    print(f\"{i}. {doc.page_content}\")"
   ]
  },
  {
   "cell_type": "markdown",
   "metadata": {
    "vscode": {
     "languageId": "raw"
    }
   },
   "source": [
    "## 4. Qdrant 벡터 데이터베이스 연결\n",
    "\n",
    "하이브리드 검색을 위해 Qdrant 벡터 데이터베이스에 연결합니다.\n",
    "- 로컬 Qdrant 서버 연결 시도\n",
    "- 연결 실패 시 메모리 모드로 대체\n",
    "- 기존 컬렉션 정보 확인\n"
   ]
  },
  {
   "cell_type": "code",
   "execution_count": 3,
   "metadata": {},
   "outputs": [
    {
     "name": "stdout",
     "output_type": "stream",
     "text": [
      "✅ Qdrant 서버에 연결되었습니다.\n",
      "📊 Qdrant 버전: collections=[CollectionDescription(name='selfquery'), CollectionDescription(name='scalar_quantization'), CollectionDescription(name='sparse_collection'), CollectionDescription(name='product_quantization'), CollectionDescription(name='agentic_retrieval_medical'), CollectionDescription(name='arxiv_papers'), CollectionDescription(name='agentic_retrieval_law'), CollectionDescription(name='agentic_retrieval_commerce'), CollectionDescription(name='physical_ai_report_mm'), CollectionDescription(name='pdf_rerank'), CollectionDescription(name='physical_ai_report_mm_retriever'), CollectionDescription(name='physical_ai_report_mm_01'), CollectionDescription(name='arxiv_physics_muon_paper'), CollectionDescription(name='hybrid_search_collection'), CollectionDescription(name='ppt_rag'), CollectionDescription(name='pdf_hybrid'), CollectionDescription(name='product_quantization_2'), CollectionDescription(name='agentic_retrieval_public'), CollectionDescription(name='finance_rag'), CollectionDescription(name='multi_vector_collection'), CollectionDescription(name='advanced_collection'), CollectionDescription(name='pdf_full_hybrid'), CollectionDescription(name='agentic_retrieval_finance'), CollectionDescription(name='sparse_search_collection'), CollectionDescription(name='my_first_collection'), CollectionDescription(name='hwp_rag'), CollectionDescription(name='meeting_note_docs'), CollectionDescription(name='contextual_retrieval_demo_contextual'), CollectionDescription(name='dense_search_collection'), CollectionDescription(name='advanced_filter_collection'), CollectionDescription(name='contextual_retrieval_demo_basic'), CollectionDescription(name='multi_query'), CollectionDescription(name='langchain_collection')]\n"
     ]
    }
   ],
   "source": [
    "from qdrant_client import QdrantClient\n",
    "from qdrant_client.http import models\n",
    "from qdrant_client.models import Distance, VectorParams\n",
    "\n",
    "\n",
    "# Qdrant 클라이언트 초기화 (로컬 서버 가정)\n",
    "try:\n",
    "    client = QdrantClient(\"localhost\", port=6333)\n",
    "    print(\"✅ Qdrant 서버에 연결되었습니다.\")\n",
    "    \n",
    "    # 서버 정보 확인\n",
    "    print(f\"📊 Qdrant 버전: {client.get_collections()}\")\n",
    "except Exception as e:\n",
    "    print(f\"❌ Qdrant 연결 실패: {e}\")\n",
    "    print(\"💡 Docker로 Qdrant 서버를 시작하세요: docker run -p 6333:6333 qdrant/qdrant\")\n",
    "    \n",
    "    # 메모리 모드로 대체\n",
    "    client = QdrantClient(\":memory:\")\n",
    "    print(\"🔄 메모리 모드로 Qdrant를 실행합니다.\")"
   ]
  },
  {
   "cell_type": "markdown",
   "metadata": {
    "vscode": {
     "languageId": "raw"
    }
   },
   "source": [
    "## 5. PDF 문서 로딩\n",
    "\n",
    "실제 문서 데이터를 로딩하여 하이브리드 검색 시스템에 활용합니다.\n",
    "- 지정된 AI 관련 PDF 파일들을 로딩\n",
    "- PyPDFLoader를 사용한 PDF 파싱\n",
    "- 로딩된 문서 페이지 수 확인\n"
   ]
  },
  {
   "cell_type": "code",
   "execution_count": 4,
   "metadata": {},
   "outputs": [
    {
     "name": "stdout",
     "output_type": "stream",
     "text": [
      "📄 로딩 중: 국가별 공공부문 AI 도입 및 활용 전략.pdf\n",
      "📄 로딩 중: 모빌리티_오픈소스_활성화_방안.pdf\n",
      "📄 로딩 중: 피지컬_AI_현황과_시사점.pdf\n",
      "📄 로딩 중: AI_인재_양성_정책_현황.pdf\n",
      "✅ 총 336개의 문서 페이지가 로딩되었습니다.\n"
     ]
    }
   ],
   "source": [
    "# 필요한 라이브러리 임포트\n",
    "import os\n",
    "from langchain_community.document_loaders import PyPDFLoader\n",
    "\n",
    "data_folder = \"./data\"\n",
    "\n",
    "# PDF 문서 로딩\n",
    "def load_specific_pdf_documents(data_folder: str):\n",
    "    \"\"\"\n",
    "    data 폴더 내의 특정 PDF 파일들을 로딩합니다.\n",
    "    \"\"\"\n",
    "    documents = []\n",
    "    \n",
    "    # 로딩할 특정 PDF 파일명들\n",
    "    target_files = [\n",
    "        \"국가별 공공부문 AI 도입 및 활용 전략.pdf\",\n",
    "        \"모빌리티_오픈소스_활성화_방안.pdf\", \n",
    "        \"피지컬_AI_현황과_시사점.pdf\",\n",
    "        \"AI_인재_양성_정책_현황.pdf\"\n",
    "    ]\n",
    "    \n",
    "    # 각 파일을 찾아서 로딩\n",
    "    for filename in target_files:\n",
    "        pdf_path = os.path.join(data_folder, filename)\n",
    "        \n",
    "        if os.path.exists(pdf_path):\n",
    "            print(f\"📄 로딩 중: {filename}\")\n",
    "            loader = PyPDFLoader(pdf_path)\n",
    "            file_documents = loader.load()\n",
    "            documents.extend(file_documents)\n",
    "        else:\n",
    "            print(f\"⚠️ 파일을 찾을 수 없습니다: {filename}\")\n",
    "    \n",
    "    print(f\"✅ 총 {len(documents)}개의 문서 페이지가 로딩되었습니다.\")\n",
    "    return documents\n",
    "\n",
    "# PDF 문서 로딩 실행\n",
    "documents = load_specific_pdf_documents(data_folder)"
   ]
  },
  {
   "cell_type": "markdown",
   "metadata": {
    "vscode": {
     "languageId": "raw"
    }
   },
   "source": [
    "## 6. 문서 청킹 (Chunking)\n",
    "\n",
    "로딩된 문서를 검색에 적합한 크기로 분할합니다.\n",
    "- RecursiveCharacterTextSplitter 사용\n",
    "- 청크 크기 1000자, 오버랩 200자 설정\n",
    "- 문장 경계를 고려한 분할\n"
   ]
  },
  {
   "cell_type": "code",
   "execution_count": 5,
   "metadata": {},
   "outputs": [
    {
     "name": "stdout",
     "output_type": "stream",
     "text": [
      "✅ 총 678개의 청크로 분할되었습니다.\n"
     ]
    }
   ],
   "source": [
    "from langchain_text_splitters import RecursiveCharacterTextSplitter\n",
    "\n",
    "# 문서 청킹 (Chunk 분할)\n",
    "text_splitter = RecursiveCharacterTextSplitter(\n",
    "    chunk_size=1000,\n",
    "    chunk_overlap=200,\n",
    "    length_function=len,\n",
    "    separators=[\"\\n\\n\", \"\\n\", \".\", \" \", \"\"]\n",
    ")\n",
    "\n",
    "# 문서 분할 실행\n",
    "chunks = text_splitter.split_documents(documents)\n",
    "\n",
    "print(f\"✅ 총 {len(chunks)}개의 청크로 분할되었습니다.\")"
   ]
  },
  {
   "cell_type": "markdown",
   "metadata": {
    "vscode": {
     "languageId": "raw"
    }
   },
   "source": [
    "## 7. 하이브리드 벡터 스토어 생성\n",
    "\n",
    "Dense 벡터와 Sparse 벡터를 함께 사용하는 하이브리드 검색 시스템을 구축합니다.\n",
    "- Ollama BGE-M3 모델로 dense embedding 생성\n",
    "- FastEmbed BM25 모델로 sparse embedding 생성\n",
    "- Qdrant에 하이브리드 컬렉션 생성 및 문서 인덱싱\n"
   ]
  },
  {
   "cell_type": "code",
   "execution_count": 7,
   "metadata": {},
   "outputs": [],
   "source": [
    "from uuid import uuid4\n",
    "from langchain_ollama import OllamaEmbeddings\n",
    "from langchain_qdrant import FastEmbedSparse, QdrantVectorStore, RetrievalMode\n",
    "from qdrant_client import QdrantClient, models\n",
    "from qdrant_client.http.models import Distance, SparseVectorParams, VectorParams\n",
    "\n",
    "dense_embeddings = OllamaEmbeddings(model=\"bge-m3\")\n",
    "sparse_embeddings = FastEmbedSparse(model_name=\"Qdrant/bm25\")\n",
    "\n",
    "# # Create a collection with both dense and sparse vectors\n",
    "# client.create_collection(\n",
    "#     collection_name=\"pdf_hybrid\",\n",
    "#     vectors_config={\"dense\": VectorParams(size=1024, distance=Distance.COSINE)},\n",
    "#     sparse_vectors_config={\n",
    "#         \"sparse\": SparseVectorParams(index=models.SparseIndexParams(on_disk=False))\n",
    "#     },\n",
    "# )\n",
    "\n",
    "qdrant = QdrantVectorStore(\n",
    "    client=client,\n",
    "    collection_name=\"pdf_hybrid\",\n",
    "    embedding=dense_embeddings,\n",
    "    sparse_embedding=sparse_embeddings,\n",
    "    retrieval_mode=RetrievalMode.HYBRID,\n",
    "    vector_name=\"dense\",\n",
    "    sparse_vector_name=\"sparse\",\n",
    ")\n",
    "\n",
    "# # 문서를 벡터 스토어에 추가\n",
    "# print(\"문서를 벡터 스토어에 추가 중...\")\n",
    "# qdrant.add_documents(chunks)\n",
    "# print(f\"✅ {len(chunks)}개의 문서가 Qdrant에 저장되었습니다.\")"
   ]
  },
  {
   "cell_type": "markdown",
   "metadata": {
    "vscode": {
     "languageId": "raw"
    }
   },
   "source": [
    "## 8. Retriever 설정\n",
    "\n",
    "하이브리드 벡터 스토어에서 검색을 수행할 retriever를 설정합니다.\n",
    "- 상위 10개의 검색 결과 반환 설정\n",
    "- 하이브리드 검색 모드로 동작\n"
   ]
  },
  {
   "cell_type": "code",
   "execution_count": 8,
   "metadata": {},
   "outputs": [],
   "source": [
    "# 문서로부터 FAISS 인덱스 생성 및 검색기 설정\n",
    "retriever = qdrant.as_retriever(\n",
    "    search_kwargs={\"k\": 10}\n",
    ")"
   ]
  },
  {
   "cell_type": "markdown",
   "metadata": {
    "vscode": {
     "languageId": "raw"
    }
   },
   "source": [
    "## 9. 검색 결과 출력 함수\n",
    "\n",
    "검색 결과를 가독성 있게 출력하기 위한 유틸리티 함수를 정의합니다.\n",
    "- 문서 출처, 페이지 정보 표시\n",
    "- 내용 미리보기 제공\n",
    "- 구분선으로 각 문서 분리\n"
   ]
  },
  {
   "cell_type": "code",
   "execution_count": 9,
   "metadata": {},
   "outputs": [],
   "source": [
    "def print_search_results(docs, title):\n",
    "    \"\"\"검색 결과를 이쁘게 출력하는 함수\"\"\"\n",
    "    print(f\"{title}\")\n",
    "    print(\"=\" * 80)\n",
    "    print(f\"검색된 문서 수: {len(docs)}개\\n\")\n",
    "    \n",
    "    for i, doc in enumerate(docs, 1):\n",
    "        print(f\"📄 문서 {i}\")\n",
    "        print(f\"📂 출처: {doc.metadata.get('source', 'N/A')}\")\n",
    "        print(f\"📃 페이지: {doc.metadata.get(' page', 'N/A')}\")\n",
    "        print(f\"📝 내용 미리보기:\")\n",
    "        print(doc.page_content)\n",
    "        print(\"-\" * 40)\n"
   ]
  },
  {
   "cell_type": "code",
   "execution_count": 10,
   "metadata": {},
   "outputs": [
    {
     "name": "stdout",
     "output_type": "stream",
     "text": [
      "🔍 기본 Retriever 검색 결과:\n",
      "================================================================================\n",
      "검색된 문서 수: 10개\n",
      "\n",
      "📄 문서 1\n",
      "📂 출처: ./data\\AI_인재_양성_정책_현황.pdf\n",
      "📃 페이지: N/A\n",
      "📝 내용 미리보기:\n",
      ".\u0000더\u0000나아가\u0000현재까지\u0000비교적\u0000관심을\u0000덜\u0000가져온\u0000해외\u0000거주\u0000인재의\u0000활용\u0000방안에\u0000대해서도\u0000심도\u0000있게\u0000고민을\u0000해야\u0000할\u0000것이다.이를\u0000위해\u0000대학·연구기관·기업이\u0000함께\u0000참여하는\u0000산학협력\u0000및\u0000교육\u0000혁신을\u0000더\u0000강화하고,\u0000스타트업에서\u0000대기업까지\u0000폭넓게\u0000활용\u0000가능한\u0000비자\u0000완화와\u0000정주지원,\u0000그리고\u0000국책사업\u0000참여\u0000기회를\u0000대폭\u0000열어두어야\u0000한다.\u0000특히\u0000우리나라\u0000출신의\u0000해외\u0000전문인력에게는\u0000귀환\u0000시\u0000연구나\u0000창업에\u0000필요한\u0000자금·인프라를\u0000집중\u0000지원하고,\u0000귀환하지\u0000않는\u0000인재라도\u0000공동\u0000프로젝트나\u0000자문을\u0000통해\u0000국내에\u0000기여할\u0000수\u0000있는\u0000제도적\u0000장치를\u0000마련해야\u0000한다.\u0000장기적으로는\u0000국제\u0000학술행사\u0000유치와\u0000글로벌\u0000연구센터\u0000설립\u0000등으로\u0000‘AI\u0000혁신\u0000클러스터’로서의\u0000위상을\u0000높여야\u0000한다.우리나라가\u0000글로벌\u0000AI\u0000인재\u0000유출\u0000심화와\u0000국내\u0000기업의\u0000인재\u0000확보\u0000어려움과\u0000같은\u0000문제를\u0000해소하기\u0000위해서는\u0000본\u0000고에서\u0000제시된\u0000정책들에\u0000대한\u0000검토뿐만\u0000아니라,\u0000제한된\u0000자원을\u0000효율적으로\u0000활용하기\u0000위해\u0000핵심\u0000AI\u0000분야에\u0000'선택과\u0000집중'하고,\u0000인재\u0000유출\u0000방지\u0000및\u0000활용에\u0000대한\u0000‘패러다임을\u0000전환’하며,\u0000주체\u0000또는\u0000정책간\u0000‘연계를\u0000통한\u0000시너지\u0000창출’을\u0000더\u0000고민해\u0000나가야\u0000한다.\u0000이러한\u0000종합적인\u0000정책·제도\u0000개선을\u0000통해\u0000우리나라가\u0000과감하고\u0000전략적인\u0000AI\u0000인재\u0000확보·육성에\u0000성공한다면,\u0000미래산업과\u0000국가\u0000경쟁력을\u0000선도하는\u0000발판을\u0000마련할\u0000수\u0000있을\u0000것이다.\u0000\n",
      "----------------------------------------\n",
      "📄 문서 2\n",
      "📂 출처: ./data\\AI_인재_양성_정책_현황.pdf\n",
      "📃 페이지: N/A\n",
      "📝 내용 미리보기:\n",
      "SPRi\u0000이슈리포트\u0000IS-203주요국\u0000AI\u0000인재\u0000양성\u0000및\u0000유치\u0000정책\u0000:\u0000현황\u0000및\u0000시사점\n",
      "9\n",
      "□(’24.9.26., 법무부), 신(新) 출입국·이민정책추진ㅇ외국 우수 인재 유치를 통해 잠재성장률 및 지역경쟁력 확보, 선별 유입 및 사회통합 촉진으로 이민 사회 선제적 대비를 목표로 함­(첨단분야 'Top-Tier' 비자 신설) 양자기술, 우주항공 등 첨단분야의 해외 고급인재 유치를 위한 통합적 혜택의 맞춤형 비자 도입4)­(우수 유학생 취업/정착 지원 강화) 외국인 과학기술 우수 인재에게 거주(F-2) 및 영주(F-5) 비자 신속 부여 패스트트랙 제도 도입 및 졸업생 구직/인턴 기간 최대 3년으로 확대­(‘청년 드림 비자' 신설) 한국전쟁 UN 참전국과 주요 경제협력국 청년 대상, 취업/문화체험 기회 제공(어학연수와 인턴·취업 병행)­(연수/취업 기회 확대) 통상협정에서 별도의 MOU 체결 등을 통해 상대국 우수 인재에게 인력 부족 분야 연수/취업 기회 부여­(전문인력 배우자 단순노무 취업 허용) 전문인력 등의 배우자에게 비전문 직종(가사·육아 포함) 취업 허용­(개인 맞춤형 비자·체류 정보 제공 시스템 구축) 비자 취득 요건, 취업 가능 여부 등을 알기 쉽게 안내하는 온라인 가이드 시스템 구축4) 현재 첨단산업 인재혁신 특별법에서의 첨단산업은 반도체·디스플레이·이차전지·바이오, 로봇·방위산업(‘25.上 추가)이며, 관계부처 협의를 거쳐 AI, 미래모빌리티 등 추가 예정(산업부 고시 개정)\n",
      "전략과제 주요 내용\n",
      "해외인재를 활용한 ‘오픈 이노베이션’ 확산\n",
      "----------------------------------------\n",
      "📄 문서 3\n",
      "📂 출처: ./data\\AI_인재_양성_정책_현황.pdf\n",
      "📃 페이지: N/A\n",
      "📝 내용 미리보기:\n",
      "Ÿ안전하고 신뢰성 있는 AI 행정명령(’23) AI 전문가 비자 확대 및 체류 지원Ÿ국가AI자문위원회(’25) 해외 인재 유출 방지내용 없음\n",
      "ŸGlobal Talent Visa 개선(’24) 가족 동반 체류, 자유로운 근무 허용Ÿ고도인재 포인트제도(’12) 포인트 기준 충족 시 우대 조치 부여Ÿ특별고도인재제도(J-Skip)(’23) 가족 취업·정주 지원\n",
      "3.해외 거주 내국인(귀환, 활용)\n",
      "Ÿ국가전략기술육성계획(’24 글로벌 연수지원 및 귀국 인재 활용 체계 강화Ÿ제3차 국가인공지능위원회(’25) 인공지능 국가대표 정예팀 구성 및 인재 귀환 유도내용 없음Ÿ치밍계획(’20) 귀환 유도 위한 창업지원 및 정착금 제공ŸAI 기회 행동계획(’25) 국제 해커톤·연구협력, 연구 중심지로서의 매력도 제고Ÿ반도체·디지털 전략(’23) 글로벌 협력 통해 귀환 유도Ÿ일본-EU 인재 상호유학(’24) 유럽 유학생 공동 학위, 유출 방지4.해외 거주 외국인(유치, 정착, 활용)\n",
      "ŸStartup Korea Visa(’24) 혁신 외국인 창업자 비자 발급Ÿ첨단산업 해외인재 유치‧활용 전략(’24) 해외 인재 유치 확대 및 R&D 협력 추진ŸTop-Tier 비자(’25) 해외 고급 인재 즉시 정착 가능 비자 제공\n",
      "ŸAI 전문가 비자 정책 개선(’23) 비자 절차 개선 및 확대Ÿ국가AI자문위원회(’25) 글로벌 AI 인재 유치\n",
      "ŸR비자(’17) 고급인재 비자, 발급절차 간소화 및 교육/의료 가족 지원Ÿ치밍계획(’20) 정착금·창업지원, 요건 완화로 해외 인재 유치\n",
      "ŸHigh Potential Individual Visa (’22) 글로벌 상위 대학 졸업자 유치ŸAI Futures Grants(’24) AI 해외 인재 유입 위한 이주비 지원ŸAI 기회 행동계획(’25) 인재 유치 헤드헌팅 시스템, Fellowship 확대\n",
      "----------------------------------------\n",
      "📄 문서 4\n",
      "📂 출처: ./data\\AI_인재_양성_정책_현황.pdf\n",
      "📃 페이지: N/A\n",
      "📝 내용 미리보기:\n",
      "요\u0000약\u0000문AI\u0000기술은\u0000국가\u0000경쟁력을\u0000좌우하는\u0000핵심\u0000요소이다.\u0000AI가\u0000경제\u0000성장과\u0000노동시장\u0000변화,\u0000국가안보\u0000등\u0000다양한\u0000분야에\u0000막대한\u0000영향을\u0000미치는\u0000만큼\u0000각국\u0000정부는\u0000대규모\u0000인재\u0000양성\u0000정책과\u0000해외\u0000전문인력\u0000유치\u0000제도를\u0000활발히\u0000추진하며\u0000고급\u0000AI\u0000인재\u0000확보를\u0000위해\u0000치열하게\u0000경쟁하고\u0000있다.\u0000우리나라도\u0000디지털\u0000전환과\u0000초거대\u0000AI\u0000시대에\u0000대응하기\u0000위해\u0000다각도의\u0000인력양성\u0000및\u0000해외\u0000인재\u0000유치\u0000정책을\u0000펼치고\u0000있으나,\u0000AI\u0000패권\u0000경쟁\u0000속에서\u0000AI\u0000인력\u0000부족과\u0000채용\u0000난,\u0000해외로의\u0000AI\u0000인재\u0000순\u0000유출이라는\u0000난관에\u0000직면해\u0000있다.\u0000이에\u0000본\u0000고는\u0000한국과\u0000미국,\u0000중국,\u0000영국,\u0000일본의\u0000AI\u0000인재\u0000양성·유치\u0000정책\u0000현황을\u0000비교·분석함으로써\u0000국내\u0000정책\u0000개선에\u0000대한\u0000시사점을\u0000도출하는\u0000것을\u0000목적으로\u0000한다.우리나라는\u00002019년\u0000‘인공지능\u0000국가전략’을\u0000발표한\u0000이래,\u0000‘디지털\u0000인재\u0000양성\u0000종합방안’(100만\u0000디지털\u0000인재\u0000양성),\u0000‘첨단산업\u0000해외\u0000인재\u0000유치·활용\u0000전략’\u0000등으로\u0000폭넓은\u0000인력\u0000기반을\u0000확보하고자\u0000노력하고\u0000있다.\u0000최근에는\u0000‘인공지능기본법’으로\u0000AI\u0000전문인력\u0000양성과\u0000연구개발\u0000지원을\u0000법적으로\u0000보장하고,\u0000‘Top-Tier\u0000비자’와\u0000‘K-Tech\u0000Pass’\u0000등\u0000해외\u0000고급인재를\u0000신속히\u0000받아들이기\u0000위한\u0000비자\u0000사다리\u0000구축에\u0000힘쓰고\u0000있다.\u0000그러나\u0000국내\u0000AI\u0000인력\u0000부족은\u0000여전하고,\u0000중소기업의\u0000해외\u0000인재\u0000채용\u0000제약,\u0000국내\u0000고급인재의\u0000해외\u0000유출\u0000등으로,\u0000우리나라는\u0000고급인재\u0000양성과\u0000유출\u0000방지·유치\u0000매력도\u0000제고를\u0000동시에\u0000추진해야\u0000하는\u0000과제를\u0000안고\u0000있다.미국은\u0000풍부한\u0000민간\u0000R&D\u0000및\u0000세계적\u0000대학교\u0000육성\u0000시스템,\u0000개방적인\u0000이민정책을\u0000결합해\u0000글로벌\u0000AI\u0000인력\u0000블랙홀로\u0000자리\u0000잡았다.\u0000이미\u0000AI\u0000연구·교육\u0000분야에\u0000대규모\u0000연방\u0000예산을\u0000투입하는\u0000‘AI\u0000이니셔티브\u0000연간보고서(’20)‘와\u0000‘국가\u0000AI\u0000이니셔티브실(’21)‘\u0000등을\u0000통해\u0000전\u0000주기적\u0000지원을\u0000실시해\u0000왔으며,\u0000‘AI교육법(’22)‘,\u0000‘NSF\u0000Educate\u0000AI\u0000Initiative(’23)‘\u0000등으로\u0000K-12부터\u0000대학원까지\u0000AI\u0000교육을\u0000강화하고\u0000있다\n",
      "----------------------------------------\n",
      "📄 문서 5\n",
      "📂 출처: ./data\\국가별 공공부문 AI 도입 및 활용 전략.pdf\n",
      "📃 페이지: N/A\n",
      "📝 내용 미리보기:\n",
      "-  셋째, AI에 관한 DHS 비전의 투명성과 가시성을 확보하고 책임감 있는 사용을 보장하고자 주정부·지방정부, 민간기업, 학술·\n",
      "연구기관 등과 견고한 협력관계를 구축하여 AI 솔루션의 개발과 전개를 가속화 및 선도하기 위한 노력을 해야 함\n",
      "•  AI 로드맵은 AI의 효율성을 평가하기 위해 국토안보부와 해당 부처가 다음의 3개의 파일럿 프로젝트 수행할 것을 \n",
      "명시하고 있음 \n",
      "-  첫째, 국토안보부 산하 국토안보수사국(HSI)은 마약성 진통제(펜타닐 등) 또는 아동의 성적 착취에 관한 범죄 수사의 효율성\n",
      "과 정확성을 향상시키기 위해 대규모 언어 모델(LLM)을 활용하여 수사 보고서 내에서 수사관들이 관련 정보를 보다 신속히 \n",
      "검색하고 요약할 수 있도록 지원해야 함\n",
      "-  둘째, 미국 연방재난관리청(FEMA)은 주정부 및 지역사회에서 자연재해가 발생했을 때 위험을 최소화하고 회복력을 구축할 \n",
      "수 있도록 대책계획의 효율성을 향상시키기 위해 생성형 AI를 활용하여 계획 초안의 작성을 지원함\n",
      "-  셋째, 미국 이민국(USCIS)은 생성형 AI를 활용해 이민국 직원의 교육 방법을 개선하기 위해 업무와 관련된 정책이나 법률의 \n",
      "최신 정보에 관한 대화형의 훈련 모델(예: GenAI)을 개발해야 함\n",
      "----------------------------------------\n",
      "📄 문서 6\n",
      "📂 출처: ./data\\AI_인재_양성_정책_현황.pdf\n",
      "📃 페이지: N/A\n",
      "📝 내용 미리보기:\n",
      "Ÿ해외 인재가 직접 한국을 체험하고, 창업·취업·협력아이디어 구상Ÿ국내 연구·산업이 글로벌 네트워크에 편입 → 장기적으로 국제 기술 협력 선도 국가로 자리매김\n",
      "해외 AI 인재 정보 플랫폼 구축 및 연계 지원\n",
      "Ÿ국내 중소기업의 해외 AI 인력 시장 정보 접근성이 취약하고 후보자 탐색 및 초기 접촉을 위한 자원·네트워크 부족Ÿ높은 정보 탐색 비용 및 시간 소요를 줄일 수 있는 방안 필요\n",
      "Ÿ해외 AI 인력풀 및 역량 정보, 수요 기업 정보 연계를 위한 국가 차원의 통합 온라인 플랫폼 구축 또는 유사 비즈니스 플랫폼의 전략적 육성Ÿ기업 규모·산업별 AI 직무 역량 요구사항, 해외 인재 구직 정보, 비자·노무 정책 등 종합 정보 제공 Ÿ해외 주요 거점별 AI 인재 보유 기관, 교육기관, 전문 커뮤니티와 연계 및 정기 교류 세션 운영\n",
      "Ÿ중소기업의 AI 인재 탐색 및 채용 시간·비용 절감Ÿ지역·산업별 특화된 AI 인재 매칭률 제고Ÿ국가 차원의 해외 인재 데이터 축적을 통한 장기적 인력 수급 정책 기반 마련\n",
      "원격 근무 인프라 지원 및 법·제도 개선\n",
      "Ÿ미국, 유럽은 IT 관련 업무의 재택·원격 근무 환경 및 제도를 적극 확산중이며 호주, 캐나다는 디지털 노마드 비자 등 제도적 뒷받침 강화Ÿ글로벌 인재 원격 활용 수요 증가Ÿ시차·언어·법적 제한 등으로 원격 근무 정착 어려움 존재\n",
      "Ÿ원격 근무 계약 체결 절차 간소화 및 표준화Ÿ해외 인재 세무·노동 법적 지위 명확화 등 제도 정비Ÿ전용 화상회의 시스템, 협업 툴 이용료 보조 등 중소기업 대상 인프라 비용 지원Ÿ언어 지원 플랫폼, 문화 차이 이해 교육 프로그램 마련\n",
      "Ÿ해외 우수 AI 인재의 시간·공간적 제약 최소화Ÿ중소기업의 인건비 절감으로 경영지표 개선Ÿ중소기업의 원격 근무 적응 및 경쟁력 강화Ÿ합리적 법·제도·인프라를 통한 인재 활용 범위 확장해외 AI 인력 중개 기관 거점 확대 및 협업체계 구축\n",
      "----------------------------------------\n",
      "📄 문서 7\n",
      "📂 출처: ./data\\AI_인재_양성_정책_현황.pdf\n",
      "📃 페이지: N/A\n",
      "📝 내용 미리보기:\n",
      "디지털 시대의 인재 정책에 관한 검토회(’24.6.)Ÿ생성형 AI 기술의 급속한 발전과 기업의 도입 증가에 따른 인재 및 스킬 부족 문제 대두\n",
      "Ÿ디지털 시대의 인재 정책을 검토하여 산업 경쟁력을 강화하고, 기업 및 조직의 AI 활용 방안 제시ŸAI 기반 혁신을 추진할 수 있는 인재를 양성하기 위한 정책 및 지원 방안 수립\n",
      "Ÿ(AI 인재 양성) 디지털 스킬 표준 정립 및 관련 교육 프로그램 확대, IT 관련 자격 인증제도 개편Ÿ(AI 활용 지원) 기업/기관들이 안전하게 AI를 도입할 수 있도록 데이터 및 개인 정보 보호 가이드라인 제정Ÿ(기업 지원 정책) AI 기술 도입 희망 기업 대상, 보조금 및 R&D 지원 프로그램 운영Ÿ(정부의 AI 규제 및 지침) AI의 윤리적 문제를 해결하기 위해 \"AI 사업자 가이드라인 (제1.0판)\" 발표, AI 저작권 문제를 해결하기 위한 법적 기준 마련Ÿ(AI 시대의 지속적 학습 환경 구축) 디지털 인재 육성을 위한 정부의 기존 프로그램을 보완하고, 기업 및 기관들과 협력하여 AI 관련 교육 프로그램을 강화 \n",
      "일본-EU 간 AI 인재 상호유학 촉진 프로그램(’24)\n",
      "Ÿ첨단 기술 분야 글로벌 경쟁 심화로, 전문인력 수요 증가Ÿ일본 내 석‧박사 과정 학생들의 해외 유학 비율이 낮아 국제 경험 부족Ÿ경제 안보 측면에서 유럽과 협력 강화 필요성 대두 \n",
      "ŸAI, 반도체, 양자 기술, 바이오 분야 전문 인력 양성Ÿ일본과 EU 대학 간의 협력 강화 및 공동 학위 프로그램 확대Ÿ학생들의 국제 경험 확대를 통한 글로벌 역량 강화\n",
      "----------------------------------------\n",
      "📄 문서 8\n",
      "📂 출처: ./data\\AI_인재_양성_정책_현황.pdf\n",
      "📃 페이지: N/A\n",
      "📝 내용 미리보기:\n",
      ". 해외 AI 인재 유치 정책 개선­AI 전문가 유입 촉진을 위해 비자 정책 완화 및 해외 AI 연구자 유치 강화­안전하고 신뢰성 있는 AI를 위한 행정명령(’23.10.)에서 AI 전문가 비자 확대, 비자 신청 절차 개선 등 해외 인재 친화적 정책 도입­국가 AI 자문위원회는 트럼프 2기에 맞추어 미국 중심의 AI 인력 기반을 확대하면서도 해외 AI 인재를 적극 유치할 것을 권고­그러나 최근 정부효율부의 과학 연구자금 삭감으로 인해 미국의 AI 인적자원 변동에 얼마만큼의 영향이 있을지 지켜봐야 하는 상황*트 럼 프  행 정 부 의  일 론  머 스 크 가  이 끄 는  정 부 효 율 부(DOGE)에 서  정 부 차 원 의  비 용 절 감  이 니 셔 티브 에  따 라  과 학  연 구 자 금 을  삭 감 하 고  연 방 자 금 으 로  지 원 되 는  광 범 위 한  과 학  지 원 을  중 단 하 면 서 연 구 자 들 은  불 확 실 성 과  혼 란 을  겪 고  있 음. 관 련  여 론 조 사  결 과, 1,200명  이 상 의  과 학 자(전 체 응 답 자 의  4분 의  3)가  이 러 한  혼 란 에  따 라  미 국 을  떠 날  것 을  고 려 하 고  있 음(Nature, 2025)\n",
      "----------------------------------------\n",
      "📄 문서 9\n",
      "📂 출처: ./data\\AI_인재_양성_정책_현황.pdf\n",
      "📃 페이지: N/A\n",
      "📝 내용 미리보기:\n",
      "Ÿ영국으로 이주해오는 AI 인재들의 이주 비용을 충당함으로써, 글로벌 AI 인재 유치를 지원\n",
      "Ÿ초기‧중견 경력의 AI 연구원‧엔지니어들이 영국으로 이주하는 데 드는 비용을 담당 고용주를 통해 지원  - 비자, 건강, 기존 거주지 처분, 운반/여행 비용 등에 대해 조직당 최대 £100,000, 각 인재에 대해 최대 £10,000 지원\n",
      "Global Talent Visa 개선(’24.11.)※ 도입: ’20.2.\n",
      "Ÿ영국이 글로벌 기술 혁신의 중심지로 자리매김하고자 하는 전략의 일환으로, AI 등 첨단산업 분야 우수 인재 유치를 강화할 필요\n",
      "Ÿ과학, 디지털 기술, 예술 및 문화 분야에서 뛰어난 재능을 가진 개인을 유치하여 영국의 혁신과 경제적 번영을 촉진\n",
      "Ÿ영국 내 인정받는 전문가 그룹(예: UK Research and Innovation, Tech Nation)의 후원 인재에 대해 특정 분야의 우수한 재능을 보유하고 있으며, 리더로 판단되는 경우, 최대 5년의 거주 자격 제공  - 비자 승인 절차가 빠르고, 신청자가 선택한 분야에서의 기여와 잠재력을 중점 평가  - 배우자/자녀 동반 가능, 가족의 회사 설립 및 취업 가능  - 비자 연장 제한이 없고, 영국 내 자유로운 근무 활동 보장  - 기존 비자와 달리 신청자의 정량적 요건(예: 수입)보다는 전문적 성과와 잠재력을 중심으로 평가\n",
      "----------------------------------------\n",
      "📄 문서 10\n",
      "📂 출처: ./data\\국가별 공공부문 AI 도입 및 활용 전략.pdf\n",
      "📃 페이지: N/A\n",
      "📝 내용 미리보기:\n",
      "4\n",
      "1. 연구 목적\n",
      "1. 연구 목적\n",
      "  국가 AI 전환을 위한 범부처 대응 필요 \n",
      "  AI 기술은 더 이상 새로운 기술이 아니라 생성형 AI, 챗봇, 클라우드, 빅데이터 등과 함께 공공부문에서 이미 활용\n",
      "되고 있는 기술로서 긍정적 효과를 더욱 확산할 필요가 있음\n",
      "•  AI 기술은 정부기관과 공무원들의 일하는 방식 변화를 가져올 뿐만 아니라 공공서비스를 활용하는 국민의 삶에  \n",
      "직접적인 영향을 미침. 또한 국가적 차원에서는 국가경쟁력 강화의 기회, AI 산업 발전과 경제 성장, 일자리 창출, \n",
      "기술이전과 교육 등에 이르기까지 AI 활용으로 인한 긍정적 파급력은 매우 큼\n",
      "  향후 정부 업무생산성, 시민의 공공서비스에의 접근성, 정부주도 AI 접근성 확대를 위해 범정부적 전략 수립 필요\n",
      "•  윤석열 정부는 디지털플랫폼정부 출범, 국가인공지능위원회 출범을 통해 우리나라의 AI 기술 개발과 산업 발전,  \n",
      "공공부문 내 기술 확산을 촉진하고자 하고 있으며 현재 다수 부처에서 AI 활용 계획 수립을 하고 있는 상황임\n",
      "•  이에 해외 국가의 공공부문 내 AI 도입 및 활용 전략 분석을 통해 우리나라 AI 전략 수립과 집행 시 필요한 시사점\n",
      "을 도출할 필요가 있음\n",
      "  연구 목적 및 내용\n",
      "  본 이슈페이퍼는 AI 도입과 활용을 위해 해외 주요국에서 수립한 계획과 전략을 살펴보고 이를 토대로 한국 정부에  \n",
      "적용가능한 정책과 대안에 관한 아이디어를 도출하는 것을 목적으로 함. 전략 수립의 목적, 추진 주체 및 거버넌스,  \n",
      "전략의 주요 내용 분석을 통해 우리나라 정부의 AI 활용 역량 강화를 위한 시사점을 제공하고자 함\n",
      "•  영국과 호주는 공공부문 내 AI 활용 촉진에 초점을 두기보다는 자국 내 AI 산업 분야의 진흥 촉진을 위한 국가차원의  \n",
      "지원 전략을 수립하였으며, 산업부문의 발전이 공공부분과 시민사회로 확산될 것이라는 관점에서 국가 전략을  \n",
      "수립함 \n",
      "•  미국은 일찍이 AI 활용 촉진을 위해 행정부와 의회가 법령 제정을 추진했음\n",
      "----------------------------------------\n"
     ]
    }
   ],
   "source": [
    "# 검색 쿼리\n",
    "query = \"우리나라가 AI 인재 수급을 위해 비자를 풀어주나요? 이에 관한 정보를 알려주세요\"\n",
    "\n",
    "# 기본 retriever 검색\n",
    "basic_docs = retriever.invoke(query)\n",
    "print_search_results(basic_docs, \"🔍 기본 Retriever 검색 결과:\")"
   ]
  }
 ],
 "metadata": {
  "kernelspec": {
   "display_name": "test_venv",
   "language": "python",
   "name": "python3"
  },
  "language_info": {
   "codemirror_mode": {
    "name": "ipython",
    "version": 3
   },
   "file_extension": ".py",
   "mimetype": "text/x-python",
   "name": "python",
   "nbconvert_exporter": "python",
   "pygments_lexer": "ipython3",
   "version": "3.11.10"
  }
 },
 "nbformat": 4,
 "nbformat_minor": 2
}
