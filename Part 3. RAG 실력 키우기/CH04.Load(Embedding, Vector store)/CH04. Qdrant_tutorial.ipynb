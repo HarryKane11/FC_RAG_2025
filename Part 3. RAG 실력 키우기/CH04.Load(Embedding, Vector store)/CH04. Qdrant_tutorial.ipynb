{
 "cells": [
  {
   "cell_type": "markdown",
   "id": "e4912c30",
   "metadata": {},
   "source": [
    "### 1. 🚀 서버 모드 (Docker로 실행된 서버에 연결)"
   ]
  },
  {
   "cell_type": "code",
   "execution_count": 7,
   "id": "7590a0b3",
   "metadata": {},
   "outputs": [
    {
     "name": "stdout",
     "output_type": "stream",
     "text": [
      "gRPC를 통해 로컬 Qdrant 서버에 연결되었습니다.\n"
     ]
    }
   ],
   "source": [
    "# QdrantClient 초기화\n",
    "from qdrant_client import QdrantClient\n",
    "\n",
    "# gRPC로 연결 (성능이 더 좋음)\n",
    "client = QdrantClient(\"localhost\", port=6334, prefer_grpc=True)\n",
    "print(\"gRPC를 통해 로컬 Qdrant 서버에 연결되었습니다.\")"
   ]
  },
  {
   "cell_type": "markdown",
   "id": "62468bcc",
   "metadata": {},
   "source": [
    "### 2. 🗃️ 컬렉션 생성 및 관리 (세부 파라미터 설명 포함)"
   ]
  },
  {
   "cell_type": "markdown",
   "id": "0619f47f",
   "metadata": {},
   "source": [
    "#### 기본 컬렉션 생성"
   ]
  },
  {
   "cell_type": "markdown",
   "id": "b83db747",
   "metadata": {},
   "source": [
    "컬렉션을 생성할 때는 다음과 같은 필수 파라미터를 지정해야 합니다:\n",
    "\n",
    "- 벡터 크기(size): 벡터의 차원\n",
    "- 거리 메트릭(distance): 벡터 간 유사도 계산 방법"
   ]
  },
  {
   "cell_type": "code",
   "execution_count": 8,
   "id": "fe712944",
   "metadata": {},
   "outputs": [
    {
     "name": "stdout",
     "output_type": "stream",
     "text": [
      "컬렉션 'my_first_collection' 생성 완료!\n",
      "상태: green\n",
      "벡터 크기: 512\n",
      "거리 메트릭: Cosine\n"
     ]
    }
   ],
   "source": [
    "from qdrant_client.http import models\n",
    "\n",
    "# 기본 컬렉션 생성 (512차원, 코사인 유사도)\n",
    "collection_name = \"my_first_collection\"\n",
    "\n",
    "client.create_collection(\n",
    "    collection_name=collection_name,\n",
    "    vectors_config=models.VectorParams(\n",
    "        size=512,  # 벡터 차원\n",
    "        distance=models.Distance.COSINE  # 거리 메트릭\n",
    "    )\n",
    ")\n",
    "\n",
    "# 생성된 컬렉션 정보 확인\n",
    "collection_info = client.get_collection(collection_name)\n",
    "print(f\"컬렉션 '{collection_name}' 생성 완료!\")\n",
    "print(f\"상태: {collection_info.status}\")\n",
    "print(f\"벡터 크기: {collection_info.config.params.vectors.size}\")\n",
    "print(f\"거리 메트릭: {collection_info.config.params.vectors.distance}\")"
   ]
  },
  {
   "cell_type": "markdown",
   "id": "8f9da522",
   "metadata": {},
   "source": [
    "#### 고급 컬렉션 설정"
   ]
  },
  {
   "cell_type": "markdown",
   "id": "842490be",
   "metadata": {},
   "source": [
    "Qdrant는 다양한 고급 설정을 지원합니다. 여기서는 주요 파라미터들을 살펴보겠습니다:\n",
    "\n",
    "- HNSW 인덱스 설정: 검색 속도와 정확도 조정\n",
    "- 최적화 설정: 인덱싱 임계값, 세그먼트 관리 등\n",
    "- 샤딩 설정: 분산 배포를 위한 샤드 수\n",
    "- 온디스크 설정: 메모리 사용량 최적화"
   ]
  },
  {
   "cell_type": "code",
   "execution_count": 9,
   "id": "3eea5ff4",
   "metadata": {},
   "outputs": [
    {
     "name": "stdout",
     "output_type": "stream",
     "text": [
      "고급 설정이 적용된 컬렉션 'advanced_collection' 생성 완료!\n"
     ]
    }
   ],
   "source": [
    "# 고급 설정이 적용된 컬렉션 생성\n",
    "advanced_collection = \"advanced_collection\"\n",
    "\n",
    "client.create_collection(\n",
    "    collection_name=advanced_collection,\n",
    "    vectors_config=models.VectorParams(\n",
    "        size=384,\n",
    "        distance=models.Distance.COSINE\n",
    "    ),\n",
    "    # HNSW 인덱스 설정\n",
    "    hnsw_config=models.HnswConfigDiff(\n",
    "        m=16,                     # 그래프의 각 노드에서 연결되는 이웃 수 (기본값: 16)\n",
    "        ef_construct=100,         # 인덱스 구축 중 고려할 이웃 수 (기본값: 100)\n",
    "        full_scan_threshold=10000, # 이 임계값 이하의 벡터 수에서는 전체 스캔 사용\n",
    "        max_indexing_threads=0    # 0은 모든 사용 가능한 CPU 사용\n",
    "    ),\n",
    "    # 최적화 설정\n",
    "    optimizers_config=models.OptimizersConfigDiff(\n",
    "        deleted_threshold=0.2,    # 세그먼트 최적화 임계값 (삭제된 벡터 비율)\n",
    "        vacuum_min_vector_number=1000,  # 최적화 최소 벡터 수\n",
    "        default_segment_number=0, # 기본 세그먼트 수 (0은 자동)\n",
    "        indexing_threshold=20000, # 인덱싱 임계값 (바이트)\n",
    "        flush_interval_sec=5,     # 플러시 간격 (초)\n",
    "        max_optimization_threads=1 # 최적화에 사용할 최대 스레드 수\n",
    "    ),\n",
    "    # 샤딩 설정 (분산 환경에서 유용)\n",
    "    shard_number=1,\n",
    "    # 온디스크 페이로드 설정 (메모리 사용량 최적화)\n",
    "    on_disk_payload=False\n",
    ")\n",
    "\n",
    "print(f\"고급 설정이 적용된 컬렉션 '{advanced_collection}' 생성 완료!\")"
   ]
  },
  {
   "cell_type": "markdown",
   "id": "ff09a9e0",
   "metadata": {},
   "source": [
    "#### 다중 벡터 컬렉션"
   ]
  },
  {
   "cell_type": "markdown",
   "id": "bc3ad7f9",
   "metadata": {},
   "source": [
    "Qdrant는 하나의 포인트에 여러 개의 벡터를 저장할 수 있습니다. 이는 하나의 문서에 대해 여러 임베딩을 사용하는 경우에 유용합니다."
   ]
  },
  {
   "cell_type": "code",
   "execution_count": 10,
   "id": "1f00d86a",
   "metadata": {},
   "outputs": [
    {
     "name": "stdout",
     "output_type": "stream",
     "text": [
      "다중 벡터 컬렉션 'multi_vector_collection' 생성 완료!\n"
     ]
    }
   ],
   "source": [
    "# 다중 벡터 컬렉션 생성\n",
    "multi_vector_collection = \"multi_vector_collection\"\n",
    "\n",
    "client.create_collection(\n",
    "    collection_name=multi_vector_collection,\n",
    "    vectors_config={\n",
    "        \"text\": models.VectorParams(\n",
    "            size=384,\n",
    "            distance=models.Distance.COSINE\n",
    "        ),\n",
    "        \"image\": models.VectorParams(\n",
    "            size=512,\n",
    "            distance=models.Distance.EUCLID\n",
    "        )\n",
    "    }\n",
    ")\n",
    "\n",
    "print(f\"다중 벡터 컬렉션 '{multi_vector_collection}' 생성 완료!\")"
   ]
  },
  {
   "cell_type": "markdown",
   "id": "fe2c69fd",
   "metadata": {},
   "source": [
    "#### 희소 벡터 컬렉션"
   ]
  },
  {
   "cell_type": "markdown",
   "id": "e063ab5f",
   "metadata": {},
   "source": [
    "Qdrant는 희소 벡터(Sparse Vector)도 지원합니다. 희소 벡터는 대부분의 요소가 0인 벡터로, 텍스트 검색에서 특히 유용합니다."
   ]
  },
  {
   "cell_type": "code",
   "execution_count": 11,
   "id": "36fc5199",
   "metadata": {},
   "outputs": [
    {
     "name": "stdout",
     "output_type": "stream",
     "text": [
      "희소 벡터 컬렉션 'sparse_collection' 생성 완료!\n"
     ]
    }
   ],
   "source": [
    "# 희소 벡터가 포함된 컬렉션 생성\n",
    "sparse_collection = \"sparse_collection\"\n",
    "\n",
    "client.create_collection(\n",
    "    collection_name=sparse_collection,\n",
    "    vectors_config={\n",
    "        \"dense\": models.VectorParams(\n",
    "            size=384,\n",
    "            distance=models.Distance.COSINE\n",
    "        )\n",
    "    },\n",
    "    sparse_vectors_config={\n",
    "        \"sparse\": models.SparseVectorParams()\n",
    "    }\n",
    ")\n",
    "\n",
    "print(f\"희소 벡터 컬렉션 '{sparse_collection}' 생성 완료!\")"
   ]
  },
  {
   "cell_type": "markdown",
   "id": "0fad28c9",
   "metadata": {},
   "source": [
    "### 3. 컬렉션 관리"
   ]
  },
  {
   "cell_type": "markdown",
   "id": "3c9f3ee6",
   "metadata": {},
   "source": [
    "기존 컬렉션을 조회, 업데이트, 삭제하는 방법을 알아봅시다."
   ]
  },
  {
   "cell_type": "code",
   "execution_count": 12,
   "id": "f48d30af",
   "metadata": {},
   "outputs": [
    {
     "name": "stdout",
     "output_type": "stream",
     "text": [
      "컬렉션 목록:\n",
      " - sparse_collection\n",
      " - advanced_collection\n",
      " - multi_vector_collection\n",
      " - my_first_collection\n",
      "컬렉션 'my_first_collection' 업데이트 완료!\n"
     ]
    }
   ],
   "source": [
    "# 모든 컬렉션 목록 조회\n",
    "collections = client.get_collections()\n",
    "print(\"컬렉션 목록:\")\n",
    "for collection in collections.collections:\n",
    "    print(f\" - {collection.name}\")\n",
    "\n",
    "# 컬렉션 매개변수 업데이트 (예: 인덱싱 임계값 변경)\n",
    "client.update_collection(\n",
    "    collection_name=collection_name,\n",
    "    optimizers_config=models.OptimizersConfigDiff(\n",
    "        indexing_threshold=50000  # 50KB로 임계값 변경\n",
    "    )\n",
    ")\n",
    "print(f\"컬렉션 '{collection_name}' 업데이트 완료!\")\n",
    "\n",
    "# 컬렉션 삭제\n",
    "# client.delete_collection(collection_name=\"컬렉션_이름\")\n",
    "# print(\"컬렉션 삭제 완료!\")"
   ]
  },
  {
   "cell_type": "markdown",
   "id": "f58070af",
   "metadata": {},
   "source": [
    "### 4. 벡터 추가 및 관리"
   ]
  },
  {
   "cell_type": "markdown",
   "id": "20e43ac2",
   "metadata": {},
   "source": [
    "Qdrant에서는 벡터와 관련 메타데이터를 포인트(Point)로 저장합니다. 각 포인트는 벡터와 페이로드(메타데이터)로 구성됩니다."
   ]
  },
  {
   "cell_type": "markdown",
   "id": "93787694",
   "metadata": {},
   "source": [
    "#### 단일 포인트 추가"
   ]
  },
  {
   "cell_type": "code",
   "execution_count": 13,
   "id": "b294ff36",
   "metadata": {},
   "outputs": [
    {
     "name": "stdout",
     "output_type": "stream",
     "text": [
      "포인트 추가 완료!\n"
     ]
    }
   ],
   "source": [
    "import numpy as np\n",
    "import random\n",
    "\n",
    "# 랜덤 벡터 생성\n",
    "vector_size = 512\n",
    "random_vector = np.random.rand(vector_size).tolist()\n",
    "\n",
    "# 단일 포인트 추가\n",
    "client.upsert(\n",
    "    collection_name=collection_name,\n",
    "    points=[\n",
    "        models.PointStruct(\n",
    "            id=1,  # 포인트 ID (정수 또는 UUID 문자열 가능)\n",
    "            vector=random_vector,  # 벡터 데이터\n",
    "            payload={  # 메타데이터 (페이로드)\n",
    "                \"title\": \"첫 번째 문서\",\n",
    "                \"text\": \"이것은 Qdrant에 추가한 첫 번째 문서입니다.\",\n",
    "                \"category\": \"tutorial\",\n",
    "                \"rating\": 5,\n",
    "                \"tags\": [\"qdrant\", \"vector\", \"database\"]\n",
    "            }\n",
    "        )\n",
    "    ]\n",
    ")\n",
    "\n",
    "print(\"포인트 추가 완료!\")"
   ]
  },
  {
   "cell_type": "markdown",
   "id": "5ae0c0b5",
   "metadata": {},
   "source": [
    "#### 여러 포인트 일괄 추가"
   ]
  },
  {
   "cell_type": "code",
   "execution_count": 14,
   "id": "eb888ba7",
   "metadata": {},
   "outputs": [
    {
     "name": "stdout",
     "output_type": "stream",
     "text": [
      "5개의 포인트를 일괄 추가했습니다.\n"
     ]
    }
   ],
   "source": [
    "# 여러 포인트 생성\n",
    "batch_size = 5\n",
    "points = []\n",
    "\n",
    "for i in range(2, 2 + batch_size):\n",
    "    # 랜덤 벡터 생성\n",
    "    vector = np.random.rand(vector_size).tolist()\n",
    "    \n",
    "    # 카테고리 랜덤 선택\n",
    "    categories = [\"tutorial\", \"guide\", \"article\", \"news\", \"blog\"]\n",
    "    category = random.choice(categories)\n",
    "    \n",
    "    # 평점 랜덤 생성 (1~5)\n",
    "    rating = random.randint(1, 5)\n",
    "    \n",
    "    # 태그 랜덤 선택\n",
    "    all_tags = [\"qdrant\", \"vector\", \"database\", \"python\", \"tutorial\", \"ai\", \"ml\", \"search\"]\n",
    "    tags = random.sample(all_tags, random.randint(1, 4))\n",
    "    \n",
    "    # 포인트 생성\n",
    "    point = models.PointStruct(\n",
    "        id=i,\n",
    "        vector=vector,\n",
    "        payload={\n",
    "            \"title\": f\"문서 #{i}\",\n",
    "            \"text\": f\"이것은 Qdrant 튜토리얼 샘플 문서 #{i}입니다.\",\n",
    "            \"category\": category,\n",
    "            \"rating\": rating,\n",
    "            \"tags\": tags\n",
    "        }\n",
    "    )\n",
    "    \n",
    "    points.append(point)\n",
    "\n",
    "# 여러 포인트 일괄 추가\n",
    "client.upsert(\n",
    "    collection_name=collection_name,\n",
    "    points=points\n",
    ")\n",
    "\n",
    "print(f\"{batch_size}개의 포인트를 일괄 추가했습니다.\")"
   ]
  },
  {
   "cell_type": "markdown",
   "id": "492e6d27",
   "metadata": {},
   "source": [
    "#### 다중 벡터 포인트 추가"
   ]
  },
  {
   "cell_type": "markdown",
   "id": "ae6081ed",
   "metadata": {},
   "source": [
    "다중 벡터 컬렉션에는 하나의 포인트에 여러 개의 벡터를 포함시킬 수 있습니다."
   ]
  },
  {
   "cell_type": "code",
   "execution_count": 15,
   "id": "38bfa7ac",
   "metadata": {},
   "outputs": [
    {
     "name": "stdout",
     "output_type": "stream",
     "text": [
      "다중 벡터 포인트 추가 완료!\n"
     ]
    }
   ],
   "source": [
    "# 다중 벡터 포인트 추가\n",
    "text_vector = np.random.rand(384).tolist()  # 텍스트 벡터\n",
    "image_vector = np.random.rand(512).tolist()  # 이미지 벡터\n",
    "\n",
    "client.upsert(\n",
    "    collection_name=multi_vector_collection,\n",
    "    points=[\n",
    "        models.PointStruct(\n",
    "            id=1,\n",
    "            vector={\n",
    "                \"text\": text_vector,\n",
    "                \"image\": image_vector\n",
    "            },\n",
    "            payload={\n",
    "                \"title\": \"다중 벡터 예제\",\n",
    "                \"description\": \"텍스트와 이미지 벡터가 모두 포함된 예제입니다.\",\n",
    "                \"url\": \"https://example.com/document\",\n",
    "                \"timestamp\": \"2023-01-01T12:00:00Z\"\n",
    "            }\n",
    "        )\n",
    "    ]\n",
    ")\n",
    "\n",
    "print(\"다중 벡터 포인트 추가 완료!\")"
   ]
  },
  {
   "cell_type": "markdown",
   "id": "95eea1d2",
   "metadata": {},
   "source": [
    "#### 포인트 조회 및 관리"
   ]
  },
  {
   "cell_type": "code",
   "execution_count": 19,
   "id": "b554afbd",
   "metadata": {},
   "outputs": [
    {
     "name": "stdout",
     "output_type": "stream",
     "text": [
      "조회된 포인트:\n",
      "ID: 1\n",
      "페이로드: {'rating': 5, 'title': '첫 번째 문서', 'tags': ['qdrant', 'vector', 'database'], 'text': '이것은 Qdrant에 추가한 첫 번째 문서입니다.', 'category': 'tutorial'}\n",
      "벡터 차원: 512\n",
      "컬렉션 'my_first_collection'의 포인트 수: 6\n"
     ]
    }
   ],
   "source": [
    "# 특정 ID의 포인트 조회\n",
    "retrieved_point = client.retrieve(\n",
    "    collection_name=collection_name,\n",
    "    ids=[1],\n",
    "    with_payload=True,  # 페이로드 포함\n",
    "    with_vectors=True   # 벡터 포함\n",
    ")\n",
    "\n",
    "print(\"조회된 포인트:\")\n",
    "print(f\"ID: {retrieved_point[0].id}\")\n",
    "print(f\"페이로드: {retrieved_point[0].payload}\")\n",
    "print(f\"벡터 차원: {len(retrieved_point[0].vector)}\")\n",
    "\n",
    "# 포인트 수 확인\n",
    "count = client.count(\n",
    "    collection_name=collection_name,\n",
    "    exact=True  # 정확한 수 계산\n",
    ")\n",
    "print(f\"컬렉션 '{collection_name}'의 포인트 수: {count.count}\")\n",
    "\n",
    "# 포인트 삭제\n",
    "# client.delete(\n",
    "#     collection_name=collection_name,\n",
    "#     points_selector=models.PointIdsList(\n",
    "#         points=[1, 2, 3]  # 삭제할 포인트 ID 목록\n",
    "#     )\n",
    "# )\n",
    "# print(\"포인트 삭제 완료!\")"
   ]
  },
  {
   "cell_type": "markdown",
   "id": "24568c59",
   "metadata": {},
   "source": [
    "#### 검색 기능 활용 (유사도 검색, 필터링 등)"
   ]
  },
  {
   "cell_type": "markdown",
   "id": "4720d7af",
   "metadata": {},
   "source": [
    "Qdrant의 핵심 기능은 벡터 유사도 검색입니다. 이 섹션에서는 검색 기능과 다양한 옵션을 살펴봅니다."
   ]
  },
  {
   "cell_type": "markdown",
   "id": "0f54b0ad",
   "metadata": {},
   "source": [
    "#### 기본 유사도 검색"
   ]
  },
  {
   "cell_type": "code",
   "execution_count": 20,
   "id": "bf2946b5",
   "metadata": {},
   "outputs": [
    {
     "name": "stdout",
     "output_type": "stream",
     "text": [
      "검색 결과:\n",
      "ID: 1, 유사도 점수: 0.7526421546936035\n",
      "ID: 6, 유사도 점수: 0.7412857413291931\n",
      "ID: 4, 유사도 점수: 0.740224301815033\n",
      "\n",
      "페이로드를 포함한 검색 결과:\n",
      "ID: 1, 유사도 점수: 0.7526421546936035\n",
      "제목: 첫 번째 문서\n",
      "카테고리: tutorial\n",
      "태그: ['qdrant', 'vector', 'database']\n",
      "----------------------------------------\n",
      "ID: 6, 유사도 점수: 0.7412857413291931\n",
      "제목: 문서 #6\n",
      "카테고리: article\n",
      "태그: ['qdrant', 'search', 'ai', 'python']\n",
      "----------------------------------------\n",
      "ID: 4, 유사도 점수: 0.740224301815033\n",
      "제목: 문서 #4\n",
      "카테고리: article\n",
      "태그: ['qdrant', 'vector', 'ai', 'python']\n",
      "----------------------------------------\n"
     ]
    }
   ],
   "source": [
    "# 검색용 쿼리 벡터 생성\n",
    "query_vector = np.random.rand(vector_size).tolist()\n",
    "\n",
    "# 기본 유사도 검색\n",
    "search_results = client.search(\n",
    "    collection_name=collection_name,\n",
    "    query_vector=query_vector,\n",
    "    limit=3  # 상위 3개 결과만 반환\n",
    ")\n",
    "\n",
    "print(\"검색 결과:\")\n",
    "for result in search_results:\n",
    "    print(f\"ID: {result.id}, 유사도 점수: {result.score}\")\n",
    "    \n",
    "# 페이로드와 함께 결과 조회\n",
    "search_results_with_payload = client.search(\n",
    "    collection_name=collection_name,\n",
    "    query_vector=query_vector,\n",
    "    limit=3,\n",
    "    with_payload=True  # 페이로드 포함\n",
    ")\n",
    "\n",
    "print(\"\\n페이로드를 포함한 검색 결과:\")\n",
    "for result in search_results_with_payload:\n",
    "    print(f\"ID: {result.id}, 유사도 점수: {result.score}\")\n",
    "    print(f\"제목: {result.payload.get('title')}\")\n",
    "    print(f\"카테고리: {result.payload.get('category')}\")\n",
    "    print(f\"태그: {result.payload.get('tags')}\")\n",
    "    print(\"-\" * 40)"
   ]
  },
  {
   "cell_type": "markdown",
   "id": "a3bd3267",
   "metadata": {},
   "source": [
    "#### 필터링을 적용한 검색"
   ]
  },
  {
   "cell_type": "markdown",
   "id": "f05d1174",
   "metadata": {},
   "source": [
    "Qdrant는 강력한 필터링 기능을 제공합니다. 필터를 사용하여 특정 조건을 만족하는 결과만 검색할 수 있습니다."
   ]
  },
  {
   "cell_type": "code",
   "execution_count": 21,
   "id": "ab9e81e6",
   "metadata": {},
   "outputs": [
    {
     "name": "stdout",
     "output_type": "stream",
     "text": [
      "카테고리 'tutorial'로 필터링된 검색 결과:\n",
      "ID: 1, 유사도 점수: 0.7526421546936035\n",
      "제목: 첫 번째 문서\n",
      "카테고리: tutorial\n",
      "----------------------------------------\n",
      "ID: 5, 유사도 점수: 0.7335762977600098\n",
      "제목: 문서 #5\n",
      "카테고리: tutorial\n",
      "----------------------------------------\n",
      "\n",
      "복합 필터링된 검색 결과 (평점 4 이상 & 'qdrant' 태그):\n",
      "ID: 1, 유사도 점수: 0.7526421546936035\n",
      "제목: 첫 번째 문서\n",
      "평점: 5\n",
      "태그: ['qdrant', 'vector', 'database']\n",
      "----------------------------------------\n",
      "ID: 4, 유사도 점수: 0.740224301815033\n",
      "제목: 문서 #4\n",
      "평점: 5\n",
      "태그: ['qdrant', 'vector', 'ai', 'python']\n",
      "----------------------------------------\n"
     ]
    }
   ],
   "source": [
    "# 카테고리가 'tutorial'인 포인트만 검색\n",
    "filter_category = models.Filter(\n",
    "    must=[\n",
    "        models.FieldCondition(\n",
    "            key=\"category\",\n",
    "            match=models.MatchValue(value=\"tutorial\")\n",
    "        )\n",
    "    ]\n",
    ")\n",
    "\n",
    "search_with_filter = client.search(\n",
    "    collection_name=collection_name,\n",
    "    query_vector=query_vector,\n",
    "    query_filter=filter_category,  # filter → query_filter로 변경\n",
    "    limit=3,\n",
    "    with_payload=True\n",
    ")\n",
    "\n",
    "print(\"카테고리 'tutorial'로 필터링된 검색 결과:\")\n",
    "for result in search_with_filter:\n",
    "    print(f\"ID: {result.id}, 유사도 점수: {result.score}\")\n",
    "    print(f\"제목: {result.payload.get('title')}\")\n",
    "    print(f\"카테고리: {result.payload.get('category')}\")\n",
    "    print(\"-\" * 40)\n",
    "\n",
    "# 복합 필터 예제: 평점이 4 이상이고 'qdrant' 태그가 있는 포인트 검색\n",
    "complex_filter = models.Filter(\n",
    "    must=[\n",
    "        # 평점이 4 이상\n",
    "        models.FieldCondition(\n",
    "            key=\"rating\",\n",
    "            range=models.Range(\n",
    "                gte=4  # Greater than or equal to 4\n",
    "            )\n",
    "        ),\n",
    "        # 'qdrant' 태그 포함\n",
    "        models.FieldCondition(\n",
    "            key=\"tags\",\n",
    "            match=models.MatchValue(value=\"qdrant\")\n",
    "        )\n",
    "    ]\n",
    ")\n",
    "\n",
    "search_with_complex_filter = client.search(\n",
    "    collection_name=collection_name,\n",
    "    query_vector=query_vector,\n",
    "    query_filter=complex_filter,  # filter → query_filter로 변경\n",
    "    limit=3,\n",
    "    with_payload=True\n",
    ")\n",
    "\n",
    "print(\"\\n복합 필터링된 검색 결과 (평점 4 이상 & 'qdrant' 태그):\")\n",
    "for result in search_with_complex_filter:\n",
    "    print(f\"ID: {result.id}, 유사도 점수: {result.score}\")\n",
    "    print(f\"제목: {result.payload.get('title')}\")\n",
    "    print(f\"평점: {result.payload.get('rating')}\")\n",
    "    print(f\"태그: {result.payload.get('tags')}\")\n",
    "    print(\"-\" * 40)"
   ]
  },
  {
   "cell_type": "markdown",
   "id": "d17fbac3",
   "metadata": {},
   "source": [
    "#### 고급 검색 옵션"
   ]
  },
  {
   "cell_type": "markdown",
   "id": "48cc5f2b",
   "metadata": {},
   "source": [
    "Qdrant는 다양한 고급 검색 옵션을 제공합니다. 여기서는 몇 가지 중요한 옵션을 살펴보겠습니다.\n",
    "\n"
   ]
  },
  {
   "cell_type": "code",
   "execution_count": 22,
   "id": "96e55117",
   "metadata": {},
   "outputs": [
    {
     "name": "stdout",
     "output_type": "stream",
     "text": [
      "정확도를 높인 검색 결과 (hnsw_ef=128):\n",
      "ID: 1, 유사도 점수: 0.7526421546936035\n",
      "ID: 6, 유사도 점수: 0.7412857413291931\n",
      "ID: 4, 유사도 점수: 0.740224301815033\n",
      "\n",
      "정확한 검색 결과 (exact=True):\n",
      "ID: 1, 유사도 점수: 0.7526421546936035\n",
      "ID: 6, 유사도 점수: 0.7412857413291931\n",
      "ID: 4, 유사도 점수: 0.740224301815033\n",
      "\n",
      "점수 임계값이 적용된 검색 결과 (score_threshold=0.7):\n",
      "ID: 1, 유사도 점수: 0.7526421546936035\n",
      "ID: 6, 유사도 점수: 0.7412857413291931\n",
      "ID: 4, 유사도 점수: 0.740224301815033\n",
      "ID: 5, 유사도 점수: 0.7335762977600098\n",
      "ID: 3, 유사도 점수: 0.7314790487289429\n",
      "ID: 2, 유사도 점수: 0.7295136451721191\n"
     ]
    }
   ],
   "source": [
    "# 정확도와 속도 조정 (hnsw_ef 파라미터)\n",
    "search_precise = client.search(\n",
    "    collection_name=collection_name,\n",
    "    query_vector=query_vector,\n",
    "    limit=3,\n",
    "    with_payload=True,\n",
    "    search_params=models.SearchParams(hnsw_ef=128)  # 높을수록 더 정확하지만 느림 (기본값보다 높게 설정)\n",
    ")\n",
    "\n",
    "print(\"정확도를 높인 검색 결과 (hnsw_ef=128):\")\n",
    "for result in search_precise:\n",
    "    print(f\"ID: {result.id}, 유사도 점수: {result.score}\")\n",
    "\n",
    "# 정확한 검색 결과 (근사치 알고리즘 사용 안 함)\n",
    "search_exact = client.search(\n",
    "    collection_name=collection_name,\n",
    "    query_vector=query_vector,\n",
    "    limit=3,\n",
    "    with_payload=True,\n",
    "    search_params=models.SearchParams(exact=True)  # 근사치 알고리즘을 사용하지 않고 정확한 결과 계산\n",
    ")\n",
    "\n",
    "print(\"\\n정확한 검색 결과 (exact=True):\")\n",
    "for result in search_exact:\n",
    "    print(f\"ID: {result.id}, 유사도 점수: {result.score}\")\n",
    "\n",
    "# 점수 임계값 설정\n",
    "search_threshold = client.search(\n",
    "    collection_name=collection_name,\n",
    "    query_vector=query_vector,\n",
    "    limit=10,  # 최대 10개 결과 요청\n",
    "    with_payload=True,\n",
    "    score_threshold=0.7  # 유사도 점수가 0.7 이상인 결과만 반환\n",
    ")\n",
    "\n",
    "print(\"\\n점수 임계값이 적용된 검색 결과 (score_threshold=0.7):\")\n",
    "for result in search_threshold:\n",
    "    print(f\"ID: {result.id}, 유사도 점수: {result.score}\")"
   ]
  },
  {
   "cell_type": "markdown",
   "id": "09d5100e",
   "metadata": {},
   "source": [
    "#### 포인트 ID로 검색"
   ]
  },
  {
   "cell_type": "markdown",
   "id": "3d61d2c4",
   "metadata": {},
   "source": [
    "이미 저장된 포인트의 ID를 사용하여 유사한 포인트를 검색할 수 있습니다.\n",
    "\n"
   ]
  },
  {
   "cell_type": "code",
   "execution_count": 23,
   "id": "a431dacd",
   "metadata": {},
   "outputs": [
    {
     "name": "stdout",
     "output_type": "stream",
     "text": [
      "포인트 ID 1과 유사한 검색 결과:\n",
      "ID: 3, 유사도 점수: 0.771040141582489\n",
      "제목: 문서 #3\n",
      "----------------------------------------\n",
      "ID: 6, 유사도 점수: 0.7631308436393738\n",
      "제목: 문서 #6\n",
      "----------------------------------------\n",
      "ID: 2, 유사도 점수: 0.7566003799438477\n",
      "제목: 문서 #2\n",
      "----------------------------------------\n"
     ]
    }
   ],
   "source": [
    "# 포인트 ID로 검색 (포인트 ID 1과 유사한 포인트 검색)\n",
    "search_by_id = client.recommend(\n",
    "    collection_name=collection_name,\n",
    "    positive=[1],  # 기존 포인트 ID (추천 기준 포인트)\n",
    "    limit=3,\n",
    "    with_payload=True\n",
    ")\n",
    "\n",
    "print(\"포인트 ID 1과 유사한 검색 결과:\")\n",
    "for result in search_by_id:\n",
    "    print(f\"ID: {result.id}, 유사도 점수: {result.score}\")\n",
    "    print(f\"제목: {result.payload.get('title')}\")\n",
    "    print(\"-\" * 40)"
   ]
  },
  {
   "cell_type": "markdown",
   "id": "034345c3",
   "metadata": {},
   "source": [
    "#### 다중 벡터 검색"
   ]
  },
  {
   "cell_type": "markdown",
   "id": "a20658f5",
   "metadata": {},
   "source": [
    "다중 벡터 컬렉션에서 특정 벡터 이름을 지정하여 검색할 수 있습니다."
   ]
  },
  {
   "cell_type": "code",
   "execution_count": 24,
   "id": "e411b15d",
   "metadata": {},
   "outputs": [
    {
     "name": "stdout",
     "output_type": "stream",
     "text": [
      "텍스트 벡터를 사용한 검색 결과:\n",
      "ID: 1, 유사도 점수: 0.7475517392158508\n",
      "제목: 다중 벡터 예제\n",
      "----------------------------------------\n"
     ]
    }
   ],
   "source": [
    "# 다중 벡터 컬렉션에서 텍스트 벡터로 검색\n",
    "text_query = np.random.rand(384).tolist()\n",
    "\n",
    "text_vector_search = client.search(\n",
    "    collection_name=multi_vector_collection,\n",
    "    query_vector=(\"text\", text_query),  # 튜플 형태로 벡터 이름과 벡터 전달\n",
    "    limit=3,\n",
    "    with_payload=True\n",
    ")\n",
    "\n",
    "print(\"텍스트 벡터를 사용한 검색 결과:\")\n",
    "for result in text_vector_search:\n",
    "    print(f\"ID: {result.id}, 유사도 점수: {result.score}\")\n",
    "    print(f\"제목: {result.payload.get('title')}\")\n",
    "    print(\"-\" * 40)"
   ]
  },
  {
   "cell_type": "markdown",
   "id": "6ee6a80b",
   "metadata": {},
   "source": [
    "### LangChain과 Qdrant 연동 방법"
   ]
  },
  {
   "cell_type": "markdown",
   "id": "6e6bf9ad",
   "metadata": {},
   "source": [
    "이 섹션에서는 LangChain과 Qdrant를 연동하는 방법을 알아봅니다. LangChain은 대규모 언어 모델(LLM)을 활용한 애플리케이션 개발을 위한 프레임워크로, Qdrant를 벡터 저장소로 사용할 수 있습니다."
   ]
  },
  {
   "cell_type": "markdown",
   "id": "44af8823",
   "metadata": {},
   "source": [
    "#### 환경 설정"
   ]
  },
  {
   "cell_type": "markdown",
   "id": "7a51ef16",
   "metadata": {},
   "source": [
    "먼저 필요한 패키지가 설치되어 있는지 확인합니다."
   ]
  },
  {
   "cell_type": "code",
   "execution_count": 26,
   "id": "1f44f38e",
   "metadata": {},
   "outputs": [
    {
     "name": "stdout",
     "output_type": "stream",
     "text": [
      "LangChain과 관련 패키지가 정상적으로 임포트되었습니다.\n"
     ]
    }
   ],
   "source": [
    "try:\n",
    "    from langchain_qdrant import QdrantVectorStore\n",
    "    from langchain_ollama import OllamaEmbeddings\n",
    "    from langchain_community.document_loaders import TextLoader\n",
    "    from langchain.text_splitter import CharacterTextSplitter\n",
    "    print(\"LangChain과 관련 패키지가 정상적으로 임포트되었습니다.\")\n",
    "except ImportError as e:\n",
    "    print(f\"패키지 설치가 필요합니다: {e}\")\n",
    "    print(\"다음 명령어로 설치하세요: pip install langchain-qdrant langchain-ollama langchain-community\")"
   ]
  },
  {
   "cell_type": "markdown",
   "id": "98029436",
   "metadata": {},
   "source": [
    "#### QdrantVectorStore 초기화"
   ]
  },
  {
   "cell_type": "code",
   "execution_count": 29,
   "id": "7f594800",
   "metadata": {},
   "outputs": [
    {
     "name": "stdout",
     "output_type": "stream",
     "text": [
      "QdrantVectorStore가 langchain_collection 컬렉션으로 초기화되었습니다.\n"
     ]
    }
   ],
   "source": [
    "from qdrant_client import QdrantClient\n",
    "from qdrant_client.http import models\n",
    "from qdrant_client.http.models import Distance, VectorParams\n",
    "\n",
    "# OpenAI 임베딩 모델 초기화\n",
    "embeddings = OllamaEmbeddings(model=\"bge-m3\")\n",
    "\n",
    "# 새로운 Qdrant 컬렉션 이름 설정\n",
    "langchain_collection = \"langchain_collection\"\n",
    "\n",
    "# Qdrant 클라이언트 생성\n",
    "client = QdrantClient(\":memory:\")\n",
    "\n",
    "# 컬렉션 생성\n",
    "client.create_collection(\n",
    "    collection_name=langchain_collection,\n",
    "    vectors_config=VectorParams(size=1024, distance=Distance.COSINE),\n",
    ")\n",
    "\n",
    "# QdrantVectorStore 초기화 (메모리 모드)\n",
    "vector_store = QdrantVectorStore(\n",
    "    client=client,\n",
    "    collection_name=langchain_collection,\n",
    "    embedding=embeddings\n",
    ")\n",
    "\n",
    "print(f\"QdrantVectorStore가 {langchain_collection} 컬렉션으로 초기화되었습니다.\")"
   ]
  },
  {
   "cell_type": "markdown",
   "id": "b1ef5a28",
   "metadata": {},
   "source": [
    "#### 문서 추가"
   ]
  },
  {
   "cell_type": "markdown",
   "id": "cc2a332e",
   "metadata": {},
   "source": [
    "이제 문서를 벡터 저장소에 추가해 보겠습니다.\n",
    "\n"
   ]
  },
  {
   "cell_type": "code",
   "execution_count": 30,
   "id": "3b44dae0",
   "metadata": {},
   "outputs": [
    {
     "name": "stdout",
     "output_type": "stream",
     "text": [
      "5개의 문서가 벡터 저장소에 추가되었습니다.\n"
     ]
    }
   ],
   "source": [
    "from langchain_core.documents import Document\n",
    "from uuid import uuid4\n",
    "\n",
    "# 예제 문서 생성\n",
    "documents = [\n",
    "    Document(\n",
    "        page_content=\"Qdrant는 벡터 유사도 검색을 위한 오픈소스 벡터 데이터베이스입니다. 러스트로 작성되었으며 고성능을 자랑합니다.\",\n",
    "        metadata={\"source\": \"documentation\", \"topic\": \"vector_database\", \"author\": \"qdrant_team\"}\n",
    "    ),\n",
    "    Document(\n",
    "        page_content=\"LangChain은 대규모 언어 모델(LLM)을 사용하는 애플리케이션 개발을 위한 프레임워크입니다.\",\n",
    "        metadata={\"source\": \"documentation\", \"topic\": \"framework\", \"author\": \"langchain_team\"}\n",
    "    ),\n",
    "    Document(\n",
    "        page_content=\"RAG(Retrieval Augmented Generation)는 대규모 언어 모델의 성능을 향상시키기 위해 외부 지식을 가져오는 방법입니다.\",\n",
    "        metadata={\"source\": \"research_paper\", \"topic\": \"llm\", \"author\": \"ai_researcher\"}\n",
    "    ),\n",
    "    Document(\n",
    "        page_content=\"벡터 데이터베이스는 임베딩을 저장하고 효율적으로 검색하기 위한 특수 데이터베이스입니다.\",\n",
    "        metadata={\"source\": \"blog\", \"topic\": \"vector_database\", \"author\": \"tech_blogger\"}\n",
    "    ),\n",
    "    Document(\n",
    "        page_content=\"HNSW(Hierarchical Navigable Small World)는 고차원 벡터의 근사 최근접 이웃 검색을 위한 알고리즘입니다.\",\n",
    "        metadata={\"source\": \"research_paper\", \"topic\": \"algorithm\", \"author\": \"algorithm_researcher\"}\n",
    "    )\n",
    "]\n",
    "\n",
    "# 문서 ID 생성\n",
    "ids = [str(uuid4()) for _ in range(len(documents))]\n",
    "\n",
    "# 문서를 벡터 저장소에 추가\n",
    "vector_store.add_documents(documents=documents, ids=ids)\n",
    "\n",
    "print(f\"{len(documents)}개의 문서가 벡터 저장소에 추가되었습니다.\")"
   ]
  },
  {
   "cell_type": "markdown",
   "id": "f995c04e",
   "metadata": {},
   "source": [
    "#### 유사도 검색"
   ]
  },
  {
   "cell_type": "markdown",
   "id": "4bb2d445",
   "metadata": {},
   "source": [
    "이제 LangChain의 인터페이스를 통해 유사도 검색을 수행해 보겠습니다.\n",
    "\n"
   ]
  },
  {
   "cell_type": "code",
   "execution_count": 31,
   "id": "cfaba0a4",
   "metadata": {},
   "outputs": [
    {
     "name": "stdout",
     "output_type": "stream",
     "text": [
      "검색 쿼리: '벡터 데이터베이스란 무엇인가요?'\n",
      "검색 결과:\n",
      "1. 벡터 데이터베이스는 임베딩을 저장하고 효율적으로 검색하기 위한 특수 데이터베이스입니다.\n",
      "   메타데이터: {'source': 'blog', 'topic': 'vector_database', 'author': 'tech_blogger', '_id': 'f88deefa-f6da-4842-9284-927ccbedd63a', '_collection_name': 'langchain_collection'}\n",
      "--------------------------------------------------\n",
      "2. Qdrant는 벡터 유사도 검색을 위한 오픈소스 벡터 데이터베이스입니다. 러스트로 작성되었으며 고성능을 자랑합니다.\n",
      "   메타데이터: {'source': 'documentation', 'topic': 'vector_database', 'author': 'qdrant_team', '_id': '7dff5e89-fa27-41c4-b5f6-e29a4aaff2ad', '_collection_name': 'langchain_collection'}\n",
      "--------------------------------------------------\n",
      "\n",
      "점수가 포함된 검색 결과:\n",
      "1. 점수: 0.7468298660494885\n",
      "   내용: 벡터 데이터베이스는 임베딩을 저장하고 효율적으로 검색하기 위한 특수 데이터베이스입니다.\n",
      "   메타데이터: {'source': 'blog', 'topic': 'vector_database', 'author': 'tech_blogger', '_id': 'f88deefa-f6da-4842-9284-927ccbedd63a', '_collection_name': 'langchain_collection'}\n",
      "--------------------------------------------------\n",
      "2. 점수: 0.5780042436225572\n",
      "   내용: Qdrant는 벡터 유사도 검색을 위한 오픈소스 벡터 데이터베이스입니다. 러스트로 작성되었으며 고성능을 자랑합니다.\n",
      "   메타데이터: {'source': 'documentation', 'topic': 'vector_database', 'author': 'qdrant_team', '_id': '7dff5e89-fa27-41c4-b5f6-e29a4aaff2ad', '_collection_name': 'langchain_collection'}\n",
      "--------------------------------------------------\n"
     ]
    }
   ],
   "source": [
    "# 기본 유사도 검색\n",
    "query = \"벡터 데이터베이스란 무엇인가요?\"\n",
    "docs = vector_store.similarity_search(query, k=2)\n",
    "\n",
    "print(f\"검색 쿼리: '{query}'\")\n",
    "print(\"검색 결과:\")\n",
    "for i, doc in enumerate(docs):\n",
    "    print(f\"{i+1}. {doc.page_content}\")\n",
    "    print(f\"   메타데이터: {doc.metadata}\")\n",
    "    print(\"-\" * 50)\n",
    "\n",
    "# 유사도 점수가 포함된 검색\n",
    "docs_and_scores = vector_store.similarity_search_with_score(query, k=2)\n",
    "\n",
    "print(\"\\n점수가 포함된 검색 결과:\")\n",
    "for i, (doc, score) in enumerate(docs_and_scores):\n",
    "    print(f\"{i+1}. 점수: {score}\")\n",
    "    print(f\"   내용: {doc.page_content}\")\n",
    "    print(f\"   메타데이터: {doc.metadata}\")\n",
    "    print(\"-\" * 50)"
   ]
  },
  {
   "cell_type": "markdown",
   "id": "0a6d8a5d",
   "metadata": {},
   "source": [
    "#### 메타데이터 필터링"
   ]
  },
  {
   "cell_type": "markdown",
   "id": "6f8855ea",
   "metadata": {},
   "source": [
    "LangChain을 통해 메타데이터 필터링을 사용할 수 있습니다.\n",
    "\n"
   ]
  },
  {
   "cell_type": "code",
   "execution_count": 38,
   "id": "486d589b",
   "metadata": {},
   "outputs": [
    {
     "name": "stdout",
     "output_type": "stream",
     "text": [
      "메타데이터 필터가 적용된 검색 결과:\n"
     ]
    }
   ],
   "source": [
    "# 메타데이터 필터를 적용한 검색\n",
    "filtered_docs = vector_store.similarity_search(\n",
    "    query=\"벡터 데이터베이스란 무엇인가요?\",\n",
    "    k=2,\n",
    "    filter=models.Filter(\n",
    "        should=[\n",
    "            models.FieldCondition(\n",
    "                key=\"topic\",\n",
    "                match=models.MatchValue(\n",
    "                    value=\"vector_database\"\n",
    "                ),\n",
    "            ),\n",
    "        ]\n",
    "    ),\n",
    ")\n",
    "\n",
    "print(\"메타데이터 필터가 적용된 검색 결과:\")\n",
    "for i, doc in enumerate(filtered_docs):\n",
    "    print(f\"{i+1}. {doc.page_content}\")\n",
    "    print(f\"   메타데이터: {doc.metadata}\")\n",
    "    print(\"-\" * 50)"
   ]
  },
  {
   "cell_type": "code",
   "execution_count": 39,
   "id": "868fac23",
   "metadata": {},
   "outputs": [
    {
     "data": {
      "text/plain": [
       "[Document(metadata={'source': 'blog', 'topic': 'vector_database', 'author': 'tech_blogger', '_id': 'f88deefa-f6da-4842-9284-927ccbedd63a', '_collection_name': 'langchain_collection'}, page_content='벡터 데이터베이스는 임베딩을 저장하고 효율적으로 검색하기 위한 특수 데이터베이스입니다.')]"
      ]
     },
     "execution_count": 39,
     "metadata": {},
     "output_type": "execute_result"
    }
   ],
   "source": [
    "retriever = vector_store.as_retriever(search_type=\"mmr\", search_kwargs={\"k\": 1})\n",
    "retriever.invoke(\"벡터 데이터베이스란 무엇인가요?\")"
   ]
  },
  {
   "cell_type": "markdown",
   "id": "04baf225",
   "metadata": {},
   "source": [
    "#### Retriever로 사용"
   ]
  },
  {
   "cell_type": "markdown",
   "id": "20ec4883",
   "metadata": {},
   "source": [
    "벡터 저장소를 리트리버(Retriever)로 변환하여 LangChain 체인에서 사용할 수 있습니다.\n",
    "\n"
   ]
  },
  {
   "cell_type": "code",
   "execution_count": 40,
   "id": "d79f412e",
   "metadata": {},
   "outputs": [
    {
     "name": "stdout",
     "output_type": "stream",
     "text": [
      "리트리버를 통한 검색 결과:\n",
      "1. RAG(Retrieval Augmented Generation)는 대규모 언어 모델의 성능을 향상시키기 위해 외부 지식을 가져오는 방법입니다.\n",
      "   메타데이터: {'source': 'research_paper', 'topic': 'llm', 'author': 'ai_researcher', '_id': 'af4f138f-8166-4920-8c51-eb5c11ea059a', '_collection_name': 'langchain_collection'}\n",
      "--------------------------------------------------\n",
      "2. LangChain은 대규모 언어 모델(LLM)을 사용하는 애플리케이션 개발을 위한 프레임워크입니다.\n",
      "   메타데이터: {'source': 'documentation', 'topic': 'framework', 'author': 'langchain_team', '_id': 'ed20fad1-7741-42ae-917d-66badb4beb17', '_collection_name': 'langchain_collection'}\n",
      "--------------------------------------------------\n"
     ]
    }
   ],
   "source": [
    "# 벡터 저장소를 리트리버로 변환\n",
    "retriever = vector_store.as_retriever(\n",
    "    search_type=\"similarity\",  # 유사도 기반 검색\n",
    "    search_kwargs={\"k\": 2}     # 상위 2개 결과 반환\n",
    ")\n",
    "\n",
    "# 리트리버로 검색\n",
    "retrieved_docs = retriever.invoke(\"LLM과 RAG에 대해 알려주세요\")\n",
    "\n",
    "print(\"리트리버를 통한 검색 결과:\")\n",
    "for i, doc in enumerate(retrieved_docs):\n",
    "    print(f\"{i+1}. {doc.page_content}\")\n",
    "    print(f\"   메타데이터: {doc.metadata}\")\n",
    "    print(\"-\" * 50)"
   ]
  },
  {
   "cell_type": "markdown",
   "id": "84ed48a1",
   "metadata": {},
   "source": [
    "### 다양한 검색 모드 구현 (Dense, Sparse, Hybrid)"
   ]
  },
  {
   "cell_type": "markdown",
   "id": "e7c76edf",
   "metadata": {},
   "source": [
    "LangChain과 Qdrant를 함께 사용하면 세 가지 주요 검색 모드를 구현할 수 있습니다:\n",
    "\n",
    "1. Dense 검색: 임베딩 벡터 기반 검색 (의미적 유사도)\n",
    "2. Sparse 검색: 키워드 기반 희소 벡터 검색 (키워드 일치)\n",
    "3. Hybrid 검색: Dense와 Sparse 검색을 조합하여 더 나은 결과 제공"
   ]
  },
  {
   "cell_type": "markdown",
   "id": "6f30d258",
   "metadata": {},
   "source": [
    "#### Dense 검색 모드"
   ]
  },
  {
   "cell_type": "markdown",
   "id": "ad4a6032",
   "metadata": {},
   "source": [
    "Dense 검색은 기본적인 임베딩 기반 벡터 검색입니다. 이미 위에서 구현한 내용이 Dense 검색에 해당합니다.\n",
    "\n"
   ]
  },
  {
   "cell_type": "code",
   "execution_count": 44,
   "id": "2870e91c",
   "metadata": {},
   "outputs": [
    {
     "name": "stdout",
     "output_type": "stream",
     "text": [
      "Dense 검색 결과:\n",
      "1. 벡터 데이터베이스는 임베딩을 저장하고 효율적으로 검색하기 위한 특수 데이터베이스입니다.\n",
      "--------------------------------------------------\n",
      "2. Qdrant는 벡터 유사도 검색을 위한 오픈소스 벡터 데이터베이스입니다. 러스트로 작성되었으며 고성능을 자랑합니다.\n",
      "--------------------------------------------------\n"
     ]
    }
   ],
   "source": [
    "from langchain_qdrant import QdrantVectorStore, RetrievalMode\n",
    "from qdrant_client import QdrantClient, models\n",
    "from qdrant_client.http.models import Distance, VectorParams\n",
    "from langchain.embeddings import OllamaEmbeddings\n",
    "\n",
    "# 새로운 컬렉션 생성 (Dense 검색용)\n",
    "dense_collection = \"dense_search_collection\"\n",
    "\n",
    "# 컬렉션 이미 존재하는지 확인 후 생성\n",
    "client = QdrantClient(\":memory:\")\n",
    "if not client.collection_exists(dense_collection):\n",
    "    client.create_collection(\n",
    "        collection_name=dense_collection,\n",
    "        vectors_config=models.VectorParams(\n",
    "            size=1024,  # OpenAI 임베딩 차원\n",
    "            distance=Distance.COSINE\n",
    "        )\n",
    "    )\n",
    "\n",
    "# QdrantVectorStore 초기화 (Dense 모드)\n",
    "dense_store = QdrantVectorStore(\n",
    "    client=client,\n",
    "    collection_name=dense_collection,\n",
    "    embedding=OllamaEmbeddings(model=\"bge-m3\"),\n",
    "    retrieval_mode=RetrievalMode.DENSE  # 기본값이 Dense이므로 생략 가능\n",
    ")\n",
    "\n",
    "# 문서 추가\n",
    "dense_store.add_documents(documents=documents, ids=ids)\n",
    "\n",
    "# Dense 검색 수행\n",
    "dense_results = dense_store.similarity_search(\n",
    "    \"벡터 데이터베이스와 임베딩\",\n",
    "    k=2\n",
    ")\n",
    "\n",
    "print(\"Dense 검색 결과:\")\n",
    "for i, doc in enumerate(dense_results):\n",
    "    print(f\"{i+1}. {doc.page_content}\")\n",
    "    print(\"-\" * 50)"
   ]
  },
  {
   "cell_type": "markdown",
   "id": "1231c477",
   "metadata": {},
   "source": [
    "#### Sparse 검색 모드"
   ]
  },
  {
   "cell_type": "markdown",
   "id": "b0f35c3f",
   "metadata": {},
   "source": [
    "Sparse 검색은 키워드 기반 검색으로, 정확한 단어 일치에 강점이 있습니다. FastEmbed 라이브러리를 사용하여 스파스 임베딩을 생성할 수 있습니다.\n",
    "\n"
   ]
  },
  {
   "cell_type": "code",
   "execution_count": 46,
   "id": "d41f6cfb",
   "metadata": {},
   "outputs": [
    {
     "name": "stdout",
     "output_type": "stream",
     "text": [
      "Collecting fastembed\n",
      "  Downloading fastembed-0.6.1-py3-none-any.whl.metadata (10 kB)\n",
      "Requirement already satisfied: huggingface-hub<1.0,>=0.20 in c:\\users\\user\\anaconda3\\envs\\test_venv\\lib\\site-packages (from fastembed) (0.30.2)\n",
      "Requirement already satisfied: loguru<0.8.0,>=0.7.2 in c:\\users\\user\\anaconda3\\envs\\test_venv\\lib\\site-packages (from fastembed) (0.7.3)\n",
      "Requirement already satisfied: mmh3<6.0.0,>=4.1.0 in c:\\users\\user\\anaconda3\\envs\\test_venv\\lib\\site-packages (from fastembed) (5.0.1)\n",
      "Requirement already satisfied: numpy>=1.21 in c:\\users\\user\\anaconda3\\envs\\test_venv\\lib\\site-packages (from fastembed) (1.26.4)\n",
      "Requirement already satisfied: onnxruntime!=1.20.0,>=1.17.0 in c:\\users\\user\\anaconda3\\envs\\test_venv\\lib\\site-packages (from fastembed) (1.19.2)\n",
      "Requirement already satisfied: pillow<12.0.0,>=10.3.0 in c:\\users\\user\\anaconda3\\envs\\test_venv\\lib\\site-packages (from fastembed) (11.1.0)\n",
      "Collecting py-rust-stemmers<0.2.0,>=0.1.0 (from fastembed)\n",
      "  Downloading py_rust_stemmers-0.1.5-cp311-none-win_amd64.whl.metadata (3.5 kB)\n",
      "Requirement already satisfied: requests<3.0,>=2.31 in c:\\users\\user\\anaconda3\\envs\\test_venv\\lib\\site-packages (from fastembed) (2.32.3)\n",
      "Requirement already satisfied: tokenizers<1.0,>=0.15 in c:\\users\\user\\anaconda3\\envs\\test_venv\\lib\\site-packages (from fastembed) (0.21.0)\n",
      "Requirement already satisfied: tqdm<5.0,>=4.66 in c:\\users\\user\\anaconda3\\envs\\test_venv\\lib\\site-packages (from fastembed) (4.67.1)\n",
      "Requirement already satisfied: filelock in c:\\users\\user\\anaconda3\\envs\\test_venv\\lib\\site-packages (from huggingface-hub<1.0,>=0.20->fastembed) (3.14.0)\n",
      "Requirement already satisfied: fsspec>=2023.5.0 in c:\\users\\user\\anaconda3\\envs\\test_venv\\lib\\site-packages (from huggingface-hub<1.0,>=0.20->fastembed) (2024.9.0)\n",
      "Requirement already satisfied: packaging>=20.9 in c:\\users\\user\\anaconda3\\envs\\test_venv\\lib\\site-packages (from huggingface-hub<1.0,>=0.20->fastembed) (24.1)\n",
      "Requirement already satisfied: pyyaml>=5.1 in c:\\users\\user\\anaconda3\\envs\\test_venv\\lib\\site-packages (from huggingface-hub<1.0,>=0.20->fastembed) (6.0.2)\n",
      "Requirement already satisfied: typing-extensions>=3.7.4.3 in c:\\users\\user\\anaconda3\\envs\\test_venv\\lib\\site-packages (from huggingface-hub<1.0,>=0.20->fastembed) (4.12.2)\n",
      "Requirement already satisfied: colorama>=0.3.4 in c:\\users\\user\\anaconda3\\envs\\test_venv\\lib\\site-packages (from loguru<0.8.0,>=0.7.2->fastembed) (0.4.6)\n",
      "Requirement already satisfied: win32-setctime>=1.0.0 in c:\\users\\user\\anaconda3\\envs\\test_venv\\lib\\site-packages (from loguru<0.8.0,>=0.7.2->fastembed) (1.2.0)\n",
      "Requirement already satisfied: coloredlogs in c:\\users\\user\\anaconda3\\envs\\test_venv\\lib\\site-packages (from onnxruntime!=1.20.0,>=1.17.0->fastembed) (15.0.1)\n",
      "Requirement already satisfied: flatbuffers in c:\\users\\user\\anaconda3\\envs\\test_venv\\lib\\site-packages (from onnxruntime!=1.20.0,>=1.17.0->fastembed) (24.3.25)\n",
      "Requirement already satisfied: protobuf in c:\\users\\user\\anaconda3\\envs\\test_venv\\lib\\site-packages (from onnxruntime!=1.20.0,>=1.17.0->fastembed) (5.28.3)\n",
      "Requirement already satisfied: sympy in c:\\users\\user\\anaconda3\\envs\\test_venv\\lib\\site-packages (from onnxruntime!=1.20.0,>=1.17.0->fastembed) (1.14.0)\n",
      "Requirement already satisfied: charset-normalizer<4,>=2 in c:\\users\\user\\anaconda3\\envs\\test_venv\\lib\\site-packages (from requests<3.0,>=2.31->fastembed) (3.4.0)\n",
      "Requirement already satisfied: idna<4,>=2.5 in c:\\users\\user\\anaconda3\\envs\\test_venv\\lib\\site-packages (from requests<3.0,>=2.31->fastembed) (3.10)\n",
      "Requirement already satisfied: urllib3<3,>=1.21.1 in c:\\users\\user\\anaconda3\\envs\\test_venv\\lib\\site-packages (from requests<3.0,>=2.31->fastembed) (1.26.20)\n",
      "Requirement already satisfied: certifi>=2017.4.17 in c:\\users\\user\\anaconda3\\envs\\test_venv\\lib\\site-packages (from requests<3.0,>=2.31->fastembed) (2024.8.30)\n",
      "Requirement already satisfied: humanfriendly>=9.1 in c:\\users\\user\\anaconda3\\envs\\test_venv\\lib\\site-packages (from coloredlogs->onnxruntime!=1.20.0,>=1.17.0->fastembed) (10.0)\n",
      "Requirement already satisfied: mpmath<1.4,>=1.1.0 in c:\\users\\user\\anaconda3\\envs\\test_venv\\lib\\site-packages (from sympy->onnxruntime!=1.20.0,>=1.17.0->fastembed) (1.3.0)\n",
      "Requirement already satisfied: pyreadline3 in c:\\users\\user\\anaconda3\\envs\\test_venv\\lib\\site-packages (from humanfriendly>=9.1->coloredlogs->onnxruntime!=1.20.0,>=1.17.0->fastembed) (3.5.4)\n",
      "Downloading fastembed-0.6.1-py3-none-any.whl (86 kB)\n",
      "Downloading py_rust_stemmers-0.1.5-cp311-none-win_amd64.whl (209 kB)\n",
      "Installing collected packages: py-rust-stemmers, fastembed\n",
      "Successfully installed fastembed-0.6.1 py-rust-stemmers-0.1.5\n",
      "Note: you may need to restart the kernel to use updated packages.\n"
     ]
    },
    {
     "name": "stderr",
     "output_type": "stream",
     "text": [
      "WARNING: Ignoring invalid distribution ~ocling (c:\\Users\\user\\anaconda3\\envs\\test_venv\\Lib\\site-packages)\n",
      "WARNING: Ignoring invalid distribution ~ocling (c:\\Users\\user\\anaconda3\\envs\\test_venv\\Lib\\site-packages)\n",
      "WARNING: Ignoring invalid distribution ~ocling (c:\\Users\\user\\anaconda3\\envs\\test_venv\\Lib\\site-packages)\n"
     ]
    }
   ],
   "source": [
    "%pip install fastembed"
   ]
  },
  {
   "cell_type": "code",
   "execution_count": 49,
   "id": "7a3539bb",
   "metadata": {},
   "outputs": [
    {
     "name": "stdout",
     "output_type": "stream",
     "text": [
      "Sparse 검색 결과:\n",
      "1. HNSW(Hierarchical Navigable Small World)는 고차원 벡터의 근사 최근접 이웃 검색을 위한 알고리즘입니다.\n",
      "--------------------------------------------------\n"
     ]
    }
   ],
   "source": [
    "\n",
    "# 스파스 임베딩 초기화\n",
    "sparse_embeddings = FastEmbedSparse(model_name=\"Qdrant/bm25\")\n",
    "    \n",
    "# 새로운 컬렉션 생성 (Sparse 검색용)\n",
    "sparse_collection = \"sparse_search_collection\"\n",
    "    \n",
    "# 스파스 벡터 컬렉션 생성\n",
    "# client.create_collection(\n",
    "#     collection_name=sparse_collection,\n",
    "#     vectors_config={},  # Dense 벡터 없음\n",
    "#     sparse_vectors_config={\n",
    "#         \"sparse\": models.SparseVectorParams()\n",
    "#         }\n",
    "#     )\n",
    "    \n",
    "# QdrantVectorStore 초기화 (Sparse 모드)\n",
    "sparse_store = QdrantVectorStore(\n",
    "    client=client,\n",
    "    collection_name=sparse_collection,\n",
    "    sparse_embedding=sparse_embeddings,\n",
    "    retrieval_mode=RetrievalMode.SPARSE,\n",
    "    sparse_vector_name=\"sparse\"\n",
    "    )\n",
    "    \n",
    "# 문서 추가\n",
    "sparse_store.add_documents(documents=documents, ids=ids)\n",
    "    \n",
    "# Sparse 검색 수행\n",
    "sparse_results = sparse_store.similarity_search(\n",
    "    \"HNSW 알고리즘\",  # 정확한 키워드로 검색\n",
    "    k=2\n",
    "    )\n",
    "    \n",
    "print(\"Sparse 검색 결과:\")\n",
    "for i, doc in enumerate(sparse_results):\n",
    "    print(f\"{i+1}. {doc.page_content}\")\n",
    "    print(\"-\" * 50)"
   ]
  },
  {
   "cell_type": "markdown",
   "id": "d79a68da",
   "metadata": {},
   "source": [
    "#### Hybrid 검색 모드"
   ]
  },
  {
   "cell_type": "markdown",
   "id": "441aa6be",
   "metadata": {},
   "source": [
    "Hybrid 검색은 Dense와 Sparse 검색의 장점을 결합한 방식입니다. 의미적 유사도(Dense)와 키워드 일치(Sparse)를 모두 고려하여 더 나은 검색 결과를 제공합니다.\n",
    "\n"
   ]
  },
  {
   "cell_type": "code",
   "execution_count": 50,
   "id": "94ec4b86",
   "metadata": {},
   "outputs": [
    {
     "name": "stdout",
     "output_type": "stream",
     "text": [
      "Hybrid 검색 결과:\n",
      "1. 벡터 데이터베이스는 임베딩을 저장하고 효율적으로 검색하기 위한 특수 데이터베이스입니다.\n",
      "--------------------------------------------------\n",
      "2. HNSW(Hierarchical Navigable Small World)는 고차원 벡터의 근사 최근접 이웃 검색을 위한 알고리즘입니다.\n",
      "--------------------------------------------------\n"
     ]
    }
   ],
   "source": [
    "# 새로운 컬렉션 생성 (Hybrid 검색용)\n",
    "hybrid_collection = \"hybrid_search_collection\"\n",
    "    \n",
    "# 하이브리드 벡터 컬렉션 생성\n",
    "client.create_collection(\n",
    "    collection_name=hybrid_collection,\n",
    "    vectors_config={\n",
    "        \"dense\": models.VectorParams(\n",
    "            size=1536,  # OpenAI 임베딩 차원\n",
    "            distance=Distance.COSINE\n",
    "            )\n",
    "        },\n",
    "        sparse_vectors_config={\n",
    "            \"sparse\": models.SparseVectorParams()\n",
    "        }\n",
    "    )\n",
    "    \n",
    "# QdrantVectorStore 초기화 (Hybrid 모드)\n",
    "hybrid_store = QdrantVectorStore(\n",
    "    client=client,\n",
    "    collection_name=hybrid_collection,\n",
    "    embedding=OpenAIEmbeddings(),\n",
    "    sparse_embedding=sparse_embeddings,\n",
    "    retrieval_mode=RetrievalMode.HYBRID,\n",
    "    vector_name=\"dense\",\n",
    "    sparse_vector_name=\"sparse\"\n",
    "    )\n",
    "    \n",
    "# 문서 추가\n",
    "hybrid_store.add_documents(documents=documents, ids=ids)\n",
    "    \n",
    "# Hybrid 검색 수행\n",
    "hybrid_results = hybrid_store.similarity_search(\n",
    "    \"벡터 데이터베이스 HNSW\",  # 의미와 키워드가 혼합된 쿼리\n",
    "    k=2\n",
    "    )\n",
    "    \n",
    "print(\"Hybrid 검색 결과:\")\n",
    "for i, doc in enumerate(hybrid_results):\n",
    "    print(f\"{i+1}. {doc.page_content}\")\n",
    "    print(\"-\" * 50)"
   ]
  },
  {
   "cell_type": "markdown",
   "id": "0f755f24",
   "metadata": {},
   "source": [
    "### 고급 기능 활용 (벡터 양자화, 페이로드 필터링, 그룹화 등)"
   ]
  },
  {
   "cell_type": "markdown",
   "id": "a8ecfdd1",
   "metadata": {},
   "source": [
    "#### 벡터 양자화"
   ]
  },
  {
   "cell_type": "markdown",
   "id": "fb18efb4",
   "metadata": {},
   "source": [
    "벡터 양자화는 벡터의 저장 공간을 줄이고 검색 성능을 향상시키는 기술입니다. Qdrant는 세 가지 유형의 양자화를 지원합니다:\n",
    "\n",
    "- 스칼라 양자화: 각 벡터 요소를 개별적으로 압축\n",
    "- 바이너리 양자화: 각 요소를 1비트로 압축\n",
    "- 프로덕트 양자화: 벡터를 더 작은 하위 벡터로 분할하여 압축\n"
   ]
  },
  {
   "cell_type": "code",
   "execution_count": 51,
   "id": "4e6d167e",
   "metadata": {},
   "outputs": [
    {
     "name": "stdout",
     "output_type": "stream",
     "text": [
      "스칼라 양자화 컬렉션 'scalar_quantization' 생성 완료!\n",
      "프로덕트 양자화 컬렉션 'product_quantization' 생성 완료!\n"
     ]
    }
   ],
   "source": [
    "from qdrant_client.http import models\n",
    "\n",
    "# 스칼라 양자화를 사용한 컬렉션 생성\n",
    "scalar_quantization_collection = \"scalar_quantization\"\n",
    "\n",
    "client.create_collection(\n",
    "    collection_name=scalar_quantization_collection,\n",
    "    vectors_config=models.VectorParams(\n",
    "        size=512,\n",
    "        distance=models.Distance.COSINE\n",
    "    ),\n",
    "    quantization_config=models.ScalarQuantization(\n",
    "        scalar=models.ScalarQuantizationConfig(\n",
    "            type=models.ScalarType.INT8,  # INT8 양자화 (32비트 -> 8비트)\n",
    "            quantile=0.99,  # 이상치 처리를 위한 분위수\n",
    "            always_ram=True  # 양자화된 벡터를 항상 RAM에 유지\n",
    "        )\n",
    "    )\n",
    ")\n",
    "\n",
    "print(f\"스칼라 양자화 컬렉션 '{scalar_quantization_collection}' 생성 완료!\")\n",
    "\n",
    "# 프로덕트 양자화를 사용한 컬렉션 생성\n",
    "product_quantization_collection = \"product_quantization\"\n",
    "\n",
    "client.create_collection(\n",
    "    collection_name=product_quantization_collection,\n",
    "    vectors_config=models.VectorParams(\n",
    "        size=512,\n",
    "        distance=models.Distance.COSINE\n",
    "    ),\n",
    "    quantization_config=models.ProductQuantization(\n",
    "        product=models.ProductQuantizationConfig(\n",
    "            compression=models.CompressionRatio.X16,  # 16배 압축\n",
    "            always_ram=True  # 양자화된 벡터를 항상 RAM에 유지\n",
    "        )\n",
    "    )\n",
    ")\n",
    "\n",
    "print(f\"프로덕트 양자화 컬렉션 '{product_quantization_collection}' 생성 완료!\")"
   ]
  },
  {
   "cell_type": "markdown",
   "id": "90a640fa",
   "metadata": {},
   "source": [
    "#### 고급 페이로드 필터링"
   ]
  },
  {
   "cell_type": "markdown",
   "id": "bb6b5867",
   "metadata": {},
   "source": [
    "Qdrant는 다양한 유형의 고급 페이로드 필터링을 지원합니다. 여기서는 복잡한 논리 연산자를 사용한 필터링 예제를 살펴봅니다.\n",
    "\n"
   ]
  },
  {
   "cell_type": "code",
   "execution_count": 57,
   "id": "ef499ff5",
   "metadata": {},
   "outputs": [
    {
     "name": "stdout",
     "output_type": "stream",
     "text": [
      "고급 필터링 테스트를 위한 4개의 포인트가 추가되었습니다.\n",
      "\n",
      "복합 필터를 적용한 검색 결과:\n",
      "ID: 1, 점수: 0.9999999994192575\n",
      "이름: 제품 A\n",
      "카테고리: 전자제품\n",
      "가격: 1000\n",
      "재고 여부: True\n",
      "태그: ['스마트폰', '기술', '새 제품']\n",
      "----------------------------------------\n"
     ]
    }
   ],
   "source": [
    "# 테스트용 컬렉션 생성\n",
    "advanced_filter_collection = \"advanced_filter_collection\"\n",
    "\n",
    "# 기존 컬렉션이 있으면 삭제\n",
    "if client.collection_exists(advanced_filter_collection):\n",
    "    client.delete_collection(advanced_filter_collection)\n",
    "\n",
    "client.create_collection(\n",
    "    collection_name=advanced_filter_collection,\n",
    "    vectors_config=models.VectorParams(\n",
    "        size=4,  # 간단한 예제를 위한 작은 차원\n",
    "        distance=models.Distance.COSINE\n",
    "    )\n",
    ")\n",
    "\n",
    "# 테스트 데이터 생성\n",
    "test_points = [\n",
    "    models.PointStruct(\n",
    "        id=1,\n",
    "        vector=[0.1, 0.2, 0.3, 0.4],\n",
    "        payload={\n",
    "            \"name\": \"제품 A\",\n",
    "            \"category\": \"전자제품\",\n",
    "            \"price\": 1000,\n",
    "            \"in_stock\": True,\n",
    "            \"tags\": [\"스마트폰\", \"기술\", \"새 제품\"],\n",
    "            \"rating\": 4.5,\n",
    "            \"location\": {\"lat\": 37.5326, \"lon\": 127.0246}  # 서울 좌표\n",
    "        }\n",
    "    ),\n",
    "    models.PointStruct(\n",
    "        id=2,\n",
    "        vector=[0.2, 0.3, 0.4, 0.5],\n",
    "        payload={\n",
    "            \"name\": \"제품 B\",\n",
    "            \"category\": \"가구\",\n",
    "            \"price\": 500,\n",
    "            \"in_stock\": True,\n",
    "            \"tags\": [\"의자\", \"목재\", \"할인\"],\n",
    "            \"rating\": 4.0,\n",
    "            \"location\": {\"lat\": 35.1796, \"lon\": 129.0756}  # 부산 좌표\n",
    "        }\n",
    "    ),\n",
    "    models.PointStruct(\n",
    "        id=3,\n",
    "        vector=[0.3, 0.4, 0.5, 0.6],\n",
    "        payload={\n",
    "            \"name\": \"제품 C\",\n",
    "            \"category\": \"전자제품\",\n",
    "            \"price\": 2000,\n",
    "            \"in_stock\": False,\n",
    "            \"tags\": [\"노트북\", \"기술\", \"새 제품\"],\n",
    "            \"rating\": 4.8,\n",
    "            \"location\": {\"lat\": 37.5326, \"lon\": 127.0246}  # 서울 좌표\n",
    "        }\n",
    "    ),\n",
    "    models.PointStruct(\n",
    "        id=4,\n",
    "        vector=[0.4, 0.5, 0.6, 0.7],\n",
    "        payload={\n",
    "            \"name\": \"제품 D\",\n",
    "            \"category\": \"의류\",\n",
    "            \"price\": 100,\n",
    "            \"in_stock\": True,\n",
    "            \"tags\": [\"티셔츠\", \"할인\", \"여름\"],\n",
    "            \"rating\": 3.5,\n",
    "            \"location\": {\"lat\": 35.8714, \"lon\": 128.6014}  # 대구 좌표\n",
    "        }\n",
    "    )\n",
    "]\n",
    "\n",
    "# 테스트 데이터 삽입\n",
    "client.upsert(\n",
    "    collection_name=advanced_filter_collection,\n",
    "    points=test_points\n",
    ")\n",
    "\n",
    "print(f\"고급 필터링 테스트를 위한 {len(test_points)}개의 포인트가 추가되었습니다.\")\n",
    "\n",
    "# 복합 필터 예제\n",
    "complex_filter = models.Filter(\n",
    "    must=[\n",
    "        # 카테고리가 '전자제품'인 것만 포함\n",
    "        models.FieldCondition(\n",
    "            key=\"category\",\n",
    "            match=models.MatchValue(value=\"전자제품\")\n",
    "        )\n",
    "    ],\n",
    "    should=[\n",
    "        # 가격이 1500 이상이거나\n",
    "        models.FieldCondition(\n",
    "            key=\"price\",\n",
    "            range=models.Range(gte=1500)\n",
    "        ),\n",
    "        # 태그에 '새 제품'이 포함된 것\n",
    "        models.FieldCondition(\n",
    "            key=\"tags\",\n",
    "            match=models.MatchValue(value=\"새 제품\")\n",
    "        )\n",
    "    ],\n",
    "    must_not=[\n",
    "        # 재고가 없는 것은 제외\n",
    "        models.FieldCondition(\n",
    "            key=\"in_stock\",\n",
    "            match=models.MatchValue(value=False)\n",
    "        )\n",
    "    ]\n",
    ")\n",
    "\n",
    "# 검색 벡터\n",
    "query_vector = [0.1, 0.2, 0.3, 0.4]\n",
    "\n",
    "# 필터를 적용한 검색\n",
    "filtered_results = client.search(\n",
    "    collection_name=advanced_filter_collection,\n",
    "    query_vector=query_vector,\n",
    "    query_filter=complex_filter,\n",
    "    with_payload=True,\n",
    "    limit=10\n",
    ")\n",
    "\n",
    "print(\"\\n복합 필터를 적용한 검색 결과:\")\n",
    "for result in filtered_results:\n",
    "    print(f\"ID: {result.id}, 점수: {result.score}\")\n",
    "    print(f\"이름: {result.payload.get('name')}\")\n",
    "    print(f\"카테고리: {result.payload.get('category')}\")\n",
    "    print(f\"가격: {result.payload.get('price')}\")\n",
    "    print(f\"재고 여부: {result.payload.get('in_stock')}\")\n",
    "    print(f\"태그: {result.payload.get('tags')}\")\n",
    "    print(\"-\" * 40)"
   ]
  },
  {
   "cell_type": "markdown",
   "id": "cd80e277",
   "metadata": {},
   "source": []
  }
 ],
 "metadata": {
  "kernelspec": {
   "display_name": "test_venv",
   "language": "python",
   "name": "test_venv"
  },
  "language_info": {
   "codemirror_mode": {
    "name": "ipython",
    "version": 3
   },
   "file_extension": ".py",
   "mimetype": "text/x-python",
   "name": "python",
   "nbconvert_exporter": "python",
   "pygments_lexer": "ipython3",
   "version": "3.11.10"
  }
 },
 "nbformat": 4,
 "nbformat_minor": 5
}
