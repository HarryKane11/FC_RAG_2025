{
 "cells": [
  {
   "cell_type": "markdown",
   "id": "0ab7ba07",
   "metadata": {},
   "source": [
    "### 🧭 설치 및 준비 작업\n",
    "Voyage API를 사용하기 위해 필요한 패키지를 설치합니다."
   ]
  },
  {
   "cell_type": "code",
   "execution_count": null,
   "id": "333055d7",
   "metadata": {},
   "outputs": [],
   "source": [
    "%pip install voyageai"
   ]
  },
  {
   "cell_type": "markdown",
   "id": "1a01cfd6",
   "metadata": {},
   "source": [
    "### 🔑 Voyage API 키 설정 및 클라이언트 생성"
   ]
  },
  {
   "cell_type": "code",
   "execution_count": null,
   "id": "1a5cf82f",
   "metadata": {},
   "outputs": [],
   "source": [
    "from dotenv import load_dotenv  \n",
    "import voyageai\n",
    "\n",
    "load_dotenv()\n",
    "client = voyageai.Client()"
   ]
  },
  {
   "cell_type": "markdown",
   "id": "e01ef2e3",
   "metadata": {},
   "source": [
    "### 📄 PDF에서 텍스트 + 이미지 추출 (LangChain + PyPDF 사용)"
   ]
  },
  {
   "cell_type": "code",
   "execution_count": null,
   "id": "ab4efd07",
   "metadata": {},
   "outputs": [],
   "source": [
    "from langchain.document_loaders import PyPDFLoader\n",
    "import fitz\n",
    "import os\n",
    "\n",
    "# PDF 파일 경로 설정\n",
    "pdf_path = \"./data/국가별 공공부문 AI 도입 및 활용 전략.pdf\"\n",
    "\n",
    "# 텍스트 추출: LangChain 활용\n",
    "loader = PyPDFLoader(pdf_path)\n",
    "documents = loader.load()\n",
    "texts = [doc.page_content for doc in documents]\n",
    "\n",
    "# 이미지 추출: fitz 활용\n",
    "os.makedirs(\"./data/pdf_image_voyage\", exist_ok=True)\n",
    "doc = fitz.open(pdf_path)\n",
    "image_paths = []\n",
    "\n",
    "for i, page in enumerate(doc):\n",
    "    pix = page.get_pixmap()\n",
    "    img_path = f\"./data/pdf_image_voyage/{i}.png\"\n",
    "    pix.save(img_path)\n",
    "    image_paths.append(img_path)\n",
    "\n",
    "doc.close()"
   ]
  },
  {
   "cell_type": "markdown",
   "id": "42076722",
   "metadata": {},
   "source": [
    "### 📦 텍스트와 이미지를 하나의 시퀀스로 구성"
   ]
  },
  {
   "cell_type": "code",
   "execution_count": null,
   "id": "449d0d73",
   "metadata": {},
   "outputs": [],
   "source": [
    "from PIL import Image\n",
    "\n",
    "inputs = []\n",
    "for text, image_path in zip(texts, image_paths):\n",
    "    try:\n",
    "        image = Image.open(image_path)\n",
    "        inputs.append([text, image])\n",
    "    except Exception as e:\n",
    "        print(f\"이미지 로드 실패: {image_path} => {e}\")"
   ]
  },
  {
   "cell_type": "markdown",
   "id": "936b626c",
   "metadata": {},
   "source": [
    "### 📐 Voyage API로 멀티모달 임베딩 생성"
   ]
  },
  {
   "cell_type": "code",
   "execution_count": null,
   "id": "19fbef50",
   "metadata": {},
   "outputs": [],
   "source": [
    "result = client.multimodal_embed(\n",
    "    inputs=inputs,\n",
    "    model=\"voyage-multimodal-3\",\n",
    "    input_type=\"document\"\n",
    ")\n",
    "\n",
    "embeddings = result.embeddings\n",
    "print(f\"총 벡터 개수: {len(embeddings)}\")"
   ]
  },
  {
   "cell_type": "markdown",
   "id": "6b6c5f55",
   "metadata": {},
   "source": [
    "### 🔍 질의 텍스트와 이미지 임베딩 생성 (검색용 쿼리)"
   ]
  },
  {
   "cell_type": "code",
   "execution_count": null,
   "id": "968d918d",
   "metadata": {},
   "outputs": [],
   "source": [
    "query = [\"스마트폰을 들고 있는 사람\"]\n",
    "query_result = client.multimodal_embed(\n",
    "    inputs=[query],\n",
    "    model=\"voyage-multimodal-3\",\n",
    "    input_type=\"query\"\n",
    ")\n",
    "\n",
    "query_vector = query_result.embeddings[0]"
   ]
  },
  {
   "cell_type": "markdown",
   "id": "4f6efe50",
   "metadata": {},
   "source": [
    "### 🧠 Qdrant를 활용한 멀티모달 벡터 저장 및 검색"
   ]
  },
  {
   "cell_type": "code",
   "execution_count": null,
   "id": "63b14aff",
   "metadata": {},
   "outputs": [],
   "source": [
    "from qdrant_client import QdrantClient\n",
    "from qdrant_client.http import models\n",
    "import uuid\n",
    "\n",
    "# Qdrant 메모리 기반 클라이언트 생성\n",
    "qdrant_client = QdrantClient(\":memory:\")\n",
    "collection_name = \"voyage-multimodal-demo\"\n",
    "\n",
    "# Qdrant 컬렉션 생성\n",
    "qdrant_client.create_collection(\n",
    "    collection_name=collection_name,\n",
    "    vectors_config=models.VectorParams(\n",
    "        size=1024,  # Voyage 모델의 출력 벡터 차원\n",
    "        distance=models.Distance.COSINE\n",
    "    ),\n",
    "    on_disk_payload=True\n",
    ")\n",
    "\n",
    "# Qdrant에 문서 벡터 업로드\n",
    "points = []\n",
    "for i, vector in enumerate(embeddings):\n",
    "    points.append(\n",
    "        models.PointStruct(\n",
    "            id=str(uuid.uuid4()),\n",
    "            vector=vector,\n",
    "            payload={\"source\": \"voyage\", \"text\": texts[i],\"image_path\": image_paths[i]}\n",
    "        )\n",
    "    )\n",
    "\n",
    "qdrant_client.upsert(collection_name=collection_name, points=points)\n",
    "print(f\"{len(points)}개의 문서를 Qdrant에 업로드 완료.\")\n"
   ]
  },
  {
   "cell_type": "code",
   "execution_count": null,
   "id": "5bb37b94",
   "metadata": {},
   "outputs": [],
   "source": [
    "# Qdrant를 통한 질의 벡터 검색\n",
    "query = [Image.open(image_paths[5])]\n",
    "query_result = client.multimodal_embed(\n",
    "    inputs=[query],\n",
    "    model=\"voyage-multimodal-3\",\n",
    "    input_type=\"query\"\n",
    ")\n",
    "\n",
    "query_vector = query_result.embeddings[0]\n",
    "\n",
    "\n",
    "search_result = qdrant_client.search(\n",
    "    collection_name=collection_name,\n",
    "    query_vector=query_vector,\n",
    "    limit=5\n",
    ")\n",
    "\n",
    "for rank, hit in enumerate(search_result):\n",
    "    print(f\"{rank+1}위: 문서 ID {hit.id}, 유사도 점수: {hit.score:.4f}\")"
   ]
  },
  {
   "cell_type": "code",
   "execution_count": null,
   "id": "1df5f98c",
   "metadata": {},
   "outputs": [],
   "source": [
    "Image.open(image_paths[5])"
   ]
  },
  {
   "cell_type": "code",
   "execution_count": null,
   "id": "03b68774",
   "metadata": {},
   "outputs": [],
   "source": [
    "image_path = search_result[0].payload['image_path']\n",
    "\n",
    "print(f\"이미지 경로: {image_path}\")\n",
    "\n",
    "# 이미지 시각화\n",
    "import matplotlib.pyplot as plt\n",
    "from PIL import Image\n",
    "\n",
    "# 이미지 불러오기 및 표시\n",
    "img = Image.open(image_path)\n",
    "plt.figure(figsize=(10, 8))\n",
    "plt.imshow(img)\n",
    "plt.axis('off')\n",
    "plt.title(f\"Image ID: {image_path}\")\n",
    "plt.show()"
   ]
  },
  {
   "cell_type": "code",
   "execution_count": null,
   "id": "1c4da3d2",
   "metadata": {},
   "outputs": [],
   "source": []
  }
 ],
 "metadata": {
  "kernelspec": {
   "display_name": "test_venv",
   "language": "python",
   "name": "test_venv"
  },
  "language_info": {
   "codemirror_mode": {
    "name": "ipython",
    "version": 3
   },
   "file_extension": ".py",
   "mimetype": "text/x-python",
   "name": "python",
   "nbconvert_exporter": "python",
   "pygments_lexer": "ipython3",
   "version": "3.11.10"
  }
 },
 "nbformat": 4,
 "nbformat_minor": 5
}
