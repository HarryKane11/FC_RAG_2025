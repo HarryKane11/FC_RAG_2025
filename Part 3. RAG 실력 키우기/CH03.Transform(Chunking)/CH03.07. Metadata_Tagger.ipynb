{
  "cells": [
    {
      "cell_type": "markdown",
      "metadata": {},
      "source": [
        "### 📘 문서 QA용 메타데이터 자동 태깅 튜토리얼\n",
        "이 노트북에서는 `LangChain`의 `create_metadata_tagger`를 사용하여 문서에 자동으로 메타데이터를 태깅하는 방법을 배웁니다.\n",
        "\n",
        "이 방식은 RAG 시스템의 문서 검색 품질을 높이는 데 유용합니다. 특히 Late Chunking을 사용하는 경우, 문서 전체 맥락에 대한 메타 정보가 더 풍부할수록 검색 정밀도가 높아집니다."
      ]
    },
    {
      "cell_type": "markdown",
      "metadata": {},
      "source": [
        "#### 1️⃣ 메타데이터 스키마 정의\n",
        "우리는 문서 제목, 어조, 길이 분류를 추출하는 스키마를 설계합니다. 이 정보는 나중에 벡터 검색 시 필터링/조건 검색에 사용됩니다."
      ]
    },
    {
      "cell_type": "code",
      "execution_count": null,
      "id": "82def4f6",
      "metadata": {},
      "outputs": [],
      "source": [
        "from dotenv import load_dotenv\n",
        "load_dotenv()"
      ]
    },
    {
      "cell_type": "code",
      "execution_count": null,
      "metadata": {},
      "outputs": [],
      "source": [
        "from langchain.chat_models import init_chat_model\n",
        "from langchain_community.document_transformers.openai_functions import create_metadata_tagger\n",
        "from langchain_core.documents import Document\n",
        "from typing import List\n",
        "from pydantic import BaseModel, Field\n",
        "\n",
        "class DocumentMetadata(BaseModel):\n",
        "    country: List[str] = Field(\n",
        "        description=\"문서에 언급된 국가들의 한글 표준화된 명칭 (예: '미국', '대한민국', '일본')\"\n",
        "    )\n",
        "    organization: List[str] = Field(\n",
        "        description=\"문서에 언급된 조직이나 기관의 이름을 원문 표기 그대로 추출\"\n",
        "    )\n",
        "    policy: List[str] = Field(\n",
        "        description=\"문서에 언급된 정책이나 제도의 이름을 원문 표기 그대로 추출\"\n",
        "    )\n",
        "    year: List[int] = Field(\n",
        "        description=\"문서 내용과 관련된 모든 연도 (문서의 작성 연도 및 문서에서 언급하는 모든 중요한 연도)\"\n",
        "    )\n",
        "\n",
        "llm = init_chat_model(\"openai:gpt-4.1-mini\", temperature=0)\n",
        "\n",
        "# OpenAI Function 지원 모델 사용\n",
        "document_transformer = create_metadata_tagger(DocumentMetadata, llm)"
      ]
    },
    {
      "cell_type": "markdown",
      "metadata": {},
      "source": [
        "#### 2️⃣ 예시 문서에 태깅 수행\n",
        "RAG 시스템에서 사용할 문서 예시를 구성하고 자동 태깅을 적용해봅니다."
      ]
    },
    {
      "cell_type": "code",
      "execution_count": null,
      "metadata": {},
      "outputs": [],
      "source": [
        "from langchain.document_loaders import PyPDFLoader\n",
        "from langchain_text_splitters import RecursiveCharacterTextSplitter\n",
        "\n",
        "loader = PyPDFLoader(\"./data/국가별 공공부문 AI 도입 및 활용 전략.pdf\")\n",
        "documents = loader.load()\n",
        "\n",
        "splitter = RecursiveCharacterTextSplitter(chunk_size=1000, chunk_overlap=200)\n",
        "splitted_documents = splitter.split_documents(documents)\n",
        "\n",
        "test_documents=splitted_documents[10:15]\n",
        "\n",
        "enhanced_documents = document_transformer.transform_documents(test_documents)"
      ]
    },
    {
      "cell_type": "code",
      "execution_count": null,
      "id": "78740c9c",
      "metadata": {},
      "outputs": [],
      "source": [
        "import json\n",
        "for doc in enhanced_documents:\n",
        "    print(doc.page_content[:100])\n",
        "    print(\"\\n📌 Metadata:\", json.dumps(doc.metadata, ensure_ascii=False))\n",
        "    print(\"\\n\" + \"-\" * 50 + \"\\n\")"
      ]
    },
    {
      "cell_type": "markdown",
      "id": "cb1ff79c",
      "metadata": {},
      "source": [
        "#### 🏷️ 메타데이터 태깅 비동기 함수 구현하기"
      ]
    },
    {
      "cell_type": "code",
      "execution_count": null,
      "id": "42927795",
      "metadata": {},
      "outputs": [],
      "source": [
        "import nest_asyncio\n",
        "nest_asyncio.apply()"
      ]
    },
    {
      "cell_type": "code",
      "execution_count": null,
      "id": "6f8cf6a0",
      "metadata": {},
      "outputs": [],
      "source": [
        "import nest_asyncio\n",
        "import asyncio\n",
        "import time\n",
        "from concurrent.futures import ThreadPoolExecutor\n",
        "\n",
        "nest_asyncio.apply()\n",
        "\n",
        "# 비동기 래퍼 함수 구현\n",
        "async def async_transform_document(transformer, doc):\n",
        "    \"\"\"단일 문서에 대한 비동기 변환 래퍼\"\"\"\n",
        "    loop = asyncio.get_event_loop()\n",
        "    with ThreadPoolExecutor() as executor:\n",
        "        return await loop.run_in_executor(\n",
        "            executor, \n",
        "            lambda: transformer.transform_documents([doc])[0]\n",
        "        )\n",
        "\n",
        "async def process_documents_async(transformer, documents, batch_size=5):\n",
        "    \"\"\"문서 배치를 비동기적으로 처리\"\"\"\n",
        "    results = []\n",
        "    \n",
        "    # 문서를 배치로 나누기\n",
        "    for i in range(0, len(documents), batch_size):\n",
        "        batch = documents[i:i+batch_size]\n",
        "        \n",
        "        # 각 배치에 대한 태스크 생성\n",
        "        tasks = [async_transform_document(transformer, doc) for doc in batch]\n",
        "        \n",
        "        # 모든 태스크 동시 실행\n",
        "        batch_results = await asyncio.gather(*tasks)\n",
        "        results.extend(batch_results)\n",
        "    \n",
        "    return results"
      ]
    },
    {
      "cell_type": "code",
      "execution_count": null,
      "id": "afbad64d",
      "metadata": {},
      "outputs": [],
      "source": [
        "async_results = await process_documents_async(document_transformer, test_documents, batch_size=5)"
      ]
    },
    {
      "cell_type": "code",
      "execution_count": null,
      "id": "0ce4a2f2",
      "metadata": {},
      "outputs": [],
      "source": [
        "async_results"
      ]
    }
  ],
  "metadata": {
    "kernelspec": {
      "display_name": "rag-guide-1QRpMmrn-py3.11",
      "language": "python",
      "name": "python3"
    },
    "language_info": {
      "codemirror_mode": {
        "name": "ipython",
        "version": 3
      },
      "file_extension": ".py",
      "mimetype": "text/x-python",
      "name": "python",
      "nbconvert_exporter": "python",
      "pygments_lexer": "ipython3",
      "version": "3.11.9"
    }
  },
  "nbformat": 4,
  "nbformat_minor": 5
}
