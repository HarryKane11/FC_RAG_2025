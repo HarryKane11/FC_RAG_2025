{
 "cells": [
  {
   "cell_type": "markdown",
   "id": "15274156",
   "metadata": {},
   "source": [
    "### Basic Hierarchical Chunking - ParentDocumentRetriever 📚🔍"
   ]
  },
  {
   "cell_type": "markdown",
   "id": "866fe83d",
   "metadata": {},
   "source": [
    "warning 무시하기"
   ]
  },
  {
   "cell_type": "code",
   "execution_count": null,
   "id": "605a325b",
   "metadata": {},
   "outputs": [],
   "source": [
    "import warnings\n",
    "warnings.filterwarnings(\"ignore\")"
   ]
  },
  {
   "cell_type": "markdown",
   "id": "586c3a5e",
   "metadata": {},
   "source": [
    "#### Parent Document용 청킹과 Child Document용 청킹 선언"
   ]
  },
  {
   "cell_type": "code",
   "execution_count": null,
   "id": "7ef39825",
   "metadata": {},
   "outputs": [],
   "source": [
    "from langchain_community.document_loaders import PyPDFLoader\n",
    "from langchain_text_splitters import RecursiveCharacterTextSplitter\n",
    "\n",
    "pdf_path = \"data/국가별 공공부문 AI 도입 및 활용 전략.pdf\"\n",
    "loader = PyPDFLoader(pdf_path)\n",
    "documents = loader.load()\n",
    "\n",
    "# 부모 문서용 텍스트 분할기(큰 청크)\n",
    "parent_splitter = RecursiveCharacterTextSplitter(\n",
    "    chunk_size=2000,\n",
    "    chunk_overlap=200,\n",
    "    length_function=len\n",
    ")\n",
    "\n",
    "# 자식 문서용 텍스트 분할기(작은 청크)\n",
    "child_splitter = RecursiveCharacterTextSplitter(\n",
    "    chunk_size=400,\n",
    "    chunk_overlap=50,\n",
    "    length_function=len\n",
    ")"
   ]
  },
  {
   "cell_type": "markdown",
   "id": "39340f68",
   "metadata": {},
   "source": [
    "#### Parent-Child Vector Store 선언하기"
   ]
  },
  {
   "cell_type": "code",
   "execution_count": null,
   "id": "af5a225f",
   "metadata": {},
   "outputs": [],
   "source": [
    "from langchain_ollama import OllamaEmbeddings\n",
    "from langchain.retrievers import ParentDocumentRetriever\n",
    "from langchain_qdrant import QdrantVectorStore\n",
    "from qdrant_client import QdrantClient\n",
    "from qdrant_client.http.models import Distance, VectorParams\n",
    "from langchain.storage import InMemoryStore\n",
    "\n",
    "embeddings = OllamaEmbeddings(model=\"bge-m3\")\n",
    "\n",
    "client = QdrantClient(\":memory:\")\n",
    "# 벡터 저장소 초기화\n",
    "client.create_collection(\n",
    "    collection_name=\"hierarchical_chunks\",\n",
    "    vectors_config=VectorParams(size=1024, distance=Distance.COSINE),\n",
    ")\n",
    "\n",
    "vector_store = QdrantVectorStore(\n",
    "    client=client,\n",
    "    collection_name=\"hierarchical_chunks\",\n",
    "    embedding=embeddings,\n",
    ")\n",
    "\n",
    "# 부모 문서 저장소 초기화\n",
    "store = InMemoryStore()\n",
    "\n",
    "# ParentDocumentRetriever 설정\n",
    "retriever = ParentDocumentRetriever(\n",
    "    vectorstore=vector_store,\n",
    "    docstore=store,\n",
    "    child_splitter=child_splitter,\n",
    "    parent_splitter=parent_splitter,\n",
    ")\n",
    "\n",
    "retriever.add_documents(documents)"
   ]
  },
  {
   "cell_type": "markdown",
   "id": "1cc294c3",
   "metadata": {},
   "source": [
    "#### Child Vector Store에서 문서 검색하기"
   ]
  },
  {
   "cell_type": "code",
   "execution_count": null,
   "id": "3981f573",
   "metadata": {},
   "outputs": [],
   "source": [
    "sub_docs = vector_store.similarity_search(\"영국 AI 정책\")\n",
    "\n",
    "print([len(sub_doc.page_content) for sub_doc in sub_docs])\n",
    "sub_docs"
   ]
  },
  {
   "cell_type": "markdown",
   "id": "f1ccebef",
   "metadata": {},
   "source": [
    "#### ParentDocumentRetriever로 문서 검색하기"
   ]
  },
  {
   "cell_type": "code",
   "execution_count": null,
   "id": "b645f7c5",
   "metadata": {},
   "outputs": [],
   "source": [
    "retrieved_docs = retriever.invoke(\"영국 AI 정책\")\n",
    "\n",
    "print([len(doc.page_content) for doc in retrieved_docs])\n",
    "retrieved_docs"
   ]
  },
  {
   "cell_type": "markdown",
   "id": "fe5ac3b9",
   "metadata": {},
   "source": [
    "### 📄 Markdown Hierarchical Chunking"
   ]
  },
  {
   "cell_type": "code",
   "execution_count": null,
   "id": "b6085e62",
   "metadata": {},
   "outputs": [],
   "source": [
    "%pip install docling"
   ]
  },
  {
   "cell_type": "markdown",
   "id": "d7987462",
   "metadata": {},
   "source": [
    "#### 🔄 Docling으로 PDF --> 마크다운 변환하기"
   ]
  },
  {
   "cell_type": "code",
   "execution_count": null,
   "id": "069de7e4",
   "metadata": {},
   "outputs": [],
   "source": [
    "from docling.document_converter import DocumentConverter\n",
    "\n",
    "source = \"data/국가별 공공부문 AI 도입 및 활용 전략.pdf\"  # document per local path or URL\n",
    "converter = DocumentConverter()\n",
    "result = converter.convert(source)\n",
    "result_document = result.document.export_to_markdown()"
   ]
  },
  {
   "cell_type": "markdown",
   "id": "60970f5a",
   "metadata": {},
   "source": [
    "#### Markdown Header를 기준으로 Parent Chunking하기"
   ]
  },
  {
   "cell_type": "code",
   "execution_count": null,
   "id": "0ffeaf56",
   "metadata": {},
   "outputs": [],
   "source": [
    "from langchain_text_splitters import MarkdownHeaderTextSplitter\n",
    "\n",
    "# 헤더 정의 (헤더 레벨과 메타데이터 키 이름)\n",
    "headers_to_split_on = [\n",
    "    (\"#\", \"Header 1\"),\n",
    "    (\"##\", \"Header 2\"),\n",
    "    (\"###\", \"Header 3\"),\n",
    "    (\"####\", \"Header 4\"),\n",
    "]\n",
    "\n",
    "# Markdown 헤더 기준 분할기 정의\n",
    "markdown_splitter = MarkdownHeaderTextSplitter(\n",
    "    headers_to_split_on=headers_to_split_on\n",
    ")\n",
    "\n",
    "# 1단계: 헤더 기준으로 문서 분할\n",
    "header_splits = markdown_splitter.split_text(result_document)\n",
    "print([len(split.page_content) for split in header_splits])"
   ]
  },
  {
   "cell_type": "markdown",
   "id": "c83196c6",
   "metadata": {},
   "source": [
    "#### ParentDocumentRetriever 구성하기"
   ]
  },
  {
   "cell_type": "code",
   "execution_count": null,
   "id": "b0b7c5e6",
   "metadata": {},
   "outputs": [],
   "source": [
    "from langchain_ollama import OllamaEmbeddings\n",
    "from langchain_qdrant import QdrantVectorStore\n",
    "from qdrant_client import QdrantClient\n",
    "from qdrant_client.http.models import Distance, VectorParams\n",
    "from langchain.storage import InMemoryStore\n",
    "from langchain.retrievers import ParentDocumentRetriever\n",
    "from langchain_text_splitters import RecursiveCharacterTextSplitter\n",
    "\n",
    "embeddings = OllamaEmbeddings(model=\"bge-m3\")\n",
    "\n",
    "client = QdrantClient(\":memory:\")\n",
    "# 벡터 저장소 초기화\n",
    "client.create_collection(\n",
    "    collection_name=\"hierarchical_chunks_markdown\",\n",
    "    vectors_config=VectorParams(size=1024, distance=Distance.COSINE),\n",
    ")\n",
    "\n",
    "vector_store = QdrantVectorStore(\n",
    "    client=client,\n",
    "    collection_name=\"hierarchical_chunks_markdown\",\n",
    "    embedding=embeddings,\n",
    ")\n",
    "\n",
    "# 2단계: 각 헤더 섹션을 더 작은 청크로 분할\n",
    "md_child_splitter = RecursiveCharacterTextSplitter(\n",
    "    chunk_size=500,\n",
    "    chunk_overlap=30,\n",
    "    length_function=len\n",
    ")\n",
    "\n",
    "# 부모 문서 저장소 초기화 (Markdown용)\n",
    "md_store = InMemoryStore()\n",
    "\n",
    "# ParentDocumentRetriever 설정 (Markdown용)\n",
    "md_retriever = ParentDocumentRetriever(\n",
    "    vectorstore=vector_store,\n",
    "    docstore=md_store,\n",
    "    child_splitter=md_child_splitter,\n",
    "    parent_splitter=None,  # 이미 헤더로 분할했으므로 부모 분할기는 필요 없음\n",
    "    search_kwargs={\"k\": 5}\n",
    ")\n",
    "\n",
    "# 문서 추가 - 헤더로 분할된 문서를 부모 문서로 사용\n",
    "md_retriever.add_documents(header_splits)"
   ]
  },
  {
   "cell_type": "markdown",
   "id": "1776106d",
   "metadata": {},
   "source": [
    "#### Child Chunk를 VectorDB에서 검색해보기"
   ]
  },
  {
   "cell_type": "code",
   "execution_count": null,
   "id": "9cf76b4e",
   "metadata": {},
   "outputs": [],
   "source": [
    "sub_docs=vector_store.similarity_search(\"영국 중앙 디지털데이터청(CDDO)의 역할과 그 전략적 파트너 기관은 누구이며, 함께 수립한 전략의 주요 목표는 무엇인가?\")\n",
    "print([len(doc.page_content) for doc in sub_docs])\n",
    "print('\\n'.join([doc.page_content for doc in sub_docs]))"
   ]
  },
  {
   "cell_type": "markdown",
   "id": "729f73f3",
   "metadata": {},
   "source": [
    "#### ParentDocumentRetriever로 문서 검색해보기"
   ]
  },
  {
   "cell_type": "code",
   "execution_count": null,
   "id": "9121307f",
   "metadata": {},
   "outputs": [],
   "source": [
    "retrieved_docs=md_retriever.invoke(\"대한민국 공공부문에서 초거대 AI의 실질적 도입을 가능하게 하는 인프라, 거버넌스, 실행계획은 어떻게 유기적으로 연계되어 있는가?\")\n",
    "print([len(doc.page_content) for doc in retrieved_docs])\n",
    "print('\\n'.join([doc.page_content for doc in retrieved_docs]))"
   ]
  },
  {
   "cell_type": "code",
   "execution_count": null,
   "id": "c849cb2d",
   "metadata": {},
   "outputs": [],
   "source": [
    "[doc.metadata for doc in retrieved_docs]"
   ]
  }
 ],
 "metadata": {
  "kernelspec": {
   "display_name": "rag-guide-1QRpMmrn-py3.11",
   "language": "python",
   "name": "python3"
  },
  "language_info": {
   "codemirror_mode": {
    "name": "ipython",
    "version": 3
   },
   "file_extension": ".py",
   "mimetype": "text/x-python",
   "name": "python",
   "nbconvert_exporter": "python",
   "pygments_lexer": "ipython3",
   "version": "3.11.9"
  }
 },
 "nbformat": 4,
 "nbformat_minor": 5
}
